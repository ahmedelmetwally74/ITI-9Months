{
 "cells": [
  {
   "cell_type": "markdown",
   "id": "happy-roulette",
   "metadata": {},
   "source": [
    "# Notebook 10 - Data Visualization with Pandas\n",
    "\n",
    "<img src=\"https://raw.githubusercontent.com/fralfaro/DS-Cheat-Sheets/main/docs/examples/pandas/pandas.png\" alt=\"numpy logo\" width = \"300\">"
   ]
  },
  {
   "cell_type": "code",
   "execution_count": null,
   "id": "desperate-ranking",
   "metadata": {},
   "outputs": [],
   "source": [
    "import matplotlib.pyplot as plt\n",
    "import numpy as np\n",
    "import pandas as pd"
   ]
  },
  {
   "cell_type": "code",
   "execution_count": null,
   "id": "dietary-chemical",
   "metadata": {},
   "outputs": [],
   "source": [
    "%matplotlib inline"
   ]
  },
  {
   "cell_type": "code",
   "execution_count": null,
   "id": "architectural-university",
   "metadata": {},
   "outputs": [],
   "source": [
    "plt.style.use(\"fivethirtyeight\")"
   ]
  },
  {
   "cell_type": "markdown",
   "id": "adjacent-ground",
   "metadata": {},
   "source": [
    "## Plotting graph with plot() method"
   ]
  },
  {
   "cell_type": "code",
   "execution_count": null,
   "id": "expired-nickel",
   "metadata": {},
   "outputs": [],
   "source": [
    "data=pd.Series(np.random.randn(1000).cumsum())"
   ]
  },
  {
   "cell_type": "code",
   "execution_count": null,
   "id": "f6774570",
   "metadata": {},
   "outputs": [],
   "source": [
    "data"
   ]
  },
  {
   "cell_type": "markdown",
   "id": "c69121dc",
   "metadata": {},
   "source": [
    "## line plot"
   ]
  },
  {
   "cell_type": "code",
   "execution_count": null,
   "id": "effective-training",
   "metadata": {},
   "outputs": [],
   "source": [
    "data.plot()"
   ]
  },
  {
   "cell_type": "code",
   "execution_count": null,
   "id": "refined-brass",
   "metadata": {},
   "outputs": [],
   "source": [
    "df1 = pd.DataFrame(np.random.randn(100, 4),columns=list('ABCD'))"
   ]
  },
  {
   "cell_type": "code",
   "execution_count": null,
   "id": "d983a576",
   "metadata": {},
   "outputs": [],
   "source": [
    "df1"
   ]
  },
  {
   "cell_type": "code",
   "execution_count": null,
   "id": "fluid-figure",
   "metadata": {},
   "outputs": [],
   "source": [
    "df1 = df1.cumsum()"
   ]
  },
  {
   "cell_type": "code",
   "execution_count": null,
   "id": "9f6768df",
   "metadata": {},
   "outputs": [],
   "source": [
    "df1"
   ]
  },
  {
   "cell_type": "code",
   "execution_count": null,
   "id": "tracked-creativity",
   "metadata": {},
   "outputs": [],
   "source": [
    "df1.plot()"
   ]
  },
  {
   "cell_type": "markdown",
   "id": "endangered-fountain",
   "metadata": {},
   "source": [
    "## Bar Charts"
   ]
  },
  {
   "cell_type": "code",
   "execution_count": null,
   "id": "typical-simulation",
   "metadata": {},
   "outputs": [],
   "source": [
    "df1.iloc[10].plot(kind='bar')"
   ]
  },
  {
   "cell_type": "code",
   "execution_count": null,
   "id": "worst-atlas",
   "metadata": {},
   "outputs": [],
   "source": [
    "df1.iloc[10].plot.bar()"
   ]
  },
  {
   "cell_type": "code",
   "execution_count": null,
   "id": "quick-bronze",
   "metadata": {},
   "outputs": [],
   "source": [
    "df2=pd.DataFrame(np.random.rand(7,3), columns=list(\"ABC\"))"
   ]
  },
  {
   "cell_type": "code",
   "execution_count": null,
   "id": "53cf668c",
   "metadata": {},
   "outputs": [],
   "source": [
    "df2"
   ]
  },
  {
   "cell_type": "code",
   "execution_count": null,
   "id": "comparative-seeking",
   "metadata": {},
   "outputs": [],
   "source": [
    "df2.plot.bar()"
   ]
  },
  {
   "cell_type": "code",
   "execution_count": null,
   "id": "hungry-might",
   "metadata": {},
   "outputs": [],
   "source": [
    "df2.plot.bar(stacked=True)"
   ]
  },
  {
   "cell_type": "code",
   "execution_count": null,
   "id": "scenic-headquarters",
   "metadata": {},
   "outputs": [],
   "source": [
    "df2.plot.barh(stacked=True)"
   ]
  },
  {
   "cell_type": "markdown",
   "id": "referenced-gospel",
   "metadata": {},
   "source": [
    "## Histograms"
   ]
  },
  {
   "cell_type": "code",
   "execution_count": null,
   "id": "equivalent-registration",
   "metadata": {},
   "outputs": [],
   "source": [
    "iris=pd.read_csv(\"Data/iris.data\", header=None)\n",
    "iris.columns=[\"sepal_length\",\"sepal_width\", \"petal_length\", \n",
    "              \"petal_width\", \"species\"]"
   ]
  },
  {
   "cell_type": "markdown",
   "id": "postal-pavilion",
   "metadata": {},
   "source": [
    "You can access this data set [here](https://github.com/tirendazacademy/data-visualization-with-python)."
   ]
  },
  {
   "cell_type": "code",
   "execution_count": null,
   "id": "quality-police",
   "metadata": {},
   "outputs": [],
   "source": [
    "iris.head()"
   ]
  },
  {
   "cell_type": "code",
   "execution_count": null,
   "id": "everyday-august",
   "metadata": {},
   "outputs": [],
   "source": [
    "iris.plot.hist(alpha=0.7)"
   ]
  },
  {
   "cell_type": "code",
   "execution_count": null,
   "id": "assured-application",
   "metadata": {},
   "outputs": [],
   "source": [
    "iris.plot.hist(alpha=1, stacked=True)"
   ]
  },
  {
   "cell_type": "code",
   "execution_count": null,
   "id": "opened-platinum",
   "metadata": {},
   "outputs": [],
   "source": [
    "bins=25"
   ]
  },
  {
   "cell_type": "code",
   "execution_count": null,
   "id": "tender-formula",
   "metadata": {},
   "outputs": [],
   "source": [
    "iris.plot.hist(alpha=1, stacked=True, bins=25)"
   ]
  },
  {
   "cell_type": "code",
   "execution_count": null,
   "id": "conditional-forwarding",
   "metadata": {},
   "outputs": [],
   "source": [
    "iris[\"sepal_width\"].plot.hist(orientation=\"horizontal\")"
   ]
  },
  {
   "cell_type": "code",
   "execution_count": null,
   "id": "virtual-organizer",
   "metadata": {},
   "outputs": [],
   "source": [
    "iris[\"sepal_length\"].diff().hist()"
   ]
  },
  {
   "cell_type": "code",
   "execution_count": null,
   "id": "protected-botswana",
   "metadata": {},
   "outputs": [],
   "source": [
    "iris.hist(color=\"blue\", alpha=1, bins=20)"
   ]
  },
  {
   "cell_type": "code",
   "execution_count": null,
   "id": "empty-guyana",
   "metadata": {},
   "outputs": [],
   "source": [
    "iris.hist(\"petal_length\",by=\"species\")"
   ]
  },
  {
   "cell_type": "markdown",
   "id": "blessed-decade",
   "metadata": {},
   "source": [
    "## Boxplot charts"
   ]
  },
  {
   "cell_type": "code",
   "execution_count": null,
   "id": "iraqi-jonathan",
   "metadata": {},
   "outputs": [],
   "source": [
    "iris.plot.box() "
   ]
  },
  {
   "cell_type": "code",
   "execution_count": null,
   "id": "usual-chase",
   "metadata": {},
   "outputs": [],
   "source": [
    "colors={'boxes': 'Red', 'whiskers': 'blue','medians': 'Black', 'caps': 'Green'}"
   ]
  },
  {
   "cell_type": "code",
   "execution_count": null,
   "id": "portuguese-village",
   "metadata": {},
   "outputs": [],
   "source": [
    "iris.plot.box(color=colors)"
   ]
  },
  {
   "cell_type": "code",
   "execution_count": null,
   "id": "contrary-country",
   "metadata": {},
   "outputs": [],
   "source": [
    "iris.plot.box(vert=False)"
   ]
  },
  {
   "cell_type": "code",
   "execution_count": null,
   "id": "behind-sussex",
   "metadata": {},
   "outputs": [],
   "source": [
    "iris.boxplot()"
   ]
  }
 ],
 "metadata": {
  "kernelspec": {
   "display_name": "Python 3 (ipykernel)",
   "language": "python",
   "name": "python3"
  },
  "language_info": {
   "codemirror_mode": {
    "name": "ipython",
    "version": 3
   },
   "file_extension": ".py",
   "mimetype": "text/x-python",
   "name": "python",
   "nbconvert_exporter": "python",
   "pygments_lexer": "ipython3",
   "version": "3.11.4"
  }
 },
 "nbformat": 4,
 "nbformat_minor": 5
}
