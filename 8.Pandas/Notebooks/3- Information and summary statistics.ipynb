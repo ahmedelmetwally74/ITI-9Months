{
 "cells": [
  {
   "cell_type": "markdown",
   "id": "ae90d978",
   "metadata": {
    "id": "ae90d978"
   },
   "source": [
    "# Notebook 3- Information and summary statistics\n",
    "\n",
    "<img src=\"https://raw.githubusercontent.com/fralfaro/DS-Cheat-Sheets/main/docs/examples/pandas/pandas.png\" alt=\"numpy logo\" width = \"300\">\n"
   ]
  },
  {
   "cell_type": "markdown",
   "id": "5316ae42",
   "metadata": {},
   "source": [
    "## Import Pandas"
   ]
  },
  {
   "cell_type": "code",
   "execution_count": null,
   "id": "805a07df",
   "metadata": {
    "id": "805a07df"
   },
   "outputs": [],
   "source": [
    "# Import Pandas and numpy\n",
    "import pandas as pd\n",
    "import numpy as np"
   ]
  },
  {
   "cell_type": "markdown",
   "id": "19c0ad57",
   "metadata": {
    "id": "19c0ad57"
   },
   "source": [
    "## Basic Information\n"
   ]
  },
  {
   "cell_type": "code",
   "execution_count": null,
   "id": "998666f1",
   "metadata": {},
   "outputs": [],
   "source": [
    "# load data"
   ]
  },
  {
   "cell_type": "code",
   "execution_count": null,
   "id": "af610209",
   "metadata": {},
   "outputs": [],
   "source": [
    "from sklearn.datasets import load_iris\n",
    "iris = load_iris()\n",
    "df4 = pd.DataFrame(iris.data, columns=[iris.feature_names])"
   ]
  },
  {
   "cell_type": "code",
   "execution_count": null,
   "id": "4c39f660",
   "metadata": {},
   "outputs": [],
   "source": [
    "print(\"Example DataFrame:\")\n",
    "df4"
   ]
  },
  {
   "cell_type": "code",
   "execution_count": null,
   "id": "216c415a",
   "metadata": {},
   "outputs": [],
   "source": [
    "df4.head()"
   ]
  },
  {
   "cell_type": "code",
   "execution_count": null,
   "id": "ac554162",
   "metadata": {},
   "outputs": [],
   "source": [
    "df4.head(10)"
   ]
  },
  {
   "cell_type": "code",
   "execution_count": null,
   "id": "f710eb40",
   "metadata": {},
   "outputs": [],
   "source": [
    "df4.tail()"
   ]
  },
  {
   "cell_type": "code",
   "execution_count": null,
   "id": "5028d138",
   "metadata": {
    "id": "5028d138",
    "outputId": "3d2ad96e-e36f-4001-879e-e02518c46a7a"
   },
   "outputs": [],
   "source": [
    "# Get the shape (rows, columns)\n",
    "df4.shape"
   ]
  },
  {
   "cell_type": "code",
   "execution_count": null,
   "id": "dab599a3",
   "metadata": {
    "id": "dab599a3",
    "outputId": "b50c7d7b-8dae-45d8-846e-20eaa1eabffd"
   },
   "outputs": [],
   "source": [
    "# Describe index\n",
    "df4.index"
   ]
  },
  {
   "cell_type": "code",
   "execution_count": null,
   "id": "96da4563",
   "metadata": {
    "id": "96da4563",
    "outputId": "279edd89-43bc-483e-88c6-52b11f4f0d8e",
    "scrolled": true
   },
   "outputs": [],
   "source": [
    "# Describe DataFrame columns\n",
    "df4.columns"
   ]
  },
  {
   "cell_type": "code",
   "execution_count": null,
   "id": "60a84984",
   "metadata": {},
   "outputs": [],
   "source": [
    "# What type of data does each column currently hold?\n",
    "df4.dtypes"
   ]
  },
  {
   "cell_type": "code",
   "execution_count": null,
   "id": "695b930a",
   "metadata": {
    "id": "695b930a",
    "outputId": "89cfabe6-04f2-4bb1-8080-a5e7a7d6ddc5"
   },
   "outputs": [],
   "source": [
    "# Info on DataFrame\n",
    "df4.info()"
   ]
  },
  {
   "cell_type": "code",
   "execution_count": null,
   "id": "be231fa8",
   "metadata": {
    "id": "be231fa8",
    "outputId": "a4d334ee-f707-4650-981e-8e8a771eba10"
   },
   "outputs": [],
   "source": [
    "# Number of non-NA values\n",
    "df4.count()"
   ]
  },
  {
   "cell_type": "markdown",
   "id": "5e534cba",
   "metadata": {
    "id": "5e534cba"
   },
   "source": [
    "## Basic calculations"
   ]
  },
  {
   "cell_type": "code",
   "execution_count": null,
   "id": "12d38b33",
   "metadata": {
    "id": "5a8429aa",
    "outputId": "717fd78d-2fab-4c9a-a484-bdbe24729705"
   },
   "outputs": [],
   "source": [
    "# Sum of values\n",
    "sum_values = df4['sepal length (cm)'].sum()"
   ]
  },
  {
   "cell_type": "code",
   "execution_count": null,
   "id": "ddadc39d",
   "metadata": {},
   "outputs": [],
   "source": [
    "print(\"\\nSum of values:\")\n",
    "print(sum_values)"
   ]
  },
  {
   "cell_type": "code",
   "execution_count": null,
   "id": "d5bcba80",
   "metadata": {},
   "outputs": [],
   "source": [
    "# Cumulative sum of values\n",
    "cumulative_sum_values = df4['sepal length (cm)'].cumsum()"
   ]
  },
  {
   "cell_type": "code",
   "execution_count": null,
   "id": "ca7ce227",
   "metadata": {},
   "outputs": [],
   "source": [
    "print(\"\\nCumulative sum of values:\")\n",
    "print(cumulative_sum_values)"
   ]
  },
  {
   "cell_type": "code",
   "execution_count": null,
   "id": "39720238",
   "metadata": {},
   "outputs": [],
   "source": [
    "# Minimum/maximum values\n",
    "min_values = df4['sepal length (cm)'].min()\n",
    "max_values = df4['sepal length (cm)'].max()"
   ]
  },
  {
   "cell_type": "code",
   "execution_count": null,
   "id": "6568bb9e",
   "metadata": {},
   "outputs": [],
   "source": [
    "print(\"\\nMinimum values:\")\n",
    "print(min_values)"
   ]
  },
  {
   "cell_type": "code",
   "execution_count": null,
   "id": "0f33d00d",
   "metadata": {},
   "outputs": [],
   "source": [
    "print(\"\\nMaximum values:\")\n",
    "print(max_values)"
   ]
  },
  {
   "cell_type": "code",
   "execution_count": null,
   "id": "9bdd05b8",
   "metadata": {},
   "outputs": [],
   "source": [
    "\n",
    "# Index of minimum/maximum values\n",
    "idx_min_values = df4['sepal length (cm)'].idxmin()\n",
    "idx_max_values = df4['sepal length (cm)'].idxmax()"
   ]
  },
  {
   "cell_type": "code",
   "execution_count": null,
   "id": "1c0244ea",
   "metadata": {},
   "outputs": [],
   "source": [
    "print(\"\\nIndex of minimum values:\")\n",
    "print(idx_min_values)"
   ]
  },
  {
   "cell_type": "code",
   "execution_count": null,
   "id": "97a0c97e",
   "metadata": {},
   "outputs": [],
   "source": [
    "print(\"\\nIndex of maximum values:\")\n",
    "print(idx_max_values)"
   ]
  },
  {
   "cell_type": "markdown",
   "id": "7b97a720",
   "metadata": {},
   "source": [
    "---"
   ]
  },
  {
   "cell_type": "markdown",
   "id": "178489d2",
   "metadata": {},
   "source": [
    "## Summary"
   ]
  },
  {
   "cell_type": "markdown",
   "id": "3e3524f7",
   "metadata": {},
   "source": [
    "<img src=\"https://sp-ao.shortpixel.ai/client/to_auto,q_lossless,ret_img,w_885,h_517/https://dataindependent.com/wp-content/uploads/2021/12/Screen-Shot-2020-09-09-at-7.13.22-AM.png\" width = 500>"
   ]
  },
  {
   "cell_type": "markdown",
   "id": "9cf3eb53",
   "metadata": {},
   "source": [
    "---"
   ]
  },
  {
   "cell_type": "markdown",
   "id": "2252f27f",
   "metadata": {},
   "source": [
    "<img src=\"https://i.pinimg.com/originals/7d/77/ef/7d77ef826c45610ca025db0fd472707f.jpg\" width = 500>"
   ]
  },
  {
   "cell_type": "markdown",
   "id": "df4e3bb7",
   "metadata": {},
   "source": [
    "---"
   ]
  },
  {
   "cell_type": "markdown",
   "id": "a06bbcab",
   "metadata": {},
   "source": [
    "<img src=\"https://i.ytimg.com/vi/IaTFpp-uzp0/maxresdefault.jpg\" width = 500>"
   ]
  },
  {
   "cell_type": "markdown",
   "id": "c67ef2ae",
   "metadata": {},
   "source": [
    "---"
   ]
  },
  {
   "cell_type": "markdown",
   "id": "473076e7",
   "metadata": {},
   "source": [
    "<img src=\"https://data36.com/wp-content/uploads/2020/03/statistical-variability-measure-percentile-1024x349.png\" width = 500>"
   ]
  },
  {
   "cell_type": "markdown",
   "id": "0653b5a4",
   "metadata": {},
   "source": [
    "---"
   ]
  },
  {
   "cell_type": "code",
   "execution_count": null,
   "id": "2d1ee225",
   "metadata": {},
   "outputs": [],
   "source": [
    "# Summary statistics\n",
    "summary_stats = df4.describe()"
   ]
  },
  {
   "cell_type": "code",
   "execution_count": null,
   "id": "af1878de",
   "metadata": {},
   "outputs": [],
   "source": [
    "print(\"\\nSummary statistics:\")\n",
    "print(summary_stats)"
   ]
  },
  {
   "cell_type": "code",
   "execution_count": null,
   "id": "070cd675",
   "metadata": {},
   "outputs": [],
   "source": [
    "# Mean of values\n",
    "mean_values = df4[\"sepal length (cm)\"].mean()"
   ]
  },
  {
   "cell_type": "code",
   "execution_count": null,
   "id": "5b630625",
   "metadata": {},
   "outputs": [],
   "source": [
    "print(\"\\nMean values:\")\n",
    "print(mean_values)"
   ]
  },
  {
   "cell_type": "code",
   "execution_count": null,
   "id": "60c2aa26",
   "metadata": {},
   "outputs": [],
   "source": [
    "# Median of values\n",
    "median_values = df4['sepal length (cm)'].median()"
   ]
  },
  {
   "cell_type": "code",
   "execution_count": null,
   "id": "5b9febeb",
   "metadata": {
    "scrolled": true
   },
   "outputs": [],
   "source": [
    "print(\"\\nMedian values:\")\n",
    "print(median_values)"
   ]
  },
  {
   "cell_type": "code",
   "execution_count": null,
   "id": "c4dc6f58",
   "metadata": {},
   "outputs": [],
   "source": [
    "df4.mean(axis = 0)"
   ]
  },
  {
   "cell_type": "code",
   "execution_count": null,
   "id": "3ec9d465",
   "metadata": {
    "scrolled": true
   },
   "outputs": [],
   "source": [
    "df4.mean(axis = 1)"
   ]
  },
  {
   "cell_type": "code",
   "execution_count": null,
   "id": "4d4e666f",
   "metadata": {},
   "outputs": [],
   "source": [
    "df4"
   ]
  },
  {
   "cell_type": "code",
   "execution_count": null,
   "id": "a78bb43c",
   "metadata": {},
   "outputs": [],
   "source": [
    "df4.corr()"
   ]
  },
  {
   "cell_type": "code",
   "execution_count": null,
   "id": "a6078898",
   "metadata": {
    "scrolled": true
   },
   "outputs": [],
   "source": [
    "df4.cov()"
   ]
  },
  {
   "cell_type": "code",
   "execution_count": null,
   "id": "f45f766c",
   "metadata": {},
   "outputs": [],
   "source": []
  },
  {
   "cell_type": "code",
   "execution_count": null,
   "id": "56d6bc57",
   "metadata": {},
   "outputs": [],
   "source": []
  }
 ],
 "metadata": {
  "colab": {
   "provenance": []
  },
  "kernelspec": {
   "display_name": "Python 3 (ipykernel)",
   "language": "python",
   "name": "python3"
  },
  "language_info": {
   "codemirror_mode": {
    "name": "ipython",
    "version": 3
   },
   "file_extension": ".py",
   "mimetype": "text/x-python",
   "name": "python",
   "nbconvert_exporter": "python",
   "pygments_lexer": "ipython3",
   "version": "3.11.4"
  }
 },
 "nbformat": 4,
 "nbformat_minor": 5
}
