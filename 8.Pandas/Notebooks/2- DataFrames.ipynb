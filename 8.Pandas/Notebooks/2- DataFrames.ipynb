{
 "cells": [
  {
   "cell_type": "markdown",
   "id": "ae90d978",
   "metadata": {
    "id": "ae90d978"
   },
   "source": [
    "# Notebook 2- Pandas DataFrames\n",
    "\n",
    "<img src=\"https://raw.githubusercontent.com/fralfaro/DS-Cheat-Sheets/main/docs/examples/pandas/pandas.png\" alt=\"numpy logo\" width = \"300\">\n"
   ]
  },
  {
   "cell_type": "markdown",
   "id": "5316ae42",
   "metadata": {},
   "source": [
    "## Import Pandas"
   ]
  },
  {
   "cell_type": "code",
   "execution_count": null,
   "id": "805a07df",
   "metadata": {
    "id": "805a07df"
   },
   "outputs": [],
   "source": [
    "# Import Pandas and numpy\n",
    "import pandas as pd\n",
    "import numpy as np"
   ]
  },
  {
   "cell_type": "markdown",
   "id": "feba27ca",
   "metadata": {
    "id": "feba27ca"
   },
   "source": [
    "**DataFrame**\n",
    "\n",
    "<img src=\"https://raw.githubusercontent.com/fralfaro/DS-Cheat-Sheets/main/docs/examples/pandas/df.png\" alt=\"numpy logo\" >\n",
    "\n",
    "**two-dimensional** labeled data structure with columns of potentially different types."
   ]
  },
  {
   "cell_type": "markdown",
   "id": "4c247de6",
   "metadata": {},
   "source": [
    "## **Axis attribute**\n",
    "\n",
    "<img src=\"https://i.stack.imgur.com/dcoE3.jpg\">\n"
   ]
  },
  {
   "cell_type": "markdown",
   "id": "4f338bbc",
   "metadata": {},
   "source": [
    "## the first running vertically downwards across rows (axis 0)\n",
    "\n",
    "## and the second running horizontally across columns (axis 1)."
   ]
  },
  {
   "cell_type": "code",
   "execution_count": null,
   "id": "7bcbaad2",
   "metadata": {
    "id": "7bcbaad2",
    "outputId": "989371e3-c434-4ed2-c95a-9f7c2bc7a7a1"
   },
   "outputs": [],
   "source": [
    "# Create a pandas DataFrame\n",
    "data = {\n",
    "    'Country': ['Belgium', 'India', 'Brazil'],\n",
    "    'Capital': ['Brussels', 'New Delhi', 'Brasília'],\n",
    "    'Population': [11190846, 1303171035, 207847528]\n",
    "}\n",
    "df = pd.DataFrame(\n",
    "    data,\n",
    "    columns=['Country', 'Capital', 'Population']\n",
    ")\n",
    "\n",
    "# Print the DataFrame 'df'\n",
    "print(\"\\ndf:\")\n",
    "df"
   ]
  },
  {
   "cell_type": "markdown",
   "id": "4f0980ce",
   "metadata": {
    "id": "4f0980ce"
   },
   "source": [
    "## Getting Elements\n"
   ]
  },
  {
   "cell_type": "code",
   "execution_count": null,
   "id": "9d5a3e65",
   "metadata": {
    "scrolled": true
   },
   "outputs": [],
   "source": [
    "df.Country"
   ]
  },
  {
   "cell_type": "code",
   "execution_count": null,
   "id": "8066dfc9",
   "metadata": {},
   "outputs": [],
   "source": [
    "df[\"Country\"]"
   ]
  },
  {
   "cell_type": "code",
   "execution_count": null,
   "id": "38ee66cc",
   "metadata": {},
   "outputs": [],
   "source": [
    "df[[\"Country\"]]"
   ]
  },
  {
   "cell_type": "code",
   "execution_count": null,
   "id": "008247fa",
   "metadata": {},
   "outputs": [],
   "source": [
    "df[[\"Country\", \"Capital\"]]"
   ]
  },
  {
   "cell_type": "code",
   "execution_count": null,
   "id": "ab5893b3",
   "metadata": {
    "id": "ab5893b3",
    "outputId": "b72fc554-e23d-4fba-fec8-25775147fcd5"
   },
   "outputs": [],
   "source": [
    "# Get subset of a DataFrame\n",
    "df[1:]"
   ]
  },
  {
   "cell_type": "markdown",
   "id": "a98d8784",
   "metadata": {},
   "source": [
    "## Loc vs iloc"
   ]
  },
  {
   "cell_type": "markdown",
   "id": "6046b183",
   "metadata": {},
   "source": [
    "<img src=\"https://miro.medium.com/v2/resize:fit:1400/1*I2PXtq9CHadRlLuM4numUw.png\" width = 500>"
   ]
  },
  {
   "cell_type": "markdown",
   "id": "f9db598f",
   "metadata": {},
   "source": [
    "## iloc"
   ]
  },
  {
   "cell_type": "code",
   "execution_count": null,
   "id": "22ab8f40",
   "metadata": {},
   "outputs": [],
   "source": [
    "df.iloc[0:2,[0]]"
   ]
  },
  {
   "cell_type": "code",
   "execution_count": null,
   "id": "19e43639",
   "metadata": {
    "id": "19e43639",
    "outputId": "25445333-885d-4c5a-f868-62df72d3d784",
    "scrolled": true
   },
   "outputs": [],
   "source": [
    "df.iloc[[0],[0]]"
   ]
  },
  {
   "cell_type": "code",
   "execution_count": null,
   "id": "f5eb37a4",
   "metadata": {},
   "outputs": [],
   "source": [
    "df.iloc[0:2,0:2]"
   ]
  },
  {
   "cell_type": "markdown",
   "id": "d561b298",
   "metadata": {},
   "source": [
    "## loc"
   ]
  },
  {
   "cell_type": "code",
   "execution_count": null,
   "id": "7a1c5d55",
   "metadata": {
    "id": "7a1c5d55",
    "outputId": "bbe8491e-5b40-4f00-b537-0a58d1db2b6d",
    "scrolled": true
   },
   "outputs": [],
   "source": [
    "df.loc[[0], ['Country']]"
   ]
  },
  {
   "cell_type": "code",
   "execution_count": null,
   "id": "e1b983e8",
   "metadata": {
    "id": "e1b983e8",
    "outputId": "a04e912c-e3d5-469f-b4ed-9356282f8b04"
   },
   "outputs": [],
   "source": [
    "df.loc[2]"
   ]
  },
  {
   "cell_type": "code",
   "execution_count": null,
   "id": "cab4fc1e",
   "metadata": {
    "id": "cab4fc1e",
    "outputId": "bacf30b8-a7e6-44f2-b12e-435ed7c62492",
    "scrolled": true
   },
   "outputs": [],
   "source": [
    "df.loc[0:2,'Capital']"
   ]
  },
  {
   "cell_type": "code",
   "execution_count": null,
   "id": "3d73ecf6",
   "metadata": {},
   "outputs": [],
   "source": [
    "df.iloc[0:2, 1]"
   ]
  },
  {
   "cell_type": "markdown",
   "id": "930c72c5",
   "metadata": {},
   "source": [
    "## Filtering"
   ]
  },
  {
   "cell_type": "code",
   "execution_count": null,
   "id": "b16e5096",
   "metadata": {},
   "outputs": [],
   "source": [
    "df = pd.DataFrame({\n",
    "\n",
    "'name':['Jane','John','Ashley','Mike','Emily','Jack','Catlin'],\n",
    "'ctg':['A','A','C','B','B','C','B'],\n",
    "'val':np.random.random(7).round(2),\n",
    "'val2':np.random.randint(1,10, size=7)\n",
    "\n",
    "})"
   ]
  },
  {
   "cell_type": "code",
   "execution_count": null,
   "id": "d57d1b90",
   "metadata": {},
   "outputs": [],
   "source": [
    "df"
   ]
  },
  {
   "cell_type": "markdown",
   "id": "92deeb24",
   "metadata": {},
   "source": [
    "### 1. Logical Operators"
   ]
  },
  {
   "cell_type": "code",
   "execution_count": null,
   "id": "0899cbc4",
   "metadata": {},
   "outputs": [],
   "source": [
    "df[df.val > 0.5]"
   ]
  },
  {
   "cell_type": "code",
   "execution_count": null,
   "id": "01e0dbad",
   "metadata": {},
   "outputs": [],
   "source": [
    "df[df.name > 'Jane']"
   ]
  },
  {
   "cell_type": "markdown",
   "id": "c7da7297",
   "metadata": {},
   "source": [
    "### 2. Multiple Logical Operators"
   ]
  },
  {
   "cell_type": "code",
   "execution_count": null,
   "id": "6968f586",
   "metadata": {},
   "outputs": [],
   "source": [
    "df[(df.val > 0.5) & (df.val2 == 7)]"
   ]
  },
  {
   "cell_type": "code",
   "execution_count": null,
   "id": "8eb5e506",
   "metadata": {},
   "outputs": [],
   "source": [
    "df[(df.val < 0.5) | (df.val2 == 7)]"
   ]
  },
  {
   "cell_type": "markdown",
   "id": "16c9f959",
   "metadata": {},
   "source": [
    "### 3. Isin"
   ]
  },
  {
   "cell_type": "code",
   "execution_count": null,
   "id": "9e59bafd",
   "metadata": {
    "scrolled": true
   },
   "outputs": [],
   "source": [
    "names = ['John','Catlin','Mike']\n",
    "df[df.name.isin(names)]"
   ]
  },
  {
   "cell_type": "markdown",
   "id": "9bfcc84f",
   "metadata": {},
   "source": [
    "### 4. Str accessor"
   ]
  },
  {
   "cell_type": "code",
   "execution_count": null,
   "id": "7699c1aa",
   "metadata": {
    "scrolled": true
   },
   "outputs": [],
   "source": [
    "df[df.name.str.startswith('J')]"
   ]
  },
  {
   "cell_type": "markdown",
   "id": "114ce251",
   "metadata": {},
   "source": [
    "### 5. Tilde (~)"
   ]
  },
  {
   "cell_type": "code",
   "execution_count": null,
   "id": "0df18621",
   "metadata": {
    "scrolled": true
   },
   "outputs": [],
   "source": [
    "df[~df.name.str.contains('y')]"
   ]
  },
  {
   "cell_type": "markdown",
   "id": "34720b5a",
   "metadata": {},
   "source": [
    "### 6. Query"
   ]
  },
  {
   "cell_type": "code",
   "execution_count": null,
   "id": "d29dbbea",
   "metadata": {},
   "outputs": [],
   "source": [
    "df.query('ctg == \"B\" and val > 0.5')"
   ]
  },
  {
   "cell_type": "markdown",
   "id": "94685686",
   "metadata": {},
   "source": [
    "## Indexing"
   ]
  },
  {
   "cell_type": "code",
   "execution_count": null,
   "id": "16c3a709",
   "metadata": {},
   "outputs": [],
   "source": [
    "df.set_index(\"name\", drop=False)"
   ]
  },
  {
   "cell_type": "code",
   "execution_count": null,
   "id": "b09bd3c9",
   "metadata": {},
   "outputs": [],
   "source": [
    "df.set_index(\"name\", inplace=True)\n",
    "df"
   ]
  },
  {
   "cell_type": "code",
   "execution_count": null,
   "id": "f796dde6",
   "metadata": {
    "scrolled": true
   },
   "outputs": [],
   "source": [
    "df.reset_index(drop=False)"
   ]
  },
  {
   "cell_type": "code",
   "execution_count": null,
   "id": "1761f8cd",
   "metadata": {},
   "outputs": [],
   "source": [
    "df.reset_index(drop=True)"
   ]
  },
  {
   "cell_type": "markdown",
   "id": "bfee4693",
   "metadata": {
    "id": "bfee4693"
   },
   "source": [
    "## Dropping\n"
   ]
  },
  {
   "cell_type": "code",
   "execution_count": null,
   "id": "49d8141a",
   "metadata": {},
   "outputs": [],
   "source": [
    "# Create a pandas DataFrame\n",
    "data = {\n",
    "    'Country': ['Belgium', 'India', 'Brazil'],\n",
    "    'Capital': ['Brussels', 'New Delhi', 'Brasília'],\n",
    "    'Population': [11190846, 1303171035, 207847528]\n",
    "}\n",
    "df = pd.DataFrame(\n",
    "    data,\n",
    "    columns=['Country', 'Capital', 'Population']\n",
    ")\n",
    "\n",
    "# Print the DataFrame 'df'\n",
    "print(\"\\ndf:\")\n",
    "df"
   ]
  },
  {
   "cell_type": "code",
   "execution_count": null,
   "id": "4a8f5162",
   "metadata": {
    "id": "4a8f5162",
    "outputId": "ed892dbf-e03d-4c1c-db59-bad117e02e47"
   },
   "outputs": [],
   "source": [
    "# Drop values from columns (axis=1)\n",
    "df.drop('Country', axis=1)"
   ]
  },
  {
   "cell_type": "code",
   "execution_count": null,
   "id": "de1d0929",
   "metadata": {},
   "outputs": [],
   "source": [
    "# Drop values from Rows (axis=0)\n",
    "df.drop(0, axis=0)"
   ]
  },
  {
   "cell_type": "markdown",
   "id": "9c8c241f",
   "metadata": {
    "id": "9c8c241f"
   },
   "source": [
    "## Sorting\n"
   ]
  },
  {
   "cell_type": "code",
   "execution_count": null,
   "id": "1fb2c7dc",
   "metadata": {},
   "outputs": [],
   "source": [
    "df2 =pd.read_csv(\"Data/vgsalesGlobale.csv\")"
   ]
  },
  {
   "cell_type": "code",
   "execution_count": null,
   "id": "09d2c504",
   "metadata": {},
   "outputs": [],
   "source": [
    "df2"
   ]
  },
  {
   "cell_type": "code",
   "execution_count": null,
   "id": "920604d0",
   "metadata": {
    "id": "920604d0",
    "outputId": "9035574b-4299-4d76-ff19-b5d0cc25ae99",
    "scrolled": true
   },
   "outputs": [],
   "source": [
    "# Sort by labels along an axis\n",
    "df2.sort_index(ascending= False)"
   ]
  },
  {
   "cell_type": "code",
   "execution_count": null,
   "id": "6443b006",
   "metadata": {},
   "outputs": [],
   "source": [
    "# Sort by labels along an axis\n",
    "df2.sort_index(axis = 1)"
   ]
  },
  {
   "cell_type": "code",
   "execution_count": null,
   "id": "555e9a3e",
   "metadata": {
    "id": "555e9a3e",
    "outputId": "b85076b8-cfdd-4f91-a634-5e24a47c5f94"
   },
   "outputs": [],
   "source": [
    "# Sort by the values along an axis\n",
    "df2.sort_values(\"Name\")"
   ]
  },
  {
   "cell_type": "code",
   "execution_count": null,
   "id": "3a1e68cf",
   "metadata": {
    "scrolled": true
   },
   "outputs": [],
   "source": [
    "df2.sort_values(\"Year\")"
   ]
  },
  {
   "cell_type": "code",
   "execution_count": null,
   "id": "2dd66bf0",
   "metadata": {},
   "outputs": [],
   "source": [
    "df2[[\"Genre\",\"Year\"]].sort_values([\"Genre\",\"Year\"], ascending=True)"
   ]
  },
  {
   "cell_type": "markdown",
   "id": "0621d7dc",
   "metadata": {},
   "source": [
    "## Ranking"
   ]
  },
  {
   "cell_type": "code",
   "execution_count": null,
   "id": "44c5c642",
   "metadata": {},
   "outputs": [],
   "source": [
    "df"
   ]
  },
  {
   "cell_type": "code",
   "execution_count": null,
   "id": "555d69ea",
   "metadata": {
    "id": "555d69ea",
    "outputId": "d8fc3601-a263-4eea-e1c7-2a4a4c8b9232",
    "scrolled": true
   },
   "outputs": [],
   "source": [
    "# Assign ranks to entries\n",
    "df.rank(ascending=True)"
   ]
  },
  {
   "cell_type": "code",
   "execution_count": null,
   "id": "38a52e3f",
   "metadata": {},
   "outputs": [],
   "source": [
    "# Assign ranks to entries\n",
    "df.rank(ascending=False)"
   ]
  },
  {
   "cell_type": "markdown",
   "id": "f469a195",
   "metadata": {
    "id": "f469a195"
   },
   "source": [
    "# Applying Functions\n"
   ]
  },
  {
   "cell_type": "code",
   "execution_count": null,
   "id": "f5f31a20",
   "metadata": {},
   "outputs": [],
   "source": [
    "df3 = pd.DataFrame(np.random.randn(4, 3), columns=list('bde'), index=['Utah', 'Ohio', 'Texas', 'Oregon'])"
   ]
  },
  {
   "cell_type": "code",
   "execution_count": null,
   "id": "1e02e20f",
   "metadata": {},
   "outputs": [],
   "source": [
    "df3"
   ]
  },
  {
   "cell_type": "code",
   "execution_count": null,
   "id": "e971306a",
   "metadata": {
    "id": "e971306a"
   },
   "outputs": [],
   "source": [
    "# Define a function\n",
    "f = lambda x: x.max() - x.min()"
   ]
  },
  {
   "cell_type": "code",
   "execution_count": null,
   "id": "23d3b007",
   "metadata": {},
   "outputs": [],
   "source": [
    "# Define a function\n",
    "def f(x):\n",
    "    return x.max() - x.min()"
   ]
  },
  {
   "cell_type": "code",
   "execution_count": null,
   "id": "6069d5ef",
   "metadata": {},
   "outputs": [],
   "source": [
    "f2 = lambda x : x*2"
   ]
  },
  {
   "cell_type": "markdown",
   "id": "253eb850",
   "metadata": {},
   "source": [
    "### 1- (apply) works on a row / column basis of a DataFrame"
   ]
  },
  {
   "cell_type": "code",
   "execution_count": null,
   "id": "698dac12",
   "metadata": {
    "id": "698dac12",
    "outputId": "129391fc-1c41-407b-8ba1-a8d103813fb4",
    "scrolled": true
   },
   "outputs": [],
   "source": [
    "# Apply function to DataFrame\n",
    "df3.apply(f, axis = 0)"
   ]
  },
  {
   "cell_type": "code",
   "execution_count": null,
   "id": "25afea3d",
   "metadata": {},
   "outputs": [],
   "source": [
    "# Apply function to DataFrame\n",
    "df3.apply(f, axis = 1)"
   ]
  },
  {
   "cell_type": "code",
   "execution_count": null,
   "id": "808a39f4",
   "metadata": {},
   "outputs": [],
   "source": [
    "# Apply function to DataFrame\n",
    "df3.apply(f2, axis = 1)"
   ]
  },
  {
   "cell_type": "markdown",
   "id": "afd7e7f7",
   "metadata": {},
   "source": [
    "### 2- (applymap) works element-wise on a DataFrame"
   ]
  },
  {
   "cell_type": "code",
   "execution_count": null,
   "id": "71f27cf3",
   "metadata": {},
   "outputs": [],
   "source": [
    "f2 = lambda x : x*2"
   ]
  },
  {
   "cell_type": "code",
   "execution_count": null,
   "id": "3a6559b8",
   "metadata": {
    "id": "3a6559b8",
    "outputId": "50283733-7536-43b8-a9a1-b1b68ddf5269",
    "scrolled": true
   },
   "outputs": [],
   "source": [
    "# Apply function element-wise\n",
    "df3.applymap(f2)"
   ]
  },
  {
   "cell_type": "markdown",
   "id": "037c962a",
   "metadata": {},
   "source": [
    "### 3- (map) works element-wise on a Series"
   ]
  },
  {
   "cell_type": "code",
   "execution_count": null,
   "id": "de48cc21",
   "metadata": {},
   "outputs": [],
   "source": [
    "# Create a pandas Series\n",
    "s = pd.Series(\n",
    "    [3, -5, 7, 4],\n",
    "    index=['a', 'b', 'c', 'd']\n",
    ")\n",
    "\n",
    "# Print the pandas Series\n",
    "print(\"s:\")\n",
    "s"
   ]
  },
  {
   "cell_type": "code",
   "execution_count": null,
   "id": "2e1aaed3",
   "metadata": {},
   "outputs": [],
   "source": [
    "f3 = lambda x : x*2"
   ]
  },
  {
   "cell_type": "code",
   "execution_count": null,
   "id": "ae443580",
   "metadata": {},
   "outputs": [],
   "source": [
    "# map function element-wise on series\n",
    "s.map(f3)"
   ]
  },
  {
   "cell_type": "markdown",
   "id": "3e3c7ab3",
   "metadata": {
    "id": "3e3c7ab3"
   },
   "source": [
    "## Arithmetic Operations"
   ]
  },
  {
   "cell_type": "code",
   "execution_count": null,
   "id": "bdbd14b7",
   "metadata": {},
   "outputs": [],
   "source": [
    "df1=pd.DataFrame(\n",
    "    np.arange(6).reshape(2,3),\n",
    "    columns=list(\"ABC\"),\n",
    "    index=[\"Tim\",\"Tom\"])\n",
    "df2=pd.DataFrame(\n",
    "    np.arange(9).reshape(3,3),\n",
    "    columns=list(\"ACD\"),\n",
    "    index=[\"Tim\",\"Kate\",\"Tom\"])"
   ]
  },
  {
   "cell_type": "code",
   "execution_count": null,
   "id": "6f5dd993",
   "metadata": {},
   "outputs": [],
   "source": [
    "print(df1)\n",
    "print(df2)"
   ]
  },
  {
   "cell_type": "code",
   "execution_count": null,
   "id": "986266bd",
   "metadata": {
    "scrolled": true
   },
   "outputs": [],
   "source": [
    "df1+df2"
   ]
  },
  {
   "cell_type": "code",
   "execution_count": null,
   "id": "e412ecdf",
   "metadata": {},
   "outputs": [],
   "source": [
    "df1.add(df2,fill_value=0)"
   ]
  },
  {
   "cell_type": "code",
   "execution_count": null,
   "id": "ba900df9",
   "metadata": {},
   "outputs": [],
   "source": [
    "1/df1"
   ]
  },
  {
   "cell_type": "code",
   "execution_count": null,
   "id": "60f02ec0",
   "metadata": {},
   "outputs": [],
   "source": [
    "df1*3"
   ]
  },
  {
   "cell_type": "markdown",
   "id": "28ffef3a",
   "metadata": {},
   "source": [
    "## DataFrame and series operations"
   ]
  },
  {
   "cell_type": "code",
   "execution_count": null,
   "id": "8d5a6d0d",
   "metadata": {},
   "outputs": [],
   "source": [
    "print(df2)"
   ]
  },
  {
   "cell_type": "code",
   "execution_count": null,
   "id": "494a5db4",
   "metadata": {},
   "outputs": [],
   "source": [
    "s=df2.iloc[1]\n",
    "s"
   ]
  },
  {
   "cell_type": "code",
   "execution_count": null,
   "id": "e6fd6346",
   "metadata": {},
   "outputs": [],
   "source": [
    "df2-s"
   ]
  },
  {
   "cell_type": "code",
   "execution_count": null,
   "id": "55cf18d3",
   "metadata": {},
   "outputs": [],
   "source": [
    "s2=df2[\"A\"]\n",
    "s2"
   ]
  },
  {
   "cell_type": "code",
   "execution_count": null,
   "id": "367726af",
   "metadata": {
    "scrolled": true
   },
   "outputs": [],
   "source": [
    "df2.sub(s2,axis=0)"
   ]
  },
  {
   "cell_type": "code",
   "execution_count": null,
   "id": "9791ad98",
   "metadata": {},
   "outputs": [],
   "source": []
  }
 ],
 "metadata": {
  "colab": {
   "provenance": []
  },
  "kernelspec": {
   "display_name": "Python 3 (ipykernel)",
   "language": "python",
   "name": "python3"
  },
  "language_info": {
   "codemirror_mode": {
    "name": "ipython",
    "version": 3
   },
   "file_extension": ".py",
   "mimetype": "text/x-python",
   "name": "python",
   "nbconvert_exporter": "python",
   "pygments_lexer": "ipython3",
   "version": "3.11.4"
  }
 },
 "nbformat": 4,
 "nbformat_minor": 5
}
