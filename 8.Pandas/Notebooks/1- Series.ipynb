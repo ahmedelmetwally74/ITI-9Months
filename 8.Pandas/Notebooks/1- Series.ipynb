{
 "cells": [
  {
   "cell_type": "markdown",
   "id": "ae90d978",
   "metadata": {
    "id": "ae90d978"
   },
   "source": [
    "# Notebook 1- Pandas Series\n",
    "\n",
    "<img src=\"https://raw.githubusercontent.com/fralfaro/DS-Cheat-Sheets/main/docs/examples/pandas/pandas.png\" alt=\"numpy logo\" width = \"300\">\n"
   ]
  },
  {
   "cell_type": "markdown",
   "id": "c04990ff",
   "metadata": {},
   "source": [
    "## Install and import Pandas"
   ]
  },
  {
   "cell_type": "code",
   "execution_count": null,
   "id": "f98699d2",
   "metadata": {},
   "outputs": [],
   "source": [
    "#!pip install pandas"
   ]
  },
  {
   "cell_type": "code",
   "execution_count": null,
   "id": "805a07df",
   "metadata": {
    "id": "805a07df"
   },
   "outputs": [],
   "source": [
    "# Import Pandas and numpy\n",
    "import pandas as pd\n",
    "import numpy as np"
   ]
  },
  {
   "cell_type": "markdown",
   "id": "75775834",
   "metadata": {
    "id": "75775834"
   },
   "source": [
    "## Pandas Data Structures\n",
    "\n",
    "**Series**\n",
    "\n",
    "<img src=\"https://raw.githubusercontent.com/fralfaro/DS-Cheat-Sheets/main/docs/examples/pandas/serie.png\" alt=\"numpy logo\" >\n",
    "\n",
    "A **one-dimensional** labeled array a capable of holding any data type."
   ]
  },
  {
   "cell_type": "code",
   "execution_count": null,
   "id": "fbef430f",
   "metadata": {
    "id": "fbef430f",
    "outputId": "aa97d2a9-f34c-4b38-805f-5f549dd133b8"
   },
   "outputs": [],
   "source": [
    "# Create a pandas Series\n",
    "s = pd.Series(\n",
    "    [3, -5, 7, 4],\n",
    "    index=['a', 'b', 'c', 'd']\n",
    ")\n",
    "\n",
    "# Print the pandas Series\n",
    "print(\"s:\")\n",
    "s"
   ]
  },
  {
   "cell_type": "markdown",
   "id": "8dc9070a",
   "metadata": {
    "id": "4f0980ce"
   },
   "source": [
    "## Getting Elements\n"
   ]
  },
  {
   "cell_type": "code",
   "execution_count": null,
   "id": "d2747c6c",
   "metadata": {
    "scrolled": true
   },
   "outputs": [],
   "source": [
    "s.values"
   ]
  },
  {
   "cell_type": "code",
   "execution_count": null,
   "id": "5e88e651",
   "metadata": {
    "scrolled": false
   },
   "outputs": [],
   "source": [
    "s.index"
   ]
  },
  {
   "cell_type": "code",
   "execution_count": null,
   "id": "f5f18f14",
   "metadata": {},
   "outputs": [],
   "source": [
    "list(s.index)"
   ]
  },
  {
   "cell_type": "code",
   "execution_count": null,
   "id": "8626f507",
   "metadata": {
    "id": "e9b66371",
    "outputId": "4be134b0-4a9b-4868-f4ba-99693bfc379b",
    "scrolled": true
   },
   "outputs": [],
   "source": [
    "# Get one element from a Series\n",
    "s['b']"
   ]
  },
  {
   "cell_type": "code",
   "execution_count": null,
   "id": "4c7a5354",
   "metadata": {},
   "outputs": [],
   "source": [
    "s[[\"a\",\"c\"]]"
   ]
  },
  {
   "cell_type": "code",
   "execution_count": null,
   "id": "0a5935eb",
   "metadata": {},
   "outputs": [],
   "source": [
    "s[[0,2]]"
   ]
  },
  {
   "cell_type": "code",
   "execution_count": null,
   "id": "39269bab",
   "metadata": {},
   "outputs": [],
   "source": [
    "s[\"a\":\"c\"]"
   ]
  },
  {
   "cell_type": "markdown",
   "id": "f27730b1",
   "metadata": {},
   "source": [
    "## Search"
   ]
  },
  {
   "cell_type": "code",
   "execution_count": null,
   "id": "5b1de446",
   "metadata": {},
   "outputs": [],
   "source": [
    "\"a\" in s"
   ]
  },
  {
   "cell_type": "code",
   "execution_count": null,
   "id": "491e96dd",
   "metadata": {},
   "outputs": [],
   "source": [
    "\"e\" in s"
   ]
  },
  {
   "cell_type": "markdown",
   "id": "d1d24b17",
   "metadata": {},
   "source": [
    "## Boolean Indexing"
   ]
  },
  {
   "cell_type": "code",
   "execution_count": null,
   "id": "0f85fdd9",
   "metadata": {
    "id": "894bd29b",
    "outputId": "df627045-7bad-4761-d87d-b0952398bce2",
    "scrolled": false
   },
   "outputs": [],
   "source": [
    "# Boolean indexing - Series s where value is not > 1\n",
    "s[~(s > 1)]"
   ]
  },
  {
   "cell_type": "code",
   "execution_count": null,
   "id": "6af3d5e7",
   "metadata": {
    "id": "137fc348",
    "outputId": "245d0a06-5e13-4be7-a85e-82a86b984cc4",
    "scrolled": true
   },
   "outputs": [],
   "source": [
    "# Boolean indexing - s where value is <-1 or >2\n",
    "s[(s < -1) | (s > 2)]"
   ]
  },
  {
   "cell_type": "code",
   "execution_count": null,
   "id": "c8c858f4",
   "metadata": {
    "scrolled": true
   },
   "outputs": [],
   "source": [
    "# Boolean indexing - s where value is >-1 or <3\n",
    "s[(s > -1) & (s < 4)]"
   ]
  },
  {
   "cell_type": "markdown",
   "id": "c790bd45",
   "metadata": {},
   "source": [
    "## Check nulls"
   ]
  },
  {
   "cell_type": "code",
   "execution_count": null,
   "id": "81f9ba50",
   "metadata": {},
   "outputs": [],
   "source": [
    "# Create a pandas Series\n",
    "s = pd.Series(\n",
    "    [None, -5, 7, 4],\n",
    "    index=['a', 'b', 'c', 'd']\n",
    ")\n",
    "\n",
    "# Print the pandas Series\n",
    "print(\"s:\")\n",
    "s"
   ]
  },
  {
   "cell_type": "code",
   "execution_count": null,
   "id": "14637f3e",
   "metadata": {},
   "outputs": [],
   "source": [
    "# check nulls\n",
    "s[s.isnull()]"
   ]
  },
  {
   "cell_type": "markdown",
   "id": "23acefee",
   "metadata": {},
   "source": [
    "## Setting"
   ]
  },
  {
   "cell_type": "code",
   "execution_count": null,
   "id": "f5662db6",
   "metadata": {
    "id": "6e02eea4",
    "outputId": "c7d95fa4-a6f2-41ea-b897-1d79c636d70d",
    "scrolled": true
   },
   "outputs": [],
   "source": [
    "# Setting index a of Series s to 6\n",
    "s['a'] = 6\n",
    "s"
   ]
  },
  {
   "cell_type": "code",
   "execution_count": null,
   "id": "05141b0d",
   "metadata": {
    "scrolled": true
   },
   "outputs": [],
   "source": [
    "s[s<= 1]= 0\n",
    "s"
   ]
  },
  {
   "cell_type": "markdown",
   "id": "2eed64f6",
   "metadata": {
    "id": "bfee4693"
   },
   "source": [
    "## Dropping\n"
   ]
  },
  {
   "cell_type": "code",
   "execution_count": null,
   "id": "97617605",
   "metadata": {
    "id": "62c2d966",
    "outputId": "f751902a-ce92-47f3-96ad-2d59ecdbb460"
   },
   "outputs": [],
   "source": [
    "# Drop values from rows (axis=0)\n",
    "s.drop(['a', 'c'])"
   ]
  },
  {
   "cell_type": "markdown",
   "id": "7abcebdb",
   "metadata": {
    "id": "7da015f7"
   },
   "source": [
    "## Internal Data Alignment\n"
   ]
  },
  {
   "cell_type": "code",
   "execution_count": null,
   "id": "5066c4c3",
   "metadata": {},
   "outputs": [],
   "source": [
    "# Create a pandas Series\n",
    "s1 = pd.Series([3, -5, 7, 4],index=['a', 'b', 'c', 'd'])\n",
    "s1"
   ]
  },
  {
   "cell_type": "code",
   "execution_count": null,
   "id": "07c71ae2",
   "metadata": {
    "id": "7758b275",
    "outputId": "58558158-146c-43b4-9622-1d10096a1228"
   },
   "outputs": [],
   "source": [
    "# Create Series with different indices\n",
    "s2 = pd.Series([7, -2, 3], index=['a', 'c', 'd'])\n",
    "s2"
   ]
  },
  {
   "cell_type": "code",
   "execution_count": null,
   "id": "253056c8",
   "metadata": {
    "id": "93c866cc",
    "outputId": "3df1d810-2b2a-43a1-9a5b-1fbc0e7081ad"
   },
   "outputs": [],
   "source": [
    "# Add two Series with different indices\n",
    "result = s1 + s2\n",
    "result"
   ]
  },
  {
   "cell_type": "markdown",
   "id": "1ded6d7f",
   "metadata": {},
   "source": [
    "## Arithmetic Operations"
   ]
  },
  {
   "cell_type": "code",
   "execution_count": null,
   "id": "0891ee99",
   "metadata": {},
   "outputs": [],
   "source": [
    "s"
   ]
  },
  {
   "cell_type": "code",
   "execution_count": null,
   "id": "5d96296e",
   "metadata": {},
   "outputs": [],
   "source": [
    "s * 2"
   ]
  },
  {
   "cell_type": "code",
   "execution_count": null,
   "id": "23f2e88f",
   "metadata": {},
   "outputs": [],
   "source": [
    "s * s"
   ]
  },
  {
   "cell_type": "code",
   "execution_count": null,
   "id": "3d2d764e",
   "metadata": {},
   "outputs": [],
   "source": [
    "s/2"
   ]
  },
  {
   "cell_type": "markdown",
   "id": "8c516eca",
   "metadata": {
    "id": "5f62e0fe"
   },
   "source": [
    "## Arithmetic Operations with Fill Methods"
   ]
  },
  {
   "cell_type": "code",
   "execution_count": null,
   "id": "8b04ba5b",
   "metadata": {
    "id": "b1da5cf4",
    "outputId": "d4c228a3-9def-4ea5-b1d4-2cda20de181c"
   },
   "outputs": [],
   "source": [
    "# Example Series\n",
    "s1 = pd.Series([3, -5, 7, 4], index=['a', 'b', 'c', 'd'])\n",
    "s2 = pd.Series([10, 2, 4, 8], index=['a', 'b', 'd', 'e'])"
   ]
  },
  {
   "cell_type": "code",
   "execution_count": null,
   "id": "78932d81",
   "metadata": {},
   "outputs": [],
   "source": [
    "s1"
   ]
  },
  {
   "cell_type": "code",
   "execution_count": null,
   "id": "619922f8",
   "metadata": {},
   "outputs": [],
   "source": [
    "s2"
   ]
  },
  {
   "cell_type": "code",
   "execution_count": null,
   "id": "aea6c7b0",
   "metadata": {},
   "outputs": [],
   "source": [
    "# Perform arithmetic operations with fill methods\n",
    "result_add = s1.add(s2, fill_value=0)\n",
    "\n",
    "print(\"result_add:\")\n",
    "print(result_add)"
   ]
  },
  {
   "cell_type": "code",
   "execution_count": null,
   "id": "1fa91f21",
   "metadata": {
    "id": "b1da5cf4",
    "outputId": "d4c228a3-9def-4ea5-b1d4-2cda20de181c"
   },
   "outputs": [],
   "source": [
    "# Perform arithmetic operations with fill methods\n",
    "result_sub = s1.sub(s2, fill_value=2)\n",
    "\n",
    "print(\"\\nresult_sub:\")\n",
    "print(result_sub)"
   ]
  },
  {
   "cell_type": "code",
   "execution_count": null,
   "id": "f8a743c5",
   "metadata": {},
   "outputs": [],
   "source": [
    "# Perform arithmetic operations with fill methods\n",
    "result_div = s1.div(s2, fill_value=4)\n",
    "\n",
    "print(\"\\nresult_div:\")\n",
    "print(result_div)"
   ]
  },
  {
   "cell_type": "code",
   "execution_count": null,
   "id": "1aa6000f",
   "metadata": {},
   "outputs": [],
   "source": [
    "# Perform arithmetic operations with fill methods\n",
    "result_mul = s1.mul(s2, fill_value=3)\n",
    "\n",
    "print(\"\\nresult_mul:\")\n",
    "print(result_mul)"
   ]
  },
  {
   "cell_type": "markdown",
   "id": "3e3c7ab3",
   "metadata": {
    "id": "3e3c7ab3"
   },
   "source": [
    "## Asking For Help"
   ]
  },
  {
   "cell_type": "code",
   "execution_count": null,
   "id": "4d12c36b",
   "metadata": {
    "id": "4d12c36b",
    "outputId": "87392d0c-49c6-4939-afa8-755f17890ec8"
   },
   "outputs": [],
   "source": [
    "# Display help for a function or object\n",
    "help(pd.Series.loc)"
   ]
  },
  {
   "cell_type": "code",
   "execution_count": null,
   "id": "f5f3d1ee",
   "metadata": {},
   "outputs": [],
   "source": []
  }
 ],
 "metadata": {
  "colab": {
   "provenance": []
  },
  "kernelspec": {
   "display_name": "Python 3 (ipykernel)",
   "language": "python",
   "name": "python3"
  },
  "language_info": {
   "codemirror_mode": {
    "name": "ipython",
    "version": 3
   },
   "file_extension": ".py",
   "mimetype": "text/x-python",
   "name": "python",
   "nbconvert_exporter": "python",
   "pygments_lexer": "ipython3",
   "version": "3.11.4"
  }
 },
 "nbformat": 4,
 "nbformat_minor": 5
}
