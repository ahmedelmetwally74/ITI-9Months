{
 "cells": [
  {
   "cell_type": "code",
   "execution_count": 1,
   "id": "29151f60",
   "metadata": {},
   "outputs": [],
   "source": [
    "from selenium import webdriver "
   ]
  },
  {
   "cell_type": "code",
   "execution_count": 2,
   "id": "4b582283",
   "metadata": {},
   "outputs": [],
   "source": [
    "driver = webdriver.Chrome()"
   ]
  },
  {
   "cell_type": "code",
   "execution_count": 3,
   "id": "0ce5eca0",
   "metadata": {},
   "outputs": [],
   "source": [
    "driver.get(\"https://www.amazon.com/s?k=power+bank&crid=2JRIZCQVF1Z3S&sprefix=power%2Caps%2C211&ref=nb_sb_ss_ts-doa-p_2_5\")"
   ]
  },
  {
   "cell_type": "code",
   "execution_count": 4,
   "id": "8384f94c",
   "metadata": {},
   "outputs": [],
   "source": [
    "product_name=driver.find_elements(\"xpath\",\"//span[@class='a-size-medium a-color-base a-text-normal']\")"
   ]
  },
  {
   "cell_type": "code",
   "execution_count": 5,
   "id": "da8bea7b",
   "metadata": {},
   "outputs": [
    {
     "name": "stdout",
     "output_type": "stream",
     "text": [
      "Vanbon 60W 8-Port USB Wall Charger, Multi Port USB Charger Charging Station W/LCD Compatible with Smart Phone, Tablet and Multiple Devices\n",
      "Wall Mounted Cell Phone Charging Station | 8 Ports High Speed Cables Charging Dock with Apple,Type-C,Android Port | Applicable Airport/Hotel/Hospital/Banks/Shopping Malls\n",
      "Hiluckey Solar Charger 27000mAh 22.5W Fast Charging Power Bank USB C PD Portable Phone Charger with 4 Solar Panels for Cell Phone Tablet\n",
      "Abnoys Portabl Charger,Power-Bank,8000mAh Mini Ultra Compact Portable Phone Charger Battery Pack for iPhone Comes with a Type-C Conversion Interface (White)\n",
      "Anker Portable Charger, Power Bank, 20,000mAh Battery Pack with PowerIQ Technology and USB-C (Recharging Only) for iPhone 15/15 Plus/15 Pro/15 Pro Max, iPhone 14/13/12 Series, Samsung Galaxy (Black)\n",
      "Pwr Travel - 5 in 1 Power Bank - Travel 5 in 1 Power Bank, Portable Charger with Ac Wall Plug & Built-in Cables, Built-in Type-C and Lighting USB Cable 4 Output and 2 Input (White)\n",
      "Ortizan Bluetooth Speakers with Subwoofer, 100W Portable Speaker Bluetooth Wireless Loud with Bass, IPX7 Waterproof/LED Lights/Pro EQ/DSP/Power Bank/TF Card/AUX, 24H Playtime for Home, Outdoor, Party\n",
      "Anker [Quick Charge] PowerCore+ 26800 Premium Portable Charger with Qualcomm Quick Charge 3.0 (Aluminum 3-Port Ultra-High-Capacity External Battery) [Recharges 2X Faster]\n",
      "Keychain Portable Charger for iPhone,2000mAh Mini Power Emergency Pod,External Fast Charging Power Bank Battery Pack,Cell Phone Charger for iPhone 14,13,12,11,Plus,Pro,Max,XS,XR,X,8,7,6,6s,5,4,Violet\n",
      "Boobowl Case Compatible with Anker Nano Power Bank with Built-in Lightning Connector 5,000 Mah 12W, Portble Charger Storage Holder for amelema/for LanLuk/for Feob Battery Pack - (Box Only)\n",
      "TOZO 140W Fast Charging Power Bank, 27000mAh 3-Port Portable Charger, Smart Digital Display, Compatible with iPhone 15/15 Plus/15 Pro/15 Pro Max, iPhone 14/13 Series, MacBook, Samsung, Dell, AirPods\n",
      "DOACE Heated Vest for Men & Women, Smart heated Jacket, Battery Not Included\n",
      "Belkin BoostCharge USB-C Portable Charger 10K Power Bank w/ 1 USB-C Port and 2 USB-A Ports & Included USB-C to USB-A Cable for iPhone 15, 15 Plus, 15 Pro, 15 Pro Max, Samsung Galaxy S23 & More - Blue\n",
      "Belkin USB-C Portable Charger 20,000 mAh, 20K Power Bank w/ 1 USB-C Port and 2 USB-A Ports & Included USB-C to USB-A Cable for iPhone 15, 15 Plus, 15 Pro, 15 Pro Max, Samsung Galaxy S23 & More - Black\n",
      "Belkin BoostCharge Wireless Power Bank 5K w/MagSafe Compatible 7.5W Charging, Built-in Pop-up Kickstand - Compatible w/iPhone 15, 15 Plus, 15 Pro, 15 Pro Max, iPhone 14, AirPods, and More - Black\n",
      "BoxWave Power Bank Compatible with Minolta MN67Z - Solar Rejuva PowerPack (10000mAh), Solar Powered Backup Power Bank 10000mAh - Jet Black\n",
      "USB C Fast Charger 100W GaN Compact 6 Port USB C Charging Station HUB Block Portable Wall Charger Adapter 3 USB C and 3 QC USB A for All iPad iPhone 15 14 13 12 Pro Max Pixel Note Galaxy\n",
      "Goal Zero Sherpa 100AC (New) Wireless Portable AC Power Bank 100W USB-C Power Delivery 25600mAh (4th Generation)\n",
      "Case Comaptible with Anker Nano Power Bank 10000mAh Power Portable Charger with Built-in USB-C Cable, Storage Carrying Holder Fits for Anker Power IQ 3.0 Battery Pack & USB C Charger ( Box Only)\n",
      "Nitecore NB10000 GEN 2 Ultra-Slim 10000mAh Quick-Charge Power Bank with USB and USB-C Dual Outputs and Cables for Phones, Headlamps LifeMods Bundled with a Mini Multi-Tool Keychain COB Flashlight\n",
      "LHIABNN DIY Power Bank - Make Your Own External Battery Pack,2 Output 3 Input (Mirco,Type C,Lighting) - Battery Not Include (Black)\n",
      "30W Portable Foldable Solar Panel Charger for Outdoor Camping Solar Battery Charger 12 Volt Waterproof High Efficiency Solar Panel Kit DC for Portable Power Station USB Solar Panel Battery Charger\n"
     ]
    }
   ],
   "source": [
    "for i in product_name:\n",
    "    print(i.text)"
   ]
  },
  {
   "cell_type": "code",
   "execution_count": null,
   "id": "f13a1773",
   "metadata": {},
   "outputs": [],
   "source": []
  }
 ],
 "metadata": {
  "kernelspec": {
   "display_name": "Python 3 (ipykernel)",
   "language": "python",
   "name": "python3"
  },
  "language_info": {
   "codemirror_mode": {
    "name": "ipython",
    "version": 3
   },
   "file_extension": ".py",
   "mimetype": "text/x-python",
   "name": "python",
   "nbconvert_exporter": "python",
   "pygments_lexer": "ipython3",
   "version": "3.9.7"
  }
 },
 "nbformat": 4,
 "nbformat_minor": 5
}
