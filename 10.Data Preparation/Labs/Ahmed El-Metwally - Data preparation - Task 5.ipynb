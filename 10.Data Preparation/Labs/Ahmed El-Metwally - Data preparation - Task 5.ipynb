{
 "cells": [
  {
   "cell_type": "code",
   "execution_count": 2,
   "id": "51be1999",
   "metadata": {},
   "outputs": [],
   "source": [
    "import pandas as pd"
   ]
  },
  {
   "cell_type": "code",
   "execution_count": 3,
   "id": "80003989",
   "metadata": {
    "scrolled": true
   },
   "outputs": [
    {
     "data": {
      "text/html": [
       "<div>\n",
       "<style scoped>\n",
       "    .dataframe tbody tr th:only-of-type {\n",
       "        vertical-align: middle;\n",
       "    }\n",
       "\n",
       "    .dataframe tbody tr th {\n",
       "        vertical-align: top;\n",
       "    }\n",
       "\n",
       "    .dataframe thead th {\n",
       "        text-align: right;\n",
       "    }\n",
       "</style>\n",
       "<table border=\"1\" class=\"dataframe\">\n",
       "  <thead>\n",
       "    <tr style=\"text-align: right;\">\n",
       "      <th></th>\n",
       "      <th>date</th>\n",
       "      <th>new_cases</th>\n",
       "      <th>new_deaths</th>\n",
       "      <th>new_tests</th>\n",
       "    </tr>\n",
       "  </thead>\n",
       "  <tbody>\n",
       "    <tr>\n",
       "      <th>0</th>\n",
       "      <td>2019-12-31</td>\n",
       "      <td>0.0</td>\n",
       "      <td>0.0</td>\n",
       "      <td>NaN</td>\n",
       "    </tr>\n",
       "    <tr>\n",
       "      <th>1</th>\n",
       "      <td>2020-01-01</td>\n",
       "      <td>0.0</td>\n",
       "      <td>0.0</td>\n",
       "      <td>NaN</td>\n",
       "    </tr>\n",
       "    <tr>\n",
       "      <th>2</th>\n",
       "      <td>2020-01-02</td>\n",
       "      <td>0.0</td>\n",
       "      <td>0.0</td>\n",
       "      <td>NaN</td>\n",
       "    </tr>\n",
       "    <tr>\n",
       "      <th>3</th>\n",
       "      <td>2020-01-03</td>\n",
       "      <td>0.0</td>\n",
       "      <td>0.0</td>\n",
       "      <td>NaN</td>\n",
       "    </tr>\n",
       "    <tr>\n",
       "      <th>4</th>\n",
       "      <td>2020-01-04</td>\n",
       "      <td>0.0</td>\n",
       "      <td>0.0</td>\n",
       "      <td>NaN</td>\n",
       "    </tr>\n",
       "    <tr>\n",
       "      <th>...</th>\n",
       "      <td>...</td>\n",
       "      <td>...</td>\n",
       "      <td>...</td>\n",
       "      <td>...</td>\n",
       "    </tr>\n",
       "    <tr>\n",
       "      <th>243</th>\n",
       "      <td>2020-08-30</td>\n",
       "      <td>1444.0</td>\n",
       "      <td>1.0</td>\n",
       "      <td>53541.0</td>\n",
       "    </tr>\n",
       "    <tr>\n",
       "      <th>244</th>\n",
       "      <td>2020-08-31</td>\n",
       "      <td>1365.0</td>\n",
       "      <td>4.0</td>\n",
       "      <td>42583.0</td>\n",
       "    </tr>\n",
       "    <tr>\n",
       "      <th>245</th>\n",
       "      <td>2020-09-01</td>\n",
       "      <td>996.0</td>\n",
       "      <td>6.0</td>\n",
       "      <td>54395.0</td>\n",
       "    </tr>\n",
       "    <tr>\n",
       "      <th>246</th>\n",
       "      <td>2020-09-02</td>\n",
       "      <td>975.0</td>\n",
       "      <td>8.0</td>\n",
       "      <td>NaN</td>\n",
       "    </tr>\n",
       "    <tr>\n",
       "      <th>247</th>\n",
       "      <td>2020-09-03</td>\n",
       "      <td>1326.0</td>\n",
       "      <td>6.0</td>\n",
       "      <td>NaN</td>\n",
       "    </tr>\n",
       "  </tbody>\n",
       "</table>\n",
       "<p>248 rows × 4 columns</p>\n",
       "</div>"
      ],
      "text/plain": [
       "           date  new_cases  new_deaths  new_tests\n",
       "0    2019-12-31        0.0         0.0        NaN\n",
       "1    2020-01-01        0.0         0.0        NaN\n",
       "2    2020-01-02        0.0         0.0        NaN\n",
       "3    2020-01-03        0.0         0.0        NaN\n",
       "4    2020-01-04        0.0         0.0        NaN\n",
       "..          ...        ...         ...        ...\n",
       "243  2020-08-30     1444.0         1.0    53541.0\n",
       "244  2020-08-31     1365.0         4.0    42583.0\n",
       "245  2020-09-01      996.0         6.0    54395.0\n",
       "246  2020-09-02      975.0         8.0        NaN\n",
       "247  2020-09-03     1326.0         6.0        NaN\n",
       "\n",
       "[248 rows x 4 columns]"
      ]
     },
     "execution_count": 3,
     "metadata": {},
     "output_type": "execute_result"
    }
   ],
   "source": [
    "df = pd.read_csv(r\"E:\\ITI AI&ML\\10.Data Preparation\\italy-covid-daywise.csv\")\n",
    "df"
   ]
  },
  {
   "cell_type": "markdown",
   "id": "d483b5a4",
   "metadata": {},
   "source": [
    "# retrieve the number of rows and columns in the data frame"
   ]
  },
  {
   "cell_type": "code",
   "execution_count": 6,
   "id": "ec7fced5",
   "metadata": {},
   "outputs": [],
   "source": [
    "num_rows, num_columns = df.shape"
   ]
  },
  {
   "cell_type": "code",
   "execution_count": 7,
   "id": "dffe653e",
   "metadata": {},
   "outputs": [
    {
     "data": {
      "text/plain": [
       "(248, 4)"
      ]
     },
     "execution_count": 7,
     "metadata": {},
     "output_type": "execute_result"
    }
   ],
   "source": [
    "df.shape"
   ]
  },
  {
   "cell_type": "markdown",
   "id": "8696382f",
   "metadata": {},
   "source": [
    "# view statistical information for numerical columns"
   ]
  },
  {
   "cell_type": "code",
   "execution_count": 8,
   "id": "4b1075c8",
   "metadata": {},
   "outputs": [
    {
     "data": {
      "text/html": [
       "<div>\n",
       "<style scoped>\n",
       "    .dataframe tbody tr th:only-of-type {\n",
       "        vertical-align: middle;\n",
       "    }\n",
       "\n",
       "    .dataframe tbody tr th {\n",
       "        vertical-align: top;\n",
       "    }\n",
       "\n",
       "    .dataframe thead th {\n",
       "        text-align: right;\n",
       "    }\n",
       "</style>\n",
       "<table border=\"1\" class=\"dataframe\">\n",
       "  <thead>\n",
       "    <tr style=\"text-align: right;\">\n",
       "      <th></th>\n",
       "      <th>new_cases</th>\n",
       "      <th>new_deaths</th>\n",
       "      <th>new_tests</th>\n",
       "    </tr>\n",
       "  </thead>\n",
       "  <tbody>\n",
       "    <tr>\n",
       "      <th>count</th>\n",
       "      <td>248.000000</td>\n",
       "      <td>248.000000</td>\n",
       "      <td>135.000000</td>\n",
       "    </tr>\n",
       "    <tr>\n",
       "      <th>mean</th>\n",
       "      <td>1094.818548</td>\n",
       "      <td>143.133065</td>\n",
       "      <td>31699.674074</td>\n",
       "    </tr>\n",
       "    <tr>\n",
       "      <th>std</th>\n",
       "      <td>1554.508002</td>\n",
       "      <td>227.105538</td>\n",
       "      <td>11622.209757</td>\n",
       "    </tr>\n",
       "    <tr>\n",
       "      <th>min</th>\n",
       "      <td>-148.000000</td>\n",
       "      <td>-31.000000</td>\n",
       "      <td>7841.000000</td>\n",
       "    </tr>\n",
       "    <tr>\n",
       "      <th>25%</th>\n",
       "      <td>123.000000</td>\n",
       "      <td>3.000000</td>\n",
       "      <td>25259.000000</td>\n",
       "    </tr>\n",
       "    <tr>\n",
       "      <th>50%</th>\n",
       "      <td>342.000000</td>\n",
       "      <td>17.000000</td>\n",
       "      <td>29545.000000</td>\n",
       "    </tr>\n",
       "    <tr>\n",
       "      <th>75%</th>\n",
       "      <td>1371.750000</td>\n",
       "      <td>175.250000</td>\n",
       "      <td>37711.000000</td>\n",
       "    </tr>\n",
       "    <tr>\n",
       "      <th>max</th>\n",
       "      <td>6557.000000</td>\n",
       "      <td>971.000000</td>\n",
       "      <td>95273.000000</td>\n",
       "    </tr>\n",
       "  </tbody>\n",
       "</table>\n",
       "</div>"
      ],
      "text/plain": [
       "         new_cases  new_deaths     new_tests\n",
       "count   248.000000  248.000000    135.000000\n",
       "mean   1094.818548  143.133065  31699.674074\n",
       "std    1554.508002  227.105538  11622.209757\n",
       "min    -148.000000  -31.000000   7841.000000\n",
       "25%     123.000000    3.000000  25259.000000\n",
       "50%     342.000000   17.000000  29545.000000\n",
       "75%    1371.750000  175.250000  37711.000000\n",
       "max    6557.000000  971.000000  95273.000000"
      ]
     },
     "execution_count": 8,
     "metadata": {},
     "output_type": "execute_result"
    }
   ],
   "source": [
    "df.describe()"
   ]
  },
  {
   "cell_type": "markdown",
   "id": "ec69b1d3",
   "metadata": {},
   "source": [
    "# view some basic information about the data frame like data types, and number of non-nulls"
   ]
  },
  {
   "cell_type": "code",
   "execution_count": 10,
   "id": "5cf05467",
   "metadata": {},
   "outputs": [
    {
     "name": "stdout",
     "output_type": "stream",
     "text": [
      "<class 'pandas.core.frame.DataFrame'>\n",
      "RangeIndex: 248 entries, 0 to 247\n",
      "Data columns (total 4 columns):\n",
      " #   Column      Non-Null Count  Dtype  \n",
      "---  ------      --------------  -----  \n",
      " 0   date        248 non-null    object \n",
      " 1   new_cases   248 non-null    float64\n",
      " 2   new_deaths  248 non-null    float64\n",
      " 3   new_tests   135 non-null    float64\n",
      "dtypes: float64(3), object(1)\n",
      "memory usage: 7.9+ KB\n"
     ]
    }
   ],
   "source": [
    "df.info()"
   ]
  },
  {
   "cell_type": "code",
   "execution_count": 11,
   "id": "f403b488",
   "metadata": {},
   "outputs": [],
   "source": [
    "# we noticed that the date column is object and missing values in new_tests column "
   ]
  },
  {
   "cell_type": "markdown",
   "id": "ab6b2ecb",
   "metadata": {},
   "source": [
    "# create a list of columns within the data frame\n"
   ]
  },
  {
   "cell_type": "code",
   "execution_count": 12,
   "id": "39eb65d4",
   "metadata": {},
   "outputs": [
    {
     "name": "stdout",
     "output_type": "stream",
     "text": [
      "['date', 'new_cases', 'new_deaths', 'new_tests']\n"
     ]
    }
   ],
   "source": [
    "columns_list = df.columns.tolist()\n",
    "columns_list"
   ]
  },
  {
   "cell_type": "markdown",
   "id": "3b9293c0",
   "metadata": {},
   "source": [
    "# return only the days which had more than 1000 reported cases"
   ]
  },
  {
   "cell_type": "code",
   "execution_count": 13,
   "id": "4edaad12",
   "metadata": {},
   "outputs": [
    {
     "data": {
      "text/html": [
       "<div>\n",
       "<style scoped>\n",
       "    .dataframe tbody tr th:only-of-type {\n",
       "        vertical-align: middle;\n",
       "    }\n",
       "\n",
       "    .dataframe tbody tr th {\n",
       "        vertical-align: top;\n",
       "    }\n",
       "\n",
       "    .dataframe thead th {\n",
       "        text-align: right;\n",
       "    }\n",
       "</style>\n",
       "<table border=\"1\" class=\"dataframe\">\n",
       "  <thead>\n",
       "    <tr style=\"text-align: right;\">\n",
       "      <th></th>\n",
       "      <th>date</th>\n",
       "      <th>new_cases</th>\n",
       "      <th>new_deaths</th>\n",
       "      <th>new_tests</th>\n",
       "    </tr>\n",
       "  </thead>\n",
       "  <tbody>\n",
       "    <tr>\n",
       "      <th>0</th>\n",
       "      <td>2019-12-31</td>\n",
       "      <td>0.0</td>\n",
       "      <td>0.0</td>\n",
       "      <td>NaN</td>\n",
       "    </tr>\n",
       "    <tr>\n",
       "      <th>1</th>\n",
       "      <td>2020-01-01</td>\n",
       "      <td>0.0</td>\n",
       "      <td>0.0</td>\n",
       "      <td>NaN</td>\n",
       "    </tr>\n",
       "    <tr>\n",
       "      <th>2</th>\n",
       "      <td>2020-01-02</td>\n",
       "      <td>0.0</td>\n",
       "      <td>0.0</td>\n",
       "      <td>NaN</td>\n",
       "    </tr>\n",
       "    <tr>\n",
       "      <th>3</th>\n",
       "      <td>2020-01-03</td>\n",
       "      <td>0.0</td>\n",
       "      <td>0.0</td>\n",
       "      <td>NaN</td>\n",
       "    </tr>\n",
       "    <tr>\n",
       "      <th>4</th>\n",
       "      <td>2020-01-04</td>\n",
       "      <td>0.0</td>\n",
       "      <td>0.0</td>\n",
       "      <td>NaN</td>\n",
       "    </tr>\n",
       "    <tr>\n",
       "      <th>...</th>\n",
       "      <td>...</td>\n",
       "      <td>...</td>\n",
       "      <td>...</td>\n",
       "      <td>...</td>\n",
       "    </tr>\n",
       "    <tr>\n",
       "      <th>243</th>\n",
       "      <td>2020-08-30</td>\n",
       "      <td>1444.0</td>\n",
       "      <td>1.0</td>\n",
       "      <td>53541.0</td>\n",
       "    </tr>\n",
       "    <tr>\n",
       "      <th>244</th>\n",
       "      <td>2020-08-31</td>\n",
       "      <td>1365.0</td>\n",
       "      <td>4.0</td>\n",
       "      <td>42583.0</td>\n",
       "    </tr>\n",
       "    <tr>\n",
       "      <th>245</th>\n",
       "      <td>2020-09-01</td>\n",
       "      <td>996.0</td>\n",
       "      <td>6.0</td>\n",
       "      <td>54395.0</td>\n",
       "    </tr>\n",
       "    <tr>\n",
       "      <th>246</th>\n",
       "      <td>2020-09-02</td>\n",
       "      <td>975.0</td>\n",
       "      <td>8.0</td>\n",
       "      <td>NaN</td>\n",
       "    </tr>\n",
       "    <tr>\n",
       "      <th>247</th>\n",
       "      <td>2020-09-03</td>\n",
       "      <td>1326.0</td>\n",
       "      <td>6.0</td>\n",
       "      <td>NaN</td>\n",
       "    </tr>\n",
       "  </tbody>\n",
       "</table>\n",
       "<p>248 rows × 4 columns</p>\n",
       "</div>"
      ],
      "text/plain": [
       "           date  new_cases  new_deaths  new_tests\n",
       "0    2019-12-31        0.0         0.0        NaN\n",
       "1    2020-01-01        0.0         0.0        NaN\n",
       "2    2020-01-02        0.0         0.0        NaN\n",
       "3    2020-01-03        0.0         0.0        NaN\n",
       "4    2020-01-04        0.0         0.0        NaN\n",
       "..          ...        ...         ...        ...\n",
       "243  2020-08-30     1444.0         1.0    53541.0\n",
       "244  2020-08-31     1365.0         4.0    42583.0\n",
       "245  2020-09-01      996.0         6.0    54395.0\n",
       "246  2020-09-02      975.0         8.0        NaN\n",
       "247  2020-09-03     1326.0         6.0        NaN\n",
       "\n",
       "[248 rows x 4 columns]"
      ]
     },
     "execution_count": 13,
     "metadata": {},
     "output_type": "execute_result"
    }
   ],
   "source": [
    "df"
   ]
  },
  {
   "cell_type": "code",
   "execution_count": 14,
   "id": "a7bac03b",
   "metadata": {},
   "outputs": [
    {
     "name": "stdout",
     "output_type": "stream",
     "text": [
      "           date  new_cases  new_deaths  new_tests\n",
      "68   2020-03-08     1247.0        36.0        NaN\n",
      "69   2020-03-09     1492.0       133.0        NaN\n",
      "70   2020-03-10     1797.0        98.0        NaN\n",
      "72   2020-03-12     2313.0       196.0        NaN\n",
      "73   2020-03-13     2651.0       189.0        NaN\n",
      "..          ...        ...         ...        ...\n",
      "241  2020-08-28     1409.0         5.0    65135.0\n",
      "242  2020-08-29     1460.0         9.0    64294.0\n",
      "243  2020-08-30     1444.0         1.0    53541.0\n",
      "244  2020-08-31     1365.0         4.0    42583.0\n",
      "247  2020-09-03     1326.0         6.0        NaN\n",
      "\n",
      "[72 rows x 4 columns]\n"
     ]
    }
   ],
   "source": [
    "reported_cases_1000 = df[df['new_cases'] > 1000]\n",
    "reported_cases_1000"
   ]
  },
  {
   "cell_type": "markdown",
   "id": "85c1cbdc",
   "metadata": {},
   "source": [
    "# Create positive_rate column that is equal to new_cases / new_tests"
   ]
  },
  {
   "cell_type": "code",
   "execution_count": 22,
   "id": "500c9ef7",
   "metadata": {},
   "outputs": [
    {
     "data": {
      "text/html": [
       "<div>\n",
       "<style scoped>\n",
       "    .dataframe tbody tr th:only-of-type {\n",
       "        vertical-align: middle;\n",
       "    }\n",
       "\n",
       "    .dataframe tbody tr th {\n",
       "        vertical-align: top;\n",
       "    }\n",
       "\n",
       "    .dataframe thead th {\n",
       "        text-align: right;\n",
       "    }\n",
       "</style>\n",
       "<table border=\"1\" class=\"dataframe\">\n",
       "  <thead>\n",
       "    <tr style=\"text-align: right;\">\n",
       "      <th></th>\n",
       "      <th>date</th>\n",
       "      <th>new_cases</th>\n",
       "      <th>new_deaths</th>\n",
       "      <th>new_tests</th>\n",
       "      <th>positive_rate</th>\n",
       "    </tr>\n",
       "  </thead>\n",
       "  <tbody>\n",
       "    <tr>\n",
       "      <th>0</th>\n",
       "      <td>2019-12-31</td>\n",
       "      <td>0.0</td>\n",
       "      <td>0.0</td>\n",
       "      <td>NaN</td>\n",
       "      <td>NaN</td>\n",
       "    </tr>\n",
       "    <tr>\n",
       "      <th>1</th>\n",
       "      <td>2020-01-01</td>\n",
       "      <td>0.0</td>\n",
       "      <td>0.0</td>\n",
       "      <td>NaN</td>\n",
       "      <td>NaN</td>\n",
       "    </tr>\n",
       "    <tr>\n",
       "      <th>2</th>\n",
       "      <td>2020-01-02</td>\n",
       "      <td>0.0</td>\n",
       "      <td>0.0</td>\n",
       "      <td>NaN</td>\n",
       "      <td>NaN</td>\n",
       "    </tr>\n",
       "    <tr>\n",
       "      <th>3</th>\n",
       "      <td>2020-01-03</td>\n",
       "      <td>0.0</td>\n",
       "      <td>0.0</td>\n",
       "      <td>NaN</td>\n",
       "      <td>NaN</td>\n",
       "    </tr>\n",
       "    <tr>\n",
       "      <th>4</th>\n",
       "      <td>2020-01-04</td>\n",
       "      <td>0.0</td>\n",
       "      <td>0.0</td>\n",
       "      <td>NaN</td>\n",
       "      <td>NaN</td>\n",
       "    </tr>\n",
       "    <tr>\n",
       "      <th>...</th>\n",
       "      <td>...</td>\n",
       "      <td>...</td>\n",
       "      <td>...</td>\n",
       "      <td>...</td>\n",
       "      <td>...</td>\n",
       "    </tr>\n",
       "    <tr>\n",
       "      <th>243</th>\n",
       "      <td>2020-08-30</td>\n",
       "      <td>1444.0</td>\n",
       "      <td>1.0</td>\n",
       "      <td>53541.0</td>\n",
       "      <td>0.026970</td>\n",
       "    </tr>\n",
       "    <tr>\n",
       "      <th>244</th>\n",
       "      <td>2020-08-31</td>\n",
       "      <td>1365.0</td>\n",
       "      <td>4.0</td>\n",
       "      <td>42583.0</td>\n",
       "      <td>0.032055</td>\n",
       "    </tr>\n",
       "    <tr>\n",
       "      <th>245</th>\n",
       "      <td>2020-09-01</td>\n",
       "      <td>996.0</td>\n",
       "      <td>6.0</td>\n",
       "      <td>54395.0</td>\n",
       "      <td>0.018311</td>\n",
       "    </tr>\n",
       "    <tr>\n",
       "      <th>246</th>\n",
       "      <td>2020-09-02</td>\n",
       "      <td>975.0</td>\n",
       "      <td>8.0</td>\n",
       "      <td>NaN</td>\n",
       "      <td>NaN</td>\n",
       "    </tr>\n",
       "    <tr>\n",
       "      <th>247</th>\n",
       "      <td>2020-09-03</td>\n",
       "      <td>1326.0</td>\n",
       "      <td>6.0</td>\n",
       "      <td>NaN</td>\n",
       "      <td>NaN</td>\n",
       "    </tr>\n",
       "  </tbody>\n",
       "</table>\n",
       "<p>248 rows × 5 columns</p>\n",
       "</div>"
      ],
      "text/plain": [
       "           date  new_cases  new_deaths  new_tests  positive_rate\n",
       "0    2019-12-31        0.0         0.0        NaN            NaN\n",
       "1    2020-01-01        0.0         0.0        NaN            NaN\n",
       "2    2020-01-02        0.0         0.0        NaN            NaN\n",
       "3    2020-01-03        0.0         0.0        NaN            NaN\n",
       "4    2020-01-04        0.0         0.0        NaN            NaN\n",
       "..          ...        ...         ...        ...            ...\n",
       "243  2020-08-30     1444.0         1.0    53541.0       0.026970\n",
       "244  2020-08-31     1365.0         4.0    42583.0       0.032055\n",
       "245  2020-09-01      996.0         6.0    54395.0       0.018311\n",
       "246  2020-09-02      975.0         8.0        NaN            NaN\n",
       "247  2020-09-03     1326.0         6.0        NaN            NaN\n",
       "\n",
       "[248 rows x 5 columns]"
      ]
     },
     "execution_count": 22,
     "metadata": {},
     "output_type": "execute_result"
    }
   ],
   "source": [
    "df['positive_rate'] = df['new_cases'] / df['new_tests']\n",
    "df"
   ]
  },
  {
   "cell_type": "markdown",
   "id": "95aa3493",
   "metadata": {},
   "source": [
    "# let's remove the positive_rate column"
   ]
  },
  {
   "cell_type": "code",
   "execution_count": 16,
   "id": "a9bc62e6",
   "metadata": {},
   "outputs": [],
   "source": [
    "# First Way "
   ]
  },
  {
   "cell_type": "code",
   "execution_count": 20,
   "id": "c2d57a12",
   "metadata": {},
   "outputs": [
    {
     "data": {
      "text/html": [
       "<div>\n",
       "<style scoped>\n",
       "    .dataframe tbody tr th:only-of-type {\n",
       "        vertical-align: middle;\n",
       "    }\n",
       "\n",
       "    .dataframe tbody tr th {\n",
       "        vertical-align: top;\n",
       "    }\n",
       "\n",
       "    .dataframe thead th {\n",
       "        text-align: right;\n",
       "    }\n",
       "</style>\n",
       "<table border=\"1\" class=\"dataframe\">\n",
       "  <thead>\n",
       "    <tr style=\"text-align: right;\">\n",
       "      <th></th>\n",
       "      <th>date</th>\n",
       "      <th>new_cases</th>\n",
       "      <th>new_deaths</th>\n",
       "      <th>new_tests</th>\n",
       "    </tr>\n",
       "  </thead>\n",
       "  <tbody>\n",
       "    <tr>\n",
       "      <th>0</th>\n",
       "      <td>2019-12-31</td>\n",
       "      <td>0.0</td>\n",
       "      <td>0.0</td>\n",
       "      <td>NaN</td>\n",
       "    </tr>\n",
       "    <tr>\n",
       "      <th>1</th>\n",
       "      <td>2020-01-01</td>\n",
       "      <td>0.0</td>\n",
       "      <td>0.0</td>\n",
       "      <td>NaN</td>\n",
       "    </tr>\n",
       "    <tr>\n",
       "      <th>2</th>\n",
       "      <td>2020-01-02</td>\n",
       "      <td>0.0</td>\n",
       "      <td>0.0</td>\n",
       "      <td>NaN</td>\n",
       "    </tr>\n",
       "    <tr>\n",
       "      <th>3</th>\n",
       "      <td>2020-01-03</td>\n",
       "      <td>0.0</td>\n",
       "      <td>0.0</td>\n",
       "      <td>NaN</td>\n",
       "    </tr>\n",
       "    <tr>\n",
       "      <th>4</th>\n",
       "      <td>2020-01-04</td>\n",
       "      <td>0.0</td>\n",
       "      <td>0.0</td>\n",
       "      <td>NaN</td>\n",
       "    </tr>\n",
       "    <tr>\n",
       "      <th>...</th>\n",
       "      <td>...</td>\n",
       "      <td>...</td>\n",
       "      <td>...</td>\n",
       "      <td>...</td>\n",
       "    </tr>\n",
       "    <tr>\n",
       "      <th>243</th>\n",
       "      <td>2020-08-30</td>\n",
       "      <td>1444.0</td>\n",
       "      <td>1.0</td>\n",
       "      <td>53541.0</td>\n",
       "    </tr>\n",
       "    <tr>\n",
       "      <th>244</th>\n",
       "      <td>2020-08-31</td>\n",
       "      <td>1365.0</td>\n",
       "      <td>4.0</td>\n",
       "      <td>42583.0</td>\n",
       "    </tr>\n",
       "    <tr>\n",
       "      <th>245</th>\n",
       "      <td>2020-09-01</td>\n",
       "      <td>996.0</td>\n",
       "      <td>6.0</td>\n",
       "      <td>54395.0</td>\n",
       "    </tr>\n",
       "    <tr>\n",
       "      <th>246</th>\n",
       "      <td>2020-09-02</td>\n",
       "      <td>975.0</td>\n",
       "      <td>8.0</td>\n",
       "      <td>NaN</td>\n",
       "    </tr>\n",
       "    <tr>\n",
       "      <th>247</th>\n",
       "      <td>2020-09-03</td>\n",
       "      <td>1326.0</td>\n",
       "      <td>6.0</td>\n",
       "      <td>NaN</td>\n",
       "    </tr>\n",
       "  </tbody>\n",
       "</table>\n",
       "<p>248 rows × 4 columns</p>\n",
       "</div>"
      ],
      "text/plain": [
       "           date  new_cases  new_deaths  new_tests\n",
       "0    2019-12-31        0.0         0.0        NaN\n",
       "1    2020-01-01        0.0         0.0        NaN\n",
       "2    2020-01-02        0.0         0.0        NaN\n",
       "3    2020-01-03        0.0         0.0        NaN\n",
       "4    2020-01-04        0.0         0.0        NaN\n",
       "..          ...        ...         ...        ...\n",
       "243  2020-08-30     1444.0         1.0    53541.0\n",
       "244  2020-08-31     1365.0         4.0    42583.0\n",
       "245  2020-09-01      996.0         6.0    54395.0\n",
       "246  2020-09-02      975.0         8.0        NaN\n",
       "247  2020-09-03     1326.0         6.0        NaN\n",
       "\n",
       "[248 rows x 4 columns]"
      ]
     },
     "execution_count": 20,
     "metadata": {},
     "output_type": "execute_result"
    }
   ],
   "source": [
    "df = df.drop(columns=['positive_rate'])\n",
    "df"
   ]
  },
  {
   "cell_type": "code",
   "execution_count": 21,
   "id": "a330311f",
   "metadata": {},
   "outputs": [],
   "source": [
    "# Second way to remove the column in-place (without creating a new DataFrame) "
   ]
  },
  {
   "cell_type": "code",
   "execution_count": 23,
   "id": "d4dd499b",
   "metadata": {},
   "outputs": [],
   "source": [
    "df.drop(columns=['positive_rate'], inplace=True)"
   ]
  },
  {
   "cell_type": "code",
   "execution_count": 24,
   "id": "35d32f94",
   "metadata": {},
   "outputs": [
    {
     "data": {
      "text/html": [
       "<div>\n",
       "<style scoped>\n",
       "    .dataframe tbody tr th:only-of-type {\n",
       "        vertical-align: middle;\n",
       "    }\n",
       "\n",
       "    .dataframe tbody tr th {\n",
       "        vertical-align: top;\n",
       "    }\n",
       "\n",
       "    .dataframe thead th {\n",
       "        text-align: right;\n",
       "    }\n",
       "</style>\n",
       "<table border=\"1\" class=\"dataframe\">\n",
       "  <thead>\n",
       "    <tr style=\"text-align: right;\">\n",
       "      <th></th>\n",
       "      <th>date</th>\n",
       "      <th>new_cases</th>\n",
       "      <th>new_deaths</th>\n",
       "      <th>new_tests</th>\n",
       "    </tr>\n",
       "  </thead>\n",
       "  <tbody>\n",
       "    <tr>\n",
       "      <th>0</th>\n",
       "      <td>2019-12-31</td>\n",
       "      <td>0.0</td>\n",
       "      <td>0.0</td>\n",
       "      <td>NaN</td>\n",
       "    </tr>\n",
       "    <tr>\n",
       "      <th>1</th>\n",
       "      <td>2020-01-01</td>\n",
       "      <td>0.0</td>\n",
       "      <td>0.0</td>\n",
       "      <td>NaN</td>\n",
       "    </tr>\n",
       "    <tr>\n",
       "      <th>2</th>\n",
       "      <td>2020-01-02</td>\n",
       "      <td>0.0</td>\n",
       "      <td>0.0</td>\n",
       "      <td>NaN</td>\n",
       "    </tr>\n",
       "    <tr>\n",
       "      <th>3</th>\n",
       "      <td>2020-01-03</td>\n",
       "      <td>0.0</td>\n",
       "      <td>0.0</td>\n",
       "      <td>NaN</td>\n",
       "    </tr>\n",
       "    <tr>\n",
       "      <th>4</th>\n",
       "      <td>2020-01-04</td>\n",
       "      <td>0.0</td>\n",
       "      <td>0.0</td>\n",
       "      <td>NaN</td>\n",
       "    </tr>\n",
       "    <tr>\n",
       "      <th>...</th>\n",
       "      <td>...</td>\n",
       "      <td>...</td>\n",
       "      <td>...</td>\n",
       "      <td>...</td>\n",
       "    </tr>\n",
       "    <tr>\n",
       "      <th>243</th>\n",
       "      <td>2020-08-30</td>\n",
       "      <td>1444.0</td>\n",
       "      <td>1.0</td>\n",
       "      <td>53541.0</td>\n",
       "    </tr>\n",
       "    <tr>\n",
       "      <th>244</th>\n",
       "      <td>2020-08-31</td>\n",
       "      <td>1365.0</td>\n",
       "      <td>4.0</td>\n",
       "      <td>42583.0</td>\n",
       "    </tr>\n",
       "    <tr>\n",
       "      <th>245</th>\n",
       "      <td>2020-09-01</td>\n",
       "      <td>996.0</td>\n",
       "      <td>6.0</td>\n",
       "      <td>54395.0</td>\n",
       "    </tr>\n",
       "    <tr>\n",
       "      <th>246</th>\n",
       "      <td>2020-09-02</td>\n",
       "      <td>975.0</td>\n",
       "      <td>8.0</td>\n",
       "      <td>NaN</td>\n",
       "    </tr>\n",
       "    <tr>\n",
       "      <th>247</th>\n",
       "      <td>2020-09-03</td>\n",
       "      <td>1326.0</td>\n",
       "      <td>6.0</td>\n",
       "      <td>NaN</td>\n",
       "    </tr>\n",
       "  </tbody>\n",
       "</table>\n",
       "<p>248 rows × 4 columns</p>\n",
       "</div>"
      ],
      "text/plain": [
       "           date  new_cases  new_deaths  new_tests\n",
       "0    2019-12-31        0.0         0.0        NaN\n",
       "1    2020-01-01        0.0         0.0        NaN\n",
       "2    2020-01-02        0.0         0.0        NaN\n",
       "3    2020-01-03        0.0         0.0        NaN\n",
       "4    2020-01-04        0.0         0.0        NaN\n",
       "..          ...        ...         ...        ...\n",
       "243  2020-08-30     1444.0         1.0    53541.0\n",
       "244  2020-08-31     1365.0         4.0    42583.0\n",
       "245  2020-09-01      996.0         6.0    54395.0\n",
       "246  2020-09-02      975.0         8.0        NaN\n",
       "247  2020-09-03     1326.0         6.0        NaN\n",
       "\n",
       "[248 rows x 4 columns]"
      ]
     },
     "execution_count": 24,
     "metadata": {},
     "output_type": "execute_result"
    }
   ],
   "source": [
    "df"
   ]
  },
  {
   "cell_type": "markdown",
   "id": "543a5ad1",
   "metadata": {},
   "source": [
    "# Sort to identify the days with the highest number of cases"
   ]
  },
  {
   "cell_type": "code",
   "execution_count": 25,
   "id": "13a2ed84",
   "metadata": {},
   "outputs": [
    {
     "data": {
      "text/html": [
       "<div>\n",
       "<style scoped>\n",
       "    .dataframe tbody tr th:only-of-type {\n",
       "        vertical-align: middle;\n",
       "    }\n",
       "\n",
       "    .dataframe tbody tr th {\n",
       "        vertical-align: top;\n",
       "    }\n",
       "\n",
       "    .dataframe thead th {\n",
       "        text-align: right;\n",
       "    }\n",
       "</style>\n",
       "<table border=\"1\" class=\"dataframe\">\n",
       "  <thead>\n",
       "    <tr style=\"text-align: right;\">\n",
       "      <th></th>\n",
       "      <th>date</th>\n",
       "      <th>new_cases</th>\n",
       "      <th>new_deaths</th>\n",
       "      <th>new_tests</th>\n",
       "    </tr>\n",
       "  </thead>\n",
       "  <tbody>\n",
       "    <tr>\n",
       "      <th>82</th>\n",
       "      <td>2020-03-22</td>\n",
       "      <td>6557.0</td>\n",
       "      <td>795.0</td>\n",
       "      <td>NaN</td>\n",
       "    </tr>\n",
       "    <tr>\n",
       "      <th>87</th>\n",
       "      <td>2020-03-27</td>\n",
       "      <td>6153.0</td>\n",
       "      <td>660.0</td>\n",
       "      <td>NaN</td>\n",
       "    </tr>\n",
       "    <tr>\n",
       "      <th>81</th>\n",
       "      <td>2020-03-21</td>\n",
       "      <td>5986.0</td>\n",
       "      <td>625.0</td>\n",
       "      <td>NaN</td>\n",
       "    </tr>\n",
       "    <tr>\n",
       "      <th>89</th>\n",
       "      <td>2020-03-29</td>\n",
       "      <td>5974.0</td>\n",
       "      <td>887.0</td>\n",
       "      <td>NaN</td>\n",
       "    </tr>\n",
       "    <tr>\n",
       "      <th>88</th>\n",
       "      <td>2020-03-28</td>\n",
       "      <td>5959.0</td>\n",
       "      <td>971.0</td>\n",
       "      <td>NaN</td>\n",
       "    </tr>\n",
       "    <tr>\n",
       "      <th>...</th>\n",
       "      <td>...</td>\n",
       "      <td>...</td>\n",
       "      <td>...</td>\n",
       "      <td>...</td>\n",
       "    </tr>\n",
       "    <tr>\n",
       "      <th>28</th>\n",
       "      <td>2020-01-28</td>\n",
       "      <td>0.0</td>\n",
       "      <td>0.0</td>\n",
       "      <td>NaN</td>\n",
       "    </tr>\n",
       "    <tr>\n",
       "      <th>30</th>\n",
       "      <td>2020-01-30</td>\n",
       "      <td>0.0</td>\n",
       "      <td>0.0</td>\n",
       "      <td>NaN</td>\n",
       "    </tr>\n",
       "    <tr>\n",
       "      <th>32</th>\n",
       "      <td>2020-02-01</td>\n",
       "      <td>0.0</td>\n",
       "      <td>0.0</td>\n",
       "      <td>NaN</td>\n",
       "    </tr>\n",
       "    <tr>\n",
       "      <th>33</th>\n",
       "      <td>2020-02-02</td>\n",
       "      <td>0.0</td>\n",
       "      <td>0.0</td>\n",
       "      <td>NaN</td>\n",
       "    </tr>\n",
       "    <tr>\n",
       "      <th>172</th>\n",
       "      <td>2020-06-20</td>\n",
       "      <td>-148.0</td>\n",
       "      <td>47.0</td>\n",
       "      <td>29875.0</td>\n",
       "    </tr>\n",
       "  </tbody>\n",
       "</table>\n",
       "<p>248 rows × 4 columns</p>\n",
       "</div>"
      ],
      "text/plain": [
       "           date  new_cases  new_deaths  new_tests\n",
       "82   2020-03-22     6557.0       795.0        NaN\n",
       "87   2020-03-27     6153.0       660.0        NaN\n",
       "81   2020-03-21     5986.0       625.0        NaN\n",
       "89   2020-03-29     5974.0       887.0        NaN\n",
       "88   2020-03-28     5959.0       971.0        NaN\n",
       "..          ...        ...         ...        ...\n",
       "28   2020-01-28        0.0         0.0        NaN\n",
       "30   2020-01-30        0.0         0.0        NaN\n",
       "32   2020-02-01        0.0         0.0        NaN\n",
       "33   2020-02-02        0.0         0.0        NaN\n",
       "172  2020-06-20     -148.0        47.0    29875.0\n",
       "\n",
       "[248 rows x 4 columns]"
      ]
     },
     "execution_count": 25,
     "metadata": {},
     "output_type": "execute_result"
    }
   ],
   "source": [
    "df.sort_values(by='new_cases', ascending=False, inplace=True)\n",
    "df "
   ]
  },
  {
   "cell_type": "markdown",
   "id": "68d79028",
   "metadata": {},
   "source": [
    "# Check the data type of date column, then convert it into a datetime"
   ]
  },
  {
   "cell_type": "code",
   "execution_count": 27,
   "id": "d4ea9407",
   "metadata": {},
   "outputs": [
    {
     "name": "stdout",
     "output_type": "stream",
     "text": [
      "object\n"
     ]
    }
   ],
   "source": [
    "print(df['date'].dtype)"
   ]
  },
  {
   "cell_type": "code",
   "execution_count": 28,
   "id": "72a808c0",
   "metadata": {},
   "outputs": [],
   "source": [
    "df['date']=pd.to_datetime(df['date'])"
   ]
  },
  {
   "cell_type": "code",
   "execution_count": 29,
   "id": "bc50703d",
   "metadata": {},
   "outputs": [
    {
     "name": "stdout",
     "output_type": "stream",
     "text": [
      "<class 'pandas.core.frame.DataFrame'>\n",
      "Int64Index: 248 entries, 82 to 172\n",
      "Data columns (total 4 columns):\n",
      " #   Column      Non-Null Count  Dtype         \n",
      "---  ------      --------------  -----         \n",
      " 0   date        248 non-null    datetime64[ns]\n",
      " 1   new_cases   248 non-null    float64       \n",
      " 2   new_deaths  248 non-null    float64       \n",
      " 3   new_tests   135 non-null    float64       \n",
      "dtypes: datetime64[ns](1), float64(3)\n",
      "memory usage: 9.7 KB\n"
     ]
    }
   ],
   "source": [
    "df.info()"
   ]
  },
  {
   "cell_type": "markdown",
   "id": "274672f7",
   "metadata": {},
   "source": [
    "# Extract different parts (day, month, weekday, and year) of the date column into separate columns"
   ]
  },
  {
   "cell_type": "code",
   "execution_count": 30,
   "id": "df166126",
   "metadata": {},
   "outputs": [],
   "source": [
    "df['Day'] = df['date'].dt.day\n",
    "df['Month'] = df['date'].dt.month\n",
    "df['Year'] = df['date'].dt.year"
   ]
  },
  {
   "cell_type": "code",
   "execution_count": 31,
   "id": "708b8e61",
   "metadata": {},
   "outputs": [
    {
     "data": {
      "text/html": [
       "<div>\n",
       "<style scoped>\n",
       "    .dataframe tbody tr th:only-of-type {\n",
       "        vertical-align: middle;\n",
       "    }\n",
       "\n",
       "    .dataframe tbody tr th {\n",
       "        vertical-align: top;\n",
       "    }\n",
       "\n",
       "    .dataframe thead th {\n",
       "        text-align: right;\n",
       "    }\n",
       "</style>\n",
       "<table border=\"1\" class=\"dataframe\">\n",
       "  <thead>\n",
       "    <tr style=\"text-align: right;\">\n",
       "      <th></th>\n",
       "      <th>date</th>\n",
       "      <th>new_cases</th>\n",
       "      <th>new_deaths</th>\n",
       "      <th>new_tests</th>\n",
       "      <th>Day</th>\n",
       "      <th>Month</th>\n",
       "      <th>Year</th>\n",
       "    </tr>\n",
       "  </thead>\n",
       "  <tbody>\n",
       "    <tr>\n",
       "      <th>82</th>\n",
       "      <td>2020-03-22</td>\n",
       "      <td>6557.0</td>\n",
       "      <td>795.0</td>\n",
       "      <td>NaN</td>\n",
       "      <td>22</td>\n",
       "      <td>3</td>\n",
       "      <td>2020</td>\n",
       "    </tr>\n",
       "    <tr>\n",
       "      <th>87</th>\n",
       "      <td>2020-03-27</td>\n",
       "      <td>6153.0</td>\n",
       "      <td>660.0</td>\n",
       "      <td>NaN</td>\n",
       "      <td>27</td>\n",
       "      <td>3</td>\n",
       "      <td>2020</td>\n",
       "    </tr>\n",
       "    <tr>\n",
       "      <th>81</th>\n",
       "      <td>2020-03-21</td>\n",
       "      <td>5986.0</td>\n",
       "      <td>625.0</td>\n",
       "      <td>NaN</td>\n",
       "      <td>21</td>\n",
       "      <td>3</td>\n",
       "      <td>2020</td>\n",
       "    </tr>\n",
       "    <tr>\n",
       "      <th>89</th>\n",
       "      <td>2020-03-29</td>\n",
       "      <td>5974.0</td>\n",
       "      <td>887.0</td>\n",
       "      <td>NaN</td>\n",
       "      <td>29</td>\n",
       "      <td>3</td>\n",
       "      <td>2020</td>\n",
       "    </tr>\n",
       "    <tr>\n",
       "      <th>88</th>\n",
       "      <td>2020-03-28</td>\n",
       "      <td>5959.0</td>\n",
       "      <td>971.0</td>\n",
       "      <td>NaN</td>\n",
       "      <td>28</td>\n",
       "      <td>3</td>\n",
       "      <td>2020</td>\n",
       "    </tr>\n",
       "    <tr>\n",
       "      <th>...</th>\n",
       "      <td>...</td>\n",
       "      <td>...</td>\n",
       "      <td>...</td>\n",
       "      <td>...</td>\n",
       "      <td>...</td>\n",
       "      <td>...</td>\n",
       "      <td>...</td>\n",
       "    </tr>\n",
       "    <tr>\n",
       "      <th>28</th>\n",
       "      <td>2020-01-28</td>\n",
       "      <td>0.0</td>\n",
       "      <td>0.0</td>\n",
       "      <td>NaN</td>\n",
       "      <td>28</td>\n",
       "      <td>1</td>\n",
       "      <td>2020</td>\n",
       "    </tr>\n",
       "    <tr>\n",
       "      <th>30</th>\n",
       "      <td>2020-01-30</td>\n",
       "      <td>0.0</td>\n",
       "      <td>0.0</td>\n",
       "      <td>NaN</td>\n",
       "      <td>30</td>\n",
       "      <td>1</td>\n",
       "      <td>2020</td>\n",
       "    </tr>\n",
       "    <tr>\n",
       "      <th>32</th>\n",
       "      <td>2020-02-01</td>\n",
       "      <td>0.0</td>\n",
       "      <td>0.0</td>\n",
       "      <td>NaN</td>\n",
       "      <td>1</td>\n",
       "      <td>2</td>\n",
       "      <td>2020</td>\n",
       "    </tr>\n",
       "    <tr>\n",
       "      <th>33</th>\n",
       "      <td>2020-02-02</td>\n",
       "      <td>0.0</td>\n",
       "      <td>0.0</td>\n",
       "      <td>NaN</td>\n",
       "      <td>2</td>\n",
       "      <td>2</td>\n",
       "      <td>2020</td>\n",
       "    </tr>\n",
       "    <tr>\n",
       "      <th>172</th>\n",
       "      <td>2020-06-20</td>\n",
       "      <td>-148.0</td>\n",
       "      <td>47.0</td>\n",
       "      <td>29875.0</td>\n",
       "      <td>20</td>\n",
       "      <td>6</td>\n",
       "      <td>2020</td>\n",
       "    </tr>\n",
       "  </tbody>\n",
       "</table>\n",
       "<p>248 rows × 7 columns</p>\n",
       "</div>"
      ],
      "text/plain": [
       "          date  new_cases  new_deaths  new_tests  Day  Month  Year\n",
       "82  2020-03-22     6557.0       795.0        NaN   22      3  2020\n",
       "87  2020-03-27     6153.0       660.0        NaN   27      3  2020\n",
       "81  2020-03-21     5986.0       625.0        NaN   21      3  2020\n",
       "89  2020-03-29     5974.0       887.0        NaN   29      3  2020\n",
       "88  2020-03-28     5959.0       971.0        NaN   28      3  2020\n",
       "..         ...        ...         ...        ...  ...    ...   ...\n",
       "28  2020-01-28        0.0         0.0        NaN   28      1  2020\n",
       "30  2020-01-30        0.0         0.0        NaN   30      1  2020\n",
       "32  2020-02-01        0.0         0.0        NaN    1      2  2020\n",
       "33  2020-02-02        0.0         0.0        NaN    2      2  2020\n",
       "172 2020-06-20     -148.0        47.0    29875.0   20      6  2020\n",
       "\n",
       "[248 rows x 7 columns]"
      ]
     },
     "execution_count": 31,
     "metadata": {},
     "output_type": "execute_result"
    }
   ],
   "source": [
    "df"
   ]
  },
  {
   "cell_type": "markdown",
   "id": "8e8fe069",
   "metadata": {},
   "source": [
    "# Check the overall metrics for May (i.e, the total numbers of 'new_cases', 'new_deaths', 'new_tests')"
   ]
  },
  {
   "cell_type": "code",
   "execution_count": 32,
   "id": "782f01bb",
   "metadata": {},
   "outputs": [],
   "source": [
    "# we need in the first to make dataframe of the MAY Month "
   ]
  },
  {
   "cell_type": "code",
   "execution_count": 33,
   "id": "66dfddab",
   "metadata": {},
   "outputs": [],
   "source": [
    "may_month = df[(df['date'].dt.month == 5)]"
   ]
  },
  {
   "cell_type": "code",
   "execution_count": 34,
   "id": "e6885e23",
   "metadata": {},
   "outputs": [],
   "source": [
    "total_new_cases = may_month['new_cases'].sum()\n",
    "total_new_deaths = may_month['new_deaths'].sum()\n",
    "total_new_tests = may_month['new_tests'].sum()"
   ]
  },
  {
   "cell_type": "code",
   "execution_count": 36,
   "id": "60eba69d",
   "metadata": {},
   "outputs": [
    {
     "name": "stdout",
     "output_type": "stream",
     "text": [
      "The Total new cases in May = 29073.0\n",
      "The Total new deathes in May = 5658.0\n",
      "The Total new tests in May = 1078720.0\n"
     ]
    }
   ],
   "source": [
    "print(\"The Total new cases in May =\",total_new_cases)\n",
    "print(\"The Total new deathes in May =\",total_new_deaths)\n",
    "print(\"The Total new tests  =\",total_new_tests)"
   ]
  },
  {
   "cell_type": "markdown",
   "id": "b7784ef0",
   "metadata": {},
   "source": [
    "# Which day seems like have more cases?"
   ]
  },
  {
   "cell_type": "code",
   "execution_count": 37,
   "id": "3ed43c82",
   "metadata": {},
   "outputs": [
    {
     "data": {
      "text/plain": [
       "Timestamp('2020-03-22 00:00:00')"
      ]
     },
     "execution_count": 37,
     "metadata": {},
     "output_type": "execute_result"
    }
   ],
   "source": [
    "day_with_most_cases = df.loc[df['new_cases'].idxmax(), 'date']\n",
    "day_with_most_cases"
   ]
  },
  {
   "cell_type": "markdown",
   "id": "b4b575a0",
   "metadata": {},
   "source": [
    "# Create a new dataframe with month-wise data"
   ]
  },
  {
   "cell_type": "code",
   "execution_count": 39,
   "id": "e14b5053",
   "metadata": {},
   "outputs": [
    {
     "name": "stdout",
     "output_type": "stream",
     "text": [
      "      date  new_cases  new_deaths  new_tests\n",
      "0  2019-12        0.0         0.0        0.0\n",
      "1  2020-01        3.0         0.0        0.0\n",
      "2  2020-02      885.0        21.0        0.0\n",
      "3  2020-03   100851.0     11570.0        0.0\n",
      "4  2020-04   101852.0     16091.0   419591.0\n",
      "5  2020-05    29073.0      5658.0  1078720.0\n",
      "6  2020-06     7772.0      1404.0   830354.0\n",
      "7  2020-07     6722.0       388.0   797692.0\n",
      "8  2020-08    21060.0       345.0  1098704.0\n",
      "9  2020-09     3297.0        20.0    54395.0\n"
     ]
    }
   ],
   "source": [
    "monthly_df = df.groupby(df['date'].dt.to_period(\"M\")).agg({\n",
    "    'new_cases': 'sum',\n",
    "    'new_deaths': 'sum',\n",
    "    'new_tests': 'sum'\n",
    "}).reset_index()\n",
    "print(monthly_df)"
   ]
  },
  {
   "cell_type": "code",
   "execution_count": 47,
   "id": "5b1fb28b",
   "metadata": {},
   "outputs": [
    {
     "name": "stdout",
     "output_type": "stream",
     "text": [
      "   Month  new_cases  new_deaths  new_tests\n",
      "0      1        3.0         0.0        0.0\n",
      "1      2      885.0        21.0        0.0\n",
      "2      3   100851.0     11570.0        0.0\n",
      "3      4   101852.0     16091.0   419591.0\n",
      "4      5    29073.0      5658.0  1078720.0\n",
      "5      6     7772.0      1404.0   830354.0\n",
      "6      7     6722.0       388.0   797692.0\n",
      "7      8    21060.0       345.0  1098704.0\n",
      "8      9     3297.0        20.0    54395.0\n",
      "9     12        0.0         0.0        0.0\n"
     ]
    }
   ],
   "source": [
    "# Second Way\n",
    "df_Monthly1 = df.groupby(['Month'])[['new_cases', 'new_deaths','new_tests']].sum().reset_index()\n",
    "print(df_Monthly1)"
   ]
  },
  {
   "cell_type": "markdown",
   "id": "72d6474f",
   "metadata": {},
   "source": [
    "# Plot a line graph showing how the number of daily cases varies over time."
   ]
  },
  {
   "cell_type": "code",
   "execution_count": 48,
   "id": "a8362eb5",
   "metadata": {},
   "outputs": [],
   "source": [
    "import matplotlib.pyplot as plt"
   ]
  },
  {
   "cell_type": "code",
   "execution_count": 57,
   "id": "ff9f0691",
   "metadata": {},
   "outputs": [
    {
     "data": {
      "image/png": "[encoded data removed]",
      "text/plain": [
       "<Figure size 432x288 with 1 Axes>"
      ]
     },
     "metadata": {
      "needs_background": "light"
     },
     "output_type": "display_data"
    }
   ],
   "source": [
    "plt.bar(df_Monthly1['Month'],df_Monthly1['new_cases'])\n",
    "plt.grid()\n",
    "plt.title('Total Number of Cases Per Month')\n",
    "plt.xlabel('Month')\n",
    "plt.ylabel('Number of cases')\n",
    "plt.show()"
   ]
  },
  {
   "cell_type": "code",
   "execution_count": null,
   "id": "9a037b03",
   "metadata": {},
   "outputs": [],
   "source": []
  }
 ],
 "metadata": {
  "kernelspec": {
   "display_name": "Python 3 (ipykernel)",
   "language": "python",
   "name": "python3"
  },
  "language_info": {
   "codemirror_mode": {
    "name": "ipython",
    "version": 3
   },
   "file_extension": ".py",
   "mimetype": "text/x-python",
   "name": "python",
   "nbconvert_exporter": "python",
   "pygments_lexer": "ipython3",
   "version": "3.9.7"
  }
 },
 "nbformat": 4,
 "nbformat_minor": 5
}
