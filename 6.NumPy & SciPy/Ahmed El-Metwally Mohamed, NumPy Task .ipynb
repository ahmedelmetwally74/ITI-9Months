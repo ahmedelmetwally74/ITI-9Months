{
 "cells": [
  {
   "cell_type": "markdown",
   "id": "d30e00c8",
   "metadata": {},
   "source": [
    "# Q3: Implement the L1 and L2 loss functions"
   ]
  },
  {
   "cell_type": "markdown",
   "id": "84f81650",
   "metadata": {},
   "source": [
    "# Exercise: Implement the numpy vectorized version of the L1 loss. You may find the function abs(x) (absolute value of x) useful.\n",
    "\n"
   ]
  },
  {
   "cell_type": "code",
   "execution_count": 4,
   "id": "a02f2e15",
   "metadata": {},
   "outputs": [],
   "source": [
    "import numpy as np"
   ]
  },
  {
   "cell_type": "code",
   "execution_count": 5,
   "id": "5eca46e9",
   "metadata": {},
   "outputs": [],
   "source": [
    "def L1(yhat, y):\n",
    "    \"\"\"\n",
    "    Arguments:\n",
    "    yhat -- vector of size m (predicted labels)\n",
    "    y -- vector of size m (true labels)\n",
    "    \n",
    "    Returns:\n",
    "    loss -- the value of the L1 loss function defined above\n",
    "    \"\"\" \n",
    "    loss = np.sum(np.abs(yhat - y))\n",
    "    \n",
    "    return loss"
   ]
  },
  {
   "cell_type": "code",
   "execution_count": 6,
   "id": "34d2308a",
   "metadata": {},
   "outputs": [
    {
     "name": "stdout",
     "output_type": "stream",
     "text": [
      "L1 = 1.1\n"
     ]
    }
   ],
   "source": [
    "yhat = np.array([.9, 0.2, 0.1, .4, .9])\n",
    "y = np.array([1, 0, 0, 1, 1])\n",
    "\n",
    "l1_loss = L1(yhat, y)\n",
    "print(\"L1 = \" + str(l1_loss))"
   ]
  },
  {
   "cell_type": "markdown",
   "id": "9f201798",
   "metadata": {},
   "source": [
    "# Exercise: Implement the numpy vectorized version of the L2 loss. There are several way of implementing the L2 loss but you may find the function np.dot() useful. \n"
   ]
  },
  {
   "cell_type": "code",
   "execution_count": 7,
   "id": "366be091",
   "metadata": {},
   "outputs": [],
   "source": [
    "def L2(yhat, y):\n",
    "    \"\"\"\n",
    "    Arguments:\n",
    "    yhat -- vector of size m (predicted labels)\n",
    "    y -- vector of size m (true labels)\n",
    "    \n",
    "    Returns:\n",
    "    loss -- the value of the L2 loss function defined above\n",
    "    \"\"\"\n",
    "    \n",
    "    loss = np.sum((yhat - y)**2)\n",
    "    \n",
    "    return loss"
   ]
  },
  {
   "cell_type": "code",
   "execution_count": 8,
   "id": "7d30460e",
   "metadata": {},
   "outputs": [
    {
     "name": "stdout",
     "output_type": "stream",
     "text": [
      "L2 = 0.43\n"
     ]
    }
   ],
   "source": [
    "yhat = np.array([.9, 0.2, 0.1, .4, .9])\n",
    "y = np.array([1, 0, 0, 1, 1])\n",
    "\n",
    "l2_loss = L2(yhat, y)\n",
    "print(\"L2 = \" + str(l2_loss))"
   ]
  },
  {
   "cell_type": "markdown",
   "id": "5b8b33e2",
   "metadata": {},
   "source": [
    "# Q4: comparing the dot product using parallelism in python vs numpy_dot_product vs using the for_loop and compute the time needed for each."
   ]
  },
  {
   "cell_type": "markdown",
   "id": "50e7f4cd",
   "metadata": {},
   "source": [
    "# (1) numpy_dot_product"
   ]
  },
  {
   "cell_type": "code",
   "execution_count": 9,
   "id": "17cb307f",
   "metadata": {},
   "outputs": [],
   "source": [
    "import time"
   ]
  },
  {
   "cell_type": "code",
   "execution_count": 11,
   "id": "f89e8ba8",
   "metadata": {},
   "outputs": [],
   "source": [
    "a = np.random.randn(10000)\n",
    "b = np.random.randn(10000)"
   ]
  },
  {
   "cell_type": "code",
   "execution_count": 12,
   "id": "c0345542",
   "metadata": {},
   "outputs": [
    {
     "name": "stdout",
     "output_type": "stream",
     "text": [
      "Time in sec: 0.0625\n"
     ]
    }
   ],
   "source": [
    "tic = time.process_time()\n",
    "\n",
    "for _ in range(10000):\n",
    "    a @ b\n",
    "\n",
    "toc = time.process_time()\n",
    "\n",
    "\n",
    "dt1 = toc - tic\n",
    "print(\"Time in sec:\", dt1)"
   ]
  },
  {
   "cell_type": "markdown",
   "id": "0b261145",
   "metadata": {},
   "source": [
    "# (2) using the for_loop"
   ]
  },
  {
   "cell_type": "code",
   "execution_count": 16,
   "id": "a47ea5e3",
   "metadata": {},
   "outputs": [
    {
     "data": {
      "text/plain": [
       "75.26424721791956"
      ]
     },
     "execution_count": 16,
     "metadata": {},
     "output_type": "execute_result"
    }
   ],
   "source": [
    "def slow_dot_product(a, b):\n",
    "    result = 0\n",
    "    for i in range(len(a)):\n",
    "        result += a[i] * b[i]\n",
    "    return result\n",
    "\n",
    "slow_dot_product(a, b)"
   ]
  },
  {
   "cell_type": "code",
   "execution_count": 17,
   "id": "b7dacf04",
   "metadata": {},
   "outputs": [
    {
     "name": "stdout",
     "output_type": "stream",
     "text": [
      "Time in sec: 35.078125\n"
     ]
    }
   ],
   "source": [
    "tic = time.process_time()\n",
    "\n",
    "for _ in range(10000):\n",
    "    slow_dot_product(a, b)\n",
    "\n",
    "toc = time.process_time()\n",
    "\n",
    "\n",
    "dt1 = toc - tic\n",
    "print(\"Time in sec:\", dt1)"
   ]
  },
  {
   "cell_type": "markdown",
   "id": "0bf41b68",
   "metadata": {},
   "source": [
    "# (3) the dot product using parallelism"
   ]
  },
  {
   "cell_type": "code",
   "execution_count": 30,
   "id": "e4496166",
   "metadata": {},
   "outputs": [],
   "source": [
    "from joblib import Parallel, delayed"
   ]
  },
  {
   "cell_type": "code",
   "execution_count": 31,
   "id": "9afbb22a",
   "metadata": {},
   "outputs": [],
   "source": [
    "def chunk_dot_product(chunk):\n",
    "    return np.dot(chunk[0], chunk[1])"
   ]
  },
  {
   "cell_type": "code",
   "execution_count": 32,
   "id": "05fd3445",
   "metadata": {},
   "outputs": [],
   "source": [
    "def parallel_dot_product(a, b, chunk_size=10000):\n",
    "    a_chunks = np.array_split(a, len(a) // chunk_size + 1)\n",
    "    b_chunks = np.array_split(b, len(b) // chunk_size + 1)"
   ]
  },
  {
   "cell_type": "code",
   "execution_count": 43,
   "id": "4a35ede1",
   "metadata": {},
   "outputs": [],
   "source": [
    " def parallel_dot_product(a, b, chunk_size=10000):\n",
    "    # Split arrays into chunks\n",
    "    a_chunks = np.array_split(a, len(a) // chunk_size + 1)\n",
    "    b_chunks = np.array_split(b, len(b) // chunk_size + 1)\n",
    "\n",
    "    # Combine chunks for parallel processing\n",
    "    chunks = list(zip(a_chunks, b_chunks))\n",
    "\n",
    "    # Use joblib to parallelize dot product calculation\n",
    "    with Parallel(n_jobs=-1) as parallel:\n",
    "        results = parallel(delayed(chunk_dot_product)(chunk) for chunk in chunks)\n",
    "\n",
    "    return np.sum(results)"
   ]
  },
  {
   "cell_type": "code",
   "execution_count": 44,
   "id": "a41314ee",
   "metadata": {},
   "outputs": [],
   "source": [
    "size = 10000\n",
    "a = np.random.randn(10000)\n",
    "b = np.random.randn(10000)"
   ]
  },
  {
   "cell_type": "code",
   "execution_count": 45,
   "id": "dd4ffef6",
   "metadata": {},
   "outputs": [],
   "source": [
    "start_time = time.time()\n",
    "result_parallel = parallel_dot_product(a, b)\n",
    "parallel_time = time.time() - start_time"
   ]
  },
  {
   "cell_type": "code",
   "execution_count": 46,
   "id": "530632d2",
   "metadata": {},
   "outputs": [
    {
     "name": "stdout",
     "output_type": "stream",
     "text": [
      "Result of Parallel Dot Product:\n",
      "-8.364161308514102\n",
      "Parallel Dot Product Time: 0.005997896194458008 seconds\n"
     ]
    }
   ],
   "source": [
    "print(\"Result of Parallel Dot Product:\")\n",
    "print(result_parallel)\n",
    "print(f\"Parallel Dot Product Time: {parallel_time} seconds\")"
   ]
  },
  {
   "cell_type": "code",
   "execution_count": null,
   "id": "ad1bc5a2",
   "metadata": {},
   "outputs": [],
   "source": []
  }
 ],
 "metadata": {
  "kernelspec": {
   "display_name": "Python 3 (ipykernel)",
   "language": "python",
   "name": "python3"
  },
  "language_info": {
   "codemirror_mode": {
    "name": "ipython",
    "version": 3
   },
   "file_extension": ".py",
   "mimetype": "text/x-python",
   "name": "python",
   "nbconvert_exporter": "python",
   "pygments_lexer": "ipython3",
   "version": "3.9.7"
  }
 },
 "nbformat": 4,
 "nbformat_minor": 5
}
