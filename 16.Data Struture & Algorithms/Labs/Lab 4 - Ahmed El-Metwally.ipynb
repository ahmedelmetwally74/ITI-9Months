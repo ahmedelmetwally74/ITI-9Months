{
 "cells": [
  {
   "cell_type": "markdown",
   "metadata": {},
   "source": [
    "# Lab 4 "
   ]
  },
  {
   "cell_type": "markdown",
   "metadata": {},
   "source": [
    "Name : Ahmed El-Metwally Mohamed  "
   ]
  },
  {
   "cell_type": "markdown",
   "metadata": {},
   "source": [
    "## Question 1 "
   ]
  },
  {
   "cell_type": "markdown",
   "metadata": {},
   "source": [
    "### Describe and Solve the problem of Sorting an array of integers using Merge Sort, then Implement the Merge Sort and Find its time Complexity"
   ]
  },
  {
   "cell_type": "code",
   "execution_count": 1,
   "metadata": {},
   "outputs": [],
   "source": [
    "def Merge(arr,start,mid,end):\n",
    "\n",
    "    temp=[]\n",
    "    list1 = start\n",
    "    list2 = mid+1\n",
    "    while(list1<=mid and list2<=end):\n",
    "        if(arr[list1]<arr[list2]):\n",
    "            temp.append(arr[list1])\n",
    "            list1=list1+1\n",
    "        else: \n",
    "            temp.append(arr[list2])\n",
    "            list2=list2+1\n",
    "\n",
    "    while(list1<=mid):\n",
    "        temp.append(arr[list1])\n",
    "        list1=list1+1\n",
    "        \n",
    "    while(list2<=end):\n",
    "        temp.append(arr[list2])\n",
    "        list2=list2+1\n",
    "\n",
    "    I =start\n",
    "    while(I<=end):\n",
    "        arr[I]=temp[I-start]\n",
    "        I=I+1\n"
   ]
  },
  {
   "cell_type": "code",
   "execution_count": 2,
   "metadata": {},
   "outputs": [],
   "source": [
    "# for recurresion \n",
    "def Merge_Sort(arr,start,end):\n",
    "    if(end>start):\n",
    "        mid=(start+end)//2 # Must using // for round \n",
    "        Merge_Sort(arr,start,mid)\n",
    "        Merge_Sort(arr,mid+1,end)\n",
    "        Merge(arr,start,mid,end)\n",
    "    return arr "
   ]
  },
  {
   "cell_type": "code",
   "execution_count": 3,
   "metadata": {},
   "outputs": [],
   "source": [
    "arr = [8,4,5,7]"
   ]
  },
  {
   "cell_type": "code",
   "execution_count": 4,
   "metadata": {},
   "outputs": [],
   "source": [
    "arr = Merge_Sort(arr, start=0, end=len(arr)-1)"
   ]
  },
  {
   "cell_type": "code",
   "execution_count": 5,
   "metadata": {},
   "outputs": [
    {
     "data": {
      "text/plain": [
       "[4, 5, 7, 8]"
      ]
     },
     "execution_count": 5,
     "metadata": {},
     "output_type": "execute_result"
    }
   ],
   "source": [
    "arr"
   ]
  },
  {
   "cell_type": "code",
   "execution_count": 9,
   "metadata": {},
   "outputs": [],
   "source": [
    "arr2 = [5,7,9,4,1,6,10,2,8]\n",
    "arr2 = Merge_Sort(arr2, start=0, end=len(arr2)-1)"
   ]
  },
  {
   "cell_type": "code",
   "execution_count": 10,
   "metadata": {},
   "outputs": [
    {
     "data": {
      "text/plain": [
       "[1, 2, 4, 5, 6, 7, 8, 9, 10]"
      ]
     },
     "execution_count": 10,
     "metadata": {},
     "output_type": "execute_result"
    }
   ],
   "source": [
    "arr2"
   ]
  },
  {
   "cell_type": "markdown",
   "metadata": {},
   "source": [
    "## Question 2"
   ]
  },
  {
   "cell_type": "markdown",
   "metadata": {},
   "source": [
    "### Describe and Solve the problem of finding the Maximum and Minimum number in an array of integers using Divide and Conquer Strategy then find its time compexity"
   ]
  },
  {
   "cell_type": "code",
   "execution_count": 39,
   "metadata": {},
   "outputs": [],
   "source": [
    "def Partition(arr, start_index , end_index):\n",
    "    pivot = arr[start_index]\n",
    "    low = start_index + 1\n",
    "    high = end_index \n",
    "    while high > low :\n",
    "        while arr[low] < pivot:\n",
    "            low += 1\n",
    "\n",
    "        while arr[high] > pivot :\n",
    "            high -= 1   \n",
    "\n",
    "        if high > low :\n",
    "            arr[low] , arr[high] = arr[high], arr[low]\n",
    "            low += 1\n",
    "            high -= 1\n",
    "\n",
    "    arr[start_index] , arr[high]= arr[high], arr[start_index]\n",
    "\n",
    "    return high\n"
   ]
  },
  {
   "cell_type": "code",
   "execution_count": 40,
   "metadata": {},
   "outputs": [],
   "source": [
    "def Quick_sort(arr , start_index , end_index ):\n",
    "    if end_index > start_index :\n",
    "        pivot = start_index \n",
    "        loc = Partition(arr , start_index , end_index)\n",
    "        Quick_sort(arr, start_index , loc-1)\n",
    "        Quick_sort(arr, loc+1 , end_index)\n",
    "        mini = arr[start_index]\n",
    "        maxi = arr[end_index]\n",
    "\n",
    "        return min , max   "
   ]
  },
  {
   "cell_type": "code",
   "execution_count": 41,
   "metadata": {},
   "outputs": [],
   "source": [
    "arr3 = [5,7,9,4,6,10,2,8]\n",
    "min, max = Quick_sort(arr3, 0, len(arr3)-1)\n"
   ]
  },
  {
   "cell_type": "code",
   "execution_count": 42,
   "metadata": {},
   "outputs": [
    {
     "data": {
      "text/plain": [
       "(2, 10)"
      ]
     },
     "execution_count": 42,
     "metadata": {},
     "output_type": "execute_result"
    }
   ],
   "source": [
    "min , max"
   ]
  },
  {
   "cell_type": "code",
   "execution_count": null,
   "metadata": {},
   "outputs": [],
   "source": []
  }
 ],
 "metadata": {
  "kernelspec": {
   "display_name": "Python 3",
   "language": "python",
   "name": "python3"
  },
  "language_info": {
   "codemirror_mode": {
    "name": "ipython",
    "version": 3
   },
   "file_extension": ".py",
   "mimetype": "text/x-python",
   "name": "python",
   "nbconvert_exporter": "python",
   "pygments_lexer": "ipython3",
   "version": "3.12.0"
  }
 },
 "nbformat": 4,
 "nbformat_minor": 2
}
