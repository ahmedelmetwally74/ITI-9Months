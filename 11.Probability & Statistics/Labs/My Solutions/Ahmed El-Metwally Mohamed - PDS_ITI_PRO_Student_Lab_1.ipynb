{
 "cells": [
  {
   "cell_type": "markdown",
   "metadata": {},
   "source": [
    "# LAB 1: Probability Concepts, Indepdenece and Random Variables\n",
    "\n",
    "In this lab you will use python to study the following topics:\n",
    "\n",
    "- How to simulate random experiment outcomes using numpy arrays.\n",
    "- How to estimate the probability of an event using the relative frequency approach.\n",
    "- Simulate independent events.\n",
    "- Calculate arthemitic mean, sample variance, and sample standard deviation for a dataset.\n",
    "- Calculate covariance and correlation coeffecient of two random variables.\n"
   ]
  },
  {
   "cell_type": "markdown",
   "metadata": {},
   "source": [
    "# First: you should run this cell"
   ]
  },
  {
   "cell_type": "code",
   "execution_count": 1,
   "metadata": {},
   "outputs": [],
   "source": [
    "# Make all numpy available via shorter 'np' prefix\n",
    "import numpy as np\n",
    "\n",
    "# matplotlib library\n",
    "import matplotlib.pyplot as plt\n",
    "\n",
    "import pandas as pd"
   ]
  },
  {
   "cell_type": "markdown",
   "metadata": {},
   "source": [
    "# Problem 1\n",
    "\n",
    "Use numpy to simulate the vector outcomes for repeating the following random experiments $1000$ times and use the relative frequency to compute the probability of the corresponding events:\n",
    "    \n",
    "1. **Experiment:** Flipping a fair coin, **Event:** A head occurs.\n",
    "     \n",
    "Observe how changing the number of repetition affects the computed probabilities.\n",
    "\n",
    "**Hints:** \n",
    "- Use [numpy.random.randint](https://numpy.org/doc/stable/reference/random/generated/numpy.random.randint.html) or [numpy.random.choice](https://numpy.org/doc/stable/reference/random/generated/numpy.random.choice.html) to simulate the experiment.\n",
    "- Other useful functions [numpy.arange](https://numpy.org/doc/stable/reference/generated/numpy.arange.html), [numpy.cumsum](https://numpy.org/doc/stable/reference/generated/numpy.cumsum.html), [numpy.sum](https://numpy.org/doc/stable/reference/generated/numpy.sum.html), and [matplotlib.pyplot.plot](https://matplotlib.org/stable/api/_as_gen/matplotlib.pyplot.plot.html)"
   ]
  },
  {
   "cell_type": "code",
   "execution_count": 2,
   "metadata": {},
   "outputs": [
    {
     "data": {
      "text/plain": [
       "array([0, 1, 0, 0, 0, 0, 0, 0, 1, 0])"
      ]
     },
     "execution_count": 2,
     "metadata": {},
     "output_type": "execute_result"
    }
   ],
   "source": [
    "exp = np.random.randint(0,2,size =10)\n",
    "exp"
   ]
  },
  {
   "cell_type": "code",
   "execution_count": 8,
   "metadata": {},
   "outputs": [
    {
     "name": "stdout",
     "output_type": "stream",
     "text": [
      "n = 10, P(e) = 0.3\n",
      "-----------------------------------------\n",
      "n = 50, P(e) = 0.5\n",
      "-----------------------------------------\n",
      "n = 100, P(e) = 0.48\n",
      "-----------------------------------------\n",
      "n = 500, P(e) = 0.504\n",
      "-----------------------------------------\n",
      "n = 1000, P(e) = 0.51\n",
      "-----------------------------------------\n",
      "n = 5000, P(e) = 0.4982\n",
      "-----------------------------------------\n",
      "n = 10000, P(e) = 0.5062\n",
      "-----------------------------------------\n",
      "n = 50000, P(e) = 0.49738\n",
      "-----------------------------------------\n",
      "n = 100000, P(e) = 0.49919\n",
      "-----------------------------------------\n"
     ]
    }
   ],
   "source": [
    "size = 10 \n",
    "exp = np.random.randint(0,2,size)\n",
    "print(f\"n = {size}, P(e) = {exp.mean()}\")\n",
    "print(\"-----------------------------------------\")\n",
    "size = 50 \n",
    "exp = np.random.randint(0,2,size)\n",
    "print(f\"n = {size}, P(e) = {exp.mean()}\")\n",
    "print(\"-----------------------------------------\")\n",
    "size = 100\n",
    "exp = np.random.randint(0,2,size)\n",
    "print(f\"n = {size}, P(e) = {exp.mean()}\")\n",
    "print(\"-----------------------------------------\")\n",
    "size = 500 \n",
    "exp = np.random.randint(0,2,size)\n",
    "print(f\"n = {size}, P(e) = {exp.mean()}\")\n",
    "print(\"-----------------------------------------\")\n",
    "size = 1000\n",
    "exp = np.random.randint(0,2,size)\n",
    "print(f\"n = {size}, P(e) = {exp.mean()}\")\n",
    "print(\"-----------------------------------------\")\n",
    "size = 5000\n",
    "exp = np.random.randint(0,2,size)\n",
    "print(f\"n = {size}, P(e) = {exp.mean()}\")\n",
    "print(\"-----------------------------------------\")\n",
    "size = 10000\n",
    "exp = np.random.randint(0,2,size)\n",
    "print(f\"n = {size}, P(e) = {exp.mean()}\")\n",
    "print(\"-----------------------------------------\")\n",
    "size = 50000\n",
    "exp = np.random.randint(0,2,size)\n",
    "print(f\"n = {size}, P(e) = {exp.mean()}\")\n",
    "print(\"-----------------------------------------\")\n",
    "size = 100000\n",
    "exp = np.random.randint(0,2,size)\n",
    "print(f\"n = {size}, P(e) = {exp.mean()}\")\n",
    "print(\"-----------------------------------------\")"
   ]
  },
  {
   "cell_type": "code",
   "execution_count": 46,
   "metadata": {},
   "outputs": [
    {
     "name": "stdout",
     "output_type": "stream",
     "text": [
      "[0.         0.         0.         ... 0.50390078 0.5039504  0.5039    ]\n"
     ]
    },
    {
     "data": {
      "text/plain": [
       "[<matplotlib.lines.Line2D at 0x1fd25843520>]"
      ]
     },
     "execution_count": 46,
     "metadata": {},
     "output_type": "execute_result"
    },
    {
     "data": {
      "image/png": "[encoded data removed]",
      "text/plain": [
       "<Figure size 432x288 with 1 Axes>"
      ]
     },
     "metadata": {
      "needs_background": "light"
     },
     "output_type": "display_data"
    }
   ],
   "source": [
    "size = 10000\n",
    "exp = np.random.randint(0,2,size)\n",
    "# We used Cumulative Sum to divide it by the probabilities of them\n",
    "relative_freq = np.cumsum(exp) / np.arange(1,size+1)\n",
    "print(relative_freq)\n",
    "plt.axhline(y=0.5, color='r',linestyle = '-')\n",
    "plt.grid(True)\n",
    "plt.plot(relative_freq)"
   ]
  },
  {
   "cell_type": "code",
   "execution_count": 10,
   "metadata": {},
   "outputs": [
    {
     "data": {
      "text/plain": [
       "0.504"
      ]
     },
     "execution_count": 10,
     "metadata": {},
     "output_type": "execute_result"
    }
   ],
   "source": [
    "# Another Way \n",
    "np.random.choice([0,1],size =1000,p=[0.5,0.5]).mean()"
   ]
  },
  {
   "cell_type": "code",
   "execution_count": 2,
   "metadata": {},
   "outputs": [
    {
     "name": "stdout",
     "output_type": "stream",
     "text": [
      "n = 10, P(e) = 0.6\n",
      "-----------------------------------------\n",
      "n = 50, P(e) = 0.48\n",
      "-----------------------------------------\n",
      "n = 100, P(e) = 0.52\n",
      "-----------------------------------------\n",
      "n = 500, P(e) = 0.498\n",
      "-----------------------------------------\n",
      "n = 1000, P(e) = 0.475\n",
      "-----------------------------------------\n",
      "n = 5000, P(e) = 0.4998\n",
      "-----------------------------------------\n",
      "n = 10000, P(e) = 0.5022\n",
      "-----------------------------------------\n",
      "n = 50000, P(e) = 0.5011\n",
      "-----------------------------------------\n",
      "n = 100000, P(e) = 0.49788\n",
      "-----------------------------------------\n"
     ]
    },
    {
     "data": {
      "text/plain": [
       "<matplotlib.lines.Line2D at 0x15b5ea184c0>"
      ]
     },
     "execution_count": 2,
     "metadata": {},
     "output_type": "execute_result"
    },
    {
     "data": {
      "image/png": "[encoded data removed]",
      "text/plain": [
       "<Figure size 432x288 with 1 Axes>"
      ]
     },
     "metadata": {
      "needs_background": "light"
     },
     "output_type": "display_data"
    }
   ],
   "source": [
    "#type your code here:\n"
   ]
  },
  {
   "cell_type": "markdown",
   "metadata": {},
   "source": [
    "2. **Experiment:** Rolling a fair die, **Event:** Number 5 occurs."
   ]
  },
  {
   "cell_type": "code",
   "execution_count": 43,
   "metadata": {},
   "outputs": [
    {
     "name": "stdout",
     "output_type": "stream",
     "text": [
      "n = 10, P(e) = 0.0\n",
      "-----------------------------------------\n",
      "n = 50, P(e) = 0.14\n",
      "-----------------------------------------\n",
      "n = 100, P(e) = 0.18\n",
      "-----------------------------------------\n",
      "n = 500, P(e) = 0.184\n",
      "-----------------------------------------\n",
      "n = 1000, P(e) = 0.196\n",
      "-----------------------------------------\n",
      "n = 5000, P(e) = 0.1662\n",
      "-----------------------------------------\n",
      "n = 10000, P(e) = 0.1679\n",
      "-----------------------------------------\n",
      "n = 50000, P(e) = 0.1661\n",
      "-----------------------------------------\n",
      "n = 100000, P(e) = 0.16586\n",
      "-----------------------------------------\n"
     ]
    }
   ],
   "source": [
    "size = 10 \n",
    "exp = np.random.randint(1,7,size)\n",
    "count_5 = np.count_nonzero(exp == 5)\n",
    "print(f\"n = {size}, P(e) = {count_5/size}\")\n",
    "print(\"-----------------------------------------\")\n",
    "size = 50\n",
    "exp = np.random.randint(1,7,size)\n",
    "count_5 = np.count_nonzero(exp == 5)\n",
    "print(f\"n = {size}, P(e) = {count_5/size}\")\n",
    "print(\"-----------------------------------------\")\n",
    "size = 100\n",
    "exp = np.random.randint(1,7,size)\n",
    "count_5 = np.count_nonzero(exp == 5)\n",
    "print(f\"n = {size}, P(e) = {count_5/size}\")\n",
    "print(\"-----------------------------------------\")\n",
    "size = 500\n",
    "exp = np.random.randint(1,7,size)\n",
    "count_5 = np.count_nonzero(exp == 5)\n",
    "print(f\"n = {size}, P(e) = {count_5/size}\")\n",
    "print(\"-----------------------------------------\")\n",
    "size = 1000\n",
    "exp = np.random.randint(1,7,size)\n",
    "count_5 = np.count_nonzero(exp == 5)\n",
    "print(f\"n = {size}, P(e) = {count_5/size}\")\n",
    "print(\"-----------------------------------------\")\n",
    "size = 5000\n",
    "exp = np.random.randint(1,7,size)\n",
    "count_5 = np.count_nonzero(exp == 5)\n",
    "print(f\"n = {size}, P(e) = {count_5/size}\")\n",
    "print(\"-----------------------------------------\")\n",
    "size = 10000\n",
    "exp = np.random.randint(1,7,size)\n",
    "count_5 = np.count_nonzero(exp == 5)\n",
    "print(f\"n = {size}, P(e) = {count_5/size}\")\n",
    "print(\"-----------------------------------------\")\n",
    "size = 50000\n",
    "exp = np.random.randint(1,7,size)\n",
    "count_5 = np.count_nonzero(exp == 5)\n",
    "print(f\"n = {size}, P(e) = {count_5/size}\")\n",
    "print(\"-----------------------------------------\")\n",
    "size = 100000\n",
    "exp = np.random.randint(1,7,size)\n",
    "count_5 = np.count_nonzero(exp == 5)\n",
    "print(f\"n = {size}, P(e) = {count_5/size}\")\n",
    "print(\"-----------------------------------------\")"
   ]
  },
  {
   "cell_type": "code",
   "execution_count": 44,
   "metadata": {},
   "outputs": [
    {
     "data": {
      "text/plain": [
       "[<matplotlib.lines.Line2D at 0x1fd2395a460>]"
      ]
     },
     "execution_count": 44,
     "metadata": {},
     "output_type": "execute_result"
    },
    {
     "data": {
      "image/png": "[encoded data removed]",
      "text/plain": [
       "<Figure size 432x288 with 1 Axes>"
      ]
     },
     "metadata": {
      "needs_background": "light"
     },
     "output_type": "display_data"
    }
   ],
   "source": [
    "size = 1000\n",
    "exp = np.random.randint(1, 7, size) == 5 \n",
    "relative_freq = np.cumsum(exp) / np.arange(1, size + 1)\n",
    "plt.axhline(y=0.16666, color='r', linestyle='-')\n",
    "plt.grid(True)\n",
    "plt.plot(relative_freq)"
   ]
  },
  {
   "cell_type": "code",
   "execution_count": 3,
   "metadata": {},
   "outputs": [
    {
     "name": "stdout",
     "output_type": "stream",
     "text": [
      "n = 10, P(e) = 0.2\n",
      "-----------------------------------------\n",
      "n = 50, P(e) = 0.12\n",
      "-----------------------------------------\n",
      "n = 100, P(e) = 0.19\n",
      "-----------------------------------------\n",
      "n = 500, P(e) = 0.166\n",
      "-----------------------------------------\n",
      "n = 1000, P(e) = 0.151\n",
      "-----------------------------------------\n",
      "n = 5000, P(e) = 0.1648\n",
      "-----------------------------------------\n",
      "n = 10000, P(e) = 0.1663\n",
      "-----------------------------------------\n",
      "n = 50000, P(e) = 0.1661\n",
      "-----------------------------------------\n",
      "n = 100000, P(e) = 0.16817\n",
      "-----------------------------------------\n"
     ]
    },
    {
     "data": {
      "text/plain": [
       "<matplotlib.lines.Line2D at 0x15b5f1cf0d0>"
      ]
     },
     "execution_count": 3,
     "metadata": {},
     "output_type": "execute_result"
    },
    {
     "data": {
      "image/png": "[encoded data removed]",
      "text/plain": [
       "<Figure size 432x288 with 1 Axes>"
      ]
     },
     "metadata": {
      "needs_background": "light"
     },
     "output_type": "display_data"
    }
   ],
   "source": [
    "#type your code here:\n"
   ]
  },
  {
   "cell_type": "markdown",
   "metadata": {},
   "source": [
    "3. **Experiment:** Rolling a fair die, **Event:** A number greater than 3 occurs."
   ]
  },
  {
   "cell_type": "code",
   "execution_count": 50,
   "metadata": {},
   "outputs": [
    {
     "name": "stdout",
     "output_type": "stream",
     "text": [
      "n = 10, P(e) = 0.4\n",
      "-----------------------------------------\n",
      "n = 50, P(e) = 0.48\n",
      "-----------------------------------------\n",
      "n = 100, P(e) = 0.53\n",
      "-----------------------------------------\n",
      "n = 500, P(e) = 0.49\n",
      "-----------------------------------------\n",
      "n = 1000, P(e) = 0.522\n",
      "-----------------------------------------\n",
      "n = 5000, P(e) = 0.5124\n",
      "-----------------------------------------\n",
      "n = 10000, P(e) = 0.4976\n",
      "-----------------------------------------\n",
      "n = 50000, P(e) = 0.5044\n",
      "-----------------------------------------\n",
      "n = 100000, P(e) = 0.50002\n",
      "-----------------------------------------\n"
     ]
    }
   ],
   "source": [
    "size = 10 \n",
    "exp = np.random.randint(1,7,size)\n",
    "greater_3 = np.count_nonzero(exp > 3)\n",
    "print(f\"n = {size}, P(e) = {greater_3/size}\")\n",
    "print(\"-----------------------------------------\")\n",
    "size = 50\n",
    "exp = np.random.randint(1,7,size)\n",
    "greater_3 = np.count_nonzero(exp > 3)\n",
    "print(f\"n = {size}, P(e) = {greater_3/size}\")\n",
    "print(\"-----------------------------------------\")\n",
    "size = 100\n",
    "exp = np.random.randint(1,7,size)\n",
    "greater_3 = np.count_nonzero(exp > 3)\n",
    "print(f\"n = {size}, P(e) = {greater_3/size}\")\n",
    "print(\"-----------------------------------------\")\n",
    "size = 500\n",
    "exp = np.random.randint(1,7,size)\n",
    "greater_3 = np.count_nonzero(exp > 3)\n",
    "print(f\"n = {size}, P(e) = {greater_3/size}\")\n",
    "print(\"-----------------------------------------\")\n",
    "size = 1000\n",
    "exp = np.random.randint(1,7,size)\n",
    "greater_3 = np.count_nonzero(exp > 3)\n",
    "print(f\"n = {size}, P(e) = {greater_3/size}\")\n",
    "print(\"-----------------------------------------\")\n",
    "size = 5000\n",
    "exp = np.random.randint(1,7,size)\n",
    "greater_3 = np.count_nonzero(exp > 3)\n",
    "print(f\"n = {size}, P(e) = {greater_3/size}\")\n",
    "print(\"-----------------------------------------\")\n",
    "size = 10000\n",
    "exp = np.random.randint(1,7,size)\n",
    "greater_3 = np.count_nonzero(exp > 3)\n",
    "print(f\"n = {size}, P(e) = {greater_3/size}\")\n",
    "print(\"-----------------------------------------\")\n",
    "size = 50000\n",
    "exp = np.random.randint(1,7,size)\n",
    "greater_3 = np.count_nonzero(exp > 3)\n",
    "print(f\"n = {size}, P(e) = {greater_3/size}\")\n",
    "print(\"-----------------------------------------\")\n",
    "size = 100000\n",
    "exp = np.random.randint(1,7,size)\n",
    "greater_3 = np.count_nonzero(exp > 3)\n",
    "print(f\"n = {size}, P(e) = {greater_3/size}\")\n",
    "print(\"-----------------------------------------\")"
   ]
  },
  {
   "cell_type": "code",
   "execution_count": 52,
   "metadata": {},
   "outputs": [
    {
     "data": {
      "text/plain": [
       "[<matplotlib.lines.Line2D at 0x1fd25ad34c0>]"
      ]
     },
     "execution_count": 52,
     "metadata": {},
     "output_type": "execute_result"
    },
    {
     "data": {
      "image/png": "[encoded data removed]",
      "text/plain": [
       "<Figure size 432x288 with 1 Axes>"
      ]
     },
     "metadata": {
      "needs_background": "light"
     },
     "output_type": "display_data"
    }
   ],
   "source": [
    "size = 1000\n",
    "exp = np.random.randint(1, 7, size) > 3 \n",
    "relative_freq = np.cumsum(exp) / np.arange(1, size + 1)\n",
    "plt.axhline(y=0.5, color='r', linestyle='-')\n",
    "plt.grid(True)\n",
    "plt.plot(relative_freq)"
   ]
  },
  {
   "cell_type": "code",
   "execution_count": 4,
   "metadata": {},
   "outputs": [
    {
     "name": "stdout",
     "output_type": "stream",
     "text": [
      "n = 10, P(e) = 0.6\n",
      "-----------------------------------------\n",
      "n = 50, P(e) = 0.48\n",
      "-----------------------------------------\n",
      "n = 100, P(e) = 0.44\n",
      "-----------------------------------------\n",
      "n = 500, P(e) = 0.496\n",
      "-----------------------------------------\n",
      "n = 1000, P(e) = 0.489\n",
      "-----------------------------------------\n",
      "n = 5000, P(e) = 0.5052\n",
      "-----------------------------------------\n",
      "n = 10000, P(e) = 0.4962\n",
      "-----------------------------------------\n",
      "n = 50000, P(e) = 0.49842\n",
      "-----------------------------------------\n",
      "n = 100000, P(e) = 0.49983\n",
      "-----------------------------------------\n"
     ]
    },
    {
     "data": {
      "text/plain": [
       "<matplotlib.lines.Line2D at 0x15b5f24f070>"
      ]
     },
     "execution_count": 4,
     "metadata": {},
     "output_type": "execute_result"
    },
    {
     "data": {
      "image/png": "[encoded data removed]",
      "text/plain": [
       "<Figure size 432x288 with 1 Axes>"
      ]
     },
     "metadata": {
      "needs_background": "light"
     },
     "output_type": "display_data"
    }
   ],
   "source": [
    "#type your code here:\n"
   ]
  },
  {
   "cell_type": "markdown",
   "metadata": {},
   "source": [
    "4. **Experiment:** Rolling two fair dice, **Event:** Sum of two dice equal 5."
   ]
  },
  {
   "cell_type": "code",
   "execution_count": 56,
   "metadata": {},
   "outputs": [
    {
     "name": "stdout",
     "output_type": "stream",
     "text": [
      "n = 10, P(e) = 0.0\n",
      "-----------------------------------------\n",
      "n = 50, P(e) = 0.16\n",
      "-----------------------------------------\n",
      "n = 100, P(e) = 0.08\n",
      "-----------------------------------------\n",
      "n = 500, P(e) = 0.13\n",
      "-----------------------------------------\n",
      "n = 1000, P(e) = 0.124\n",
      "-----------------------------------------\n",
      "n = 5000, P(e) = 0.11\n",
      "-----------------------------------------\n",
      "n = 10000, P(e) = 0.1137\n",
      "-----------------------------------------\n",
      "n = 50000, P(e) = 0.11228\n",
      "-----------------------------------------\n",
      "n = 100000, P(e) = 0.11043\n",
      "-----------------------------------------\n"
     ]
    }
   ],
   "source": [
    "size = 10\n",
    "dice1 = np.random.randint(1, 7, size)\n",
    "dice2 = np.random.randint(1, 7, size)\n",
    "sum_of_dice = dice1 + dice2\n",
    "count_sum_5 = np.count_nonzero(sum_of_dice == 5)\n",
    "print(f\"n = {size}, P(e) = {count_sum_5/size}\")\n",
    "print(\"-----------------------------------------\")\n",
    "size = 50\n",
    "dice1 = np.random.randint(1, 7, size)\n",
    "dice2 = np.random.randint(1, 7, size)\n",
    "sum_of_dice = dice1 + dice2\n",
    "count_sum_5 = np.count_nonzero(sum_of_dice == 5)\n",
    "print(f\"n = {size}, P(e) = {count_sum_5/size}\")\n",
    "print(\"-----------------------------------------\")\n",
    "size = 100\n",
    "dice1 = np.random.randint(1, 7, size)\n",
    "dice2 = np.random.randint(1, 7, size)\n",
    "sum_of_dice = dice1 + dice2\n",
    "count_sum_5 = np.count_nonzero(sum_of_dice == 5)\n",
    "print(f\"n = {size}, P(e) = {count_sum_5/size}\")\n",
    "print(\"-----------------------------------------\")\n",
    "size = 500\n",
    "dice1 = np.random.randint(1, 7, size)\n",
    "dice2 = np.random.randint(1, 7, size)\n",
    "sum_of_dice = dice1 + dice2\n",
    "count_sum_5 = np.count_nonzero(sum_of_dice == 5)\n",
    "print(f\"n = {size}, P(e) = {count_sum_5/size}\")\n",
    "print(\"-----------------------------------------\")\n",
    "size = 1000\n",
    "dice1 = np.random.randint(1, 7, size)\n",
    "dice2 = np.random.randint(1, 7, size)\n",
    "sum_of_dice = dice1 + dice2\n",
    "count_sum_5 = np.count_nonzero(sum_of_dice == 5)\n",
    "print(f\"n = {size}, P(e) = {count_sum_5/size}\")\n",
    "print(\"-----------------------------------------\")\n",
    "size = 5000\n",
    "dice1 = np.random.randint(1, 7, size)\n",
    "dice2 = np.random.randint(1, 7, size)\n",
    "sum_of_dice = dice1 + dice2\n",
    "count_sum_5 = np.count_nonzero(sum_of_dice == 5)\n",
    "print(f\"n = {size}, P(e) = {count_sum_5/size}\")\n",
    "print(\"-----------------------------------------\")\n",
    "size = 10000\n",
    "dice1 = np.random.randint(1, 7, size)\n",
    "dice2 = np.random.randint(1, 7, size)\n",
    "sum_of_dice = dice1 + dice2\n",
    "count_sum_5 = np.count_nonzero(sum_of_dice == 5)\n",
    "print(f\"n = {size}, P(e) = {count_sum_5/size}\")\n",
    "print(\"-----------------------------------------\")\n",
    "size = 50000\n",
    "dice1 = np.random.randint(1, 7, size)\n",
    "dice2 = np.random.randint(1, 7, size)\n",
    "sum_of_dice = dice1 + dice2\n",
    "count_sum_5 = np.count_nonzero(sum_of_dice == 5)\n",
    "print(f\"n = {size}, P(e) = {count_sum_5/size}\")\n",
    "print(\"-----------------------------------------\")\n",
    "size = 100000\n",
    "dice1 = np.random.randint(1, 7, size)\n",
    "dice2 = np.random.randint(1, 7, size)\n",
    "sum_of_dice = dice1 + dice2\n",
    "count_sum_5 = np.count_nonzero(sum_of_dice == 5)\n",
    "print(f\"n = {size}, P(e) = {count_sum_5/size}\")\n",
    "print(\"-----------------------------------------\")"
   ]
  },
  {
   "cell_type": "code",
   "execution_count": 60,
   "metadata": {},
   "outputs": [
    {
     "data": {
      "text/plain": [
       "[<matplotlib.lines.Line2D at 0x1fd1ef596a0>]"
      ]
     },
     "execution_count": 60,
     "metadata": {},
     "output_type": "execute_result"
    },
    {
     "data": {
      "image/png": "[encoded data removed]",
      "text/plain": [
       "<Figure size 432x288 with 1 Axes>"
      ]
     },
     "metadata": {
      "needs_background": "light"
     },
     "output_type": "display_data"
    }
   ],
   "source": [
    "size = 1000\n",
    "dice1 = np.random.randint(1, 7, size)\n",
    "dice2 = np.random.randint(1, 7, size)\n",
    "sum_of_dice = dice1 + dice2\n",
    "count_sum_5 = np.cumsum(sum_of_dice == 5)\n",
    "relative_freq = count_sum_5 / np.arange(1, size + 1)\n",
    "plt.axhline(y=0.11, color='r', linestyle='-')\n",
    "plt.grid(True)\n",
    "plt.plot(relative_freq)"
   ]
  },
  {
   "cell_type": "code",
   "execution_count": 5,
   "metadata": {},
   "outputs": [
    {
     "name": "stdout",
     "output_type": "stream",
     "text": [
      "n = 10, P(e) = 0.1\n",
      "-----------------------------------------\n",
      "n = 50, P(e) = 0.04\n",
      "-----------------------------------------\n",
      "n = 100, P(e) = 0.11\n",
      "-----------------------------------------\n",
      "n = 500, P(e) = 0.116\n",
      "-----------------------------------------\n",
      "n = 1000, P(e) = 0.112\n",
      "-----------------------------------------\n",
      "n = 5000, P(e) = 0.1134\n",
      "-----------------------------------------\n",
      "n = 10000, P(e) = 0.1056\n",
      "-----------------------------------------\n",
      "n = 50000, P(e) = 0.10812\n",
      "-----------------------------------------\n",
      "n = 100000, P(e) = 0.10955\n",
      "-----------------------------------------\n"
     ]
    },
    {
     "data": {
      "text/plain": [
       "<matplotlib.lines.Line2D at 0x15b5f2b5ee0>"
      ]
     },
     "execution_count": 5,
     "metadata": {},
     "output_type": "execute_result"
    },
    {
     "data": {
      "image/png": "[encoded data removed]",
      "text/plain": [
       "<Figure size 432x288 with 1 Axes>"
      ]
     },
     "metadata": {
      "needs_background": "light"
     },
     "output_type": "display_data"
    }
   ],
   "source": [
    "#type your code here:\n"
   ]
  },
  {
   "cell_type": "markdown",
   "metadata": {},
   "source": [
    "# Problem 2\n",
    "\n",
    "Simulate the experiment of tossing $1000$ times a coin with probability of **head (coded as $1$) equal to $0.4$** and probability of **tail (coded as $0$) equal to $0.6$**. How can you check if the simulation of the experiment of been running as expected.\n",
    "\n",
    "**Hint**: Use [matplotlib.pyplot.hist¶\n",
    "](https://matplotlib.org/stable/api/_as_gen/matplotlib.pyplot.hist.html)"
   ]
  },
  {
   "cell_type": "code",
   "execution_count": 66,
   "metadata": {},
   "outputs": [
    {
     "data": {
      "image/png": "[encoded data removed]",
      "text/plain": [
       "<Figure size 432x288 with 1 Axes>"
      ]
     },
     "metadata": {
      "needs_background": "light"
     },
     "output_type": "display_data"
    }
   ],
   "source": [
    "exp = np.random.choice([1,0],size = 1000, p=[0.4,0.6])\n",
    "plt.hist(exp)\n",
    "plt.grid(True)\n",
    "plt.show()"
   ]
  },
  {
   "cell_type": "code",
   "execution_count": 6,
   "metadata": {},
   "outputs": [
    {
     "data": {
      "image/png": "[encoded data removed]",
      "text/plain": [
       "<Figure size 432x288 with 1 Axes>"
      ]
     },
     "metadata": {
      "needs_background": "light"
     },
     "output_type": "display_data"
    }
   ],
   "source": [
    "#type your code here:\n"
   ]
  },
  {
   "cell_type": "markdown",
   "metadata": {},
   "source": [
    "# Problem 3: Independence\n",
    "\n",
    "Use NumPy to create simulations and compute **empirical  probability** for the following outcomes. Compare the results with the **theoretical probability**.\n",
    "\n",
    "1. Two fair coin flips produce exactly two heads"
   ]
  },
  {
   "cell_type": "code",
   "execution_count": 67,
   "metadata": {},
   "outputs": [
    {
     "data": {
      "text/plain": [
       "0.249511"
      ]
     },
     "execution_count": 67,
     "metadata": {},
     "output_type": "execute_result"
    }
   ],
   "source": [
    "# simulate 1 million tests of two fair coin flips\n",
    "n = 1000000\n",
    "coins = np.random.randint(0,2,size=(n,2))\n",
    "# sums of all tests\n",
    "sum_all_tests = np.sum(coins,axis=1)\n",
    "two_heads = np.sum(sum_all_tests == 2)\n",
    "# proportion of tests that produced exactly two heads\n",
    "p = two_heads/n\n",
    "print(p)"
   ]
  },
  {
   "cell_type": "code",
   "execution_count": 7,
   "metadata": {},
   "outputs": [
    {
     "data": {
      "text/plain": [
       "0.249809"
      ]
     },
     "execution_count": 7,
     "metadata": {},
     "output_type": "execute_result"
    }
   ],
   "source": [
    "#type your code here:\n",
    "\n",
    "# simulate 1 million tests of two fair coin flips\n",
    "\n",
    "\n",
    "# sums of all tests\n",
    "\n",
    "\n",
    "# proportion of tests that produced exactly two heads\n"
   ]
  },
  {
   "cell_type": "markdown",
   "metadata": {},
   "source": [
    "2. Three fair coin flips produce exactly one head"
   ]
  },
  {
   "cell_type": "code",
   "execution_count": 69,
   "metadata": {},
   "outputs": [
    {
     "name": "stdout",
     "output_type": "stream",
     "text": [
      "0.375366\n"
     ]
    }
   ],
   "source": [
    "# simulate 1 million tests of three fair coin flips\n",
    "n = 1000000\n",
    "coins = np.random.randint(0,2,size =(n,3))\n",
    "# sums of all tests\n",
    "sum_all_tests = np.sum(coins,axis=1)\n",
    "one_head = np.sum(sum_all_tests == 1)\n",
    "# proportion of tests that produced exactly one head\n",
    "p = one_head/n\n",
    "print(p)"
   ]
  },
  {
   "cell_type": "code",
   "execution_count": 8,
   "metadata": {},
   "outputs": [
    {
     "data": {
      "text/plain": [
       "0.374819"
      ]
     },
     "execution_count": 8,
     "metadata": {},
     "output_type": "execute_result"
    }
   ],
   "source": [
    "#type your code here:\n",
    "\n",
    "# simulate 1 million tests of three fair coin flips\n",
    "\n",
    "\n",
    "# sums of all tests\n",
    "\n",
    "\n",
    "# proportion of tests that produced exactly one head\n"
   ]
  },
  {
   "cell_type": "markdown",
   "metadata": {},
   "source": [
    "3. Three biased coin flips with P(H) = 0.6 produce exactly one head"
   ]
  },
  {
   "cell_type": "code",
   "execution_count": 70,
   "metadata": {},
   "outputs": [
    {
     "name": "stdout",
     "output_type": "stream",
     "text": [
      "0.375366\n"
     ]
    }
   ],
   "source": [
    "# simulate 1 million tests of three biased coin flips\n",
    "# hint: use np.random.choice()\n",
    "n = 1000000\n",
    "coin = np.random.choice([0, 1], size=(n, 3), p=[0.4, 0.6])\n",
    "# sums of all tests\n",
    "sum_all_tests = np.sum(coins,axis=1)\n",
    "one_head = np.sum(sum_all_tests == 1)\n",
    "# proportion of tests that produced exactly one head\n",
    "p = one_head/n\n",
    "print(p)"
   ]
  },
  {
   "cell_type": "code",
   "execution_count": 9,
   "metadata": {},
   "outputs": [
    {
     "data": {
      "text/plain": [
       "0.288288"
      ]
     },
     "execution_count": 9,
     "metadata": {},
     "output_type": "execute_result"
    }
   ],
   "source": [
    "#type your code here:\n",
    "\n",
    "\n",
    "# simulate 1 million tests of three biased coin flips\n",
    "# hint: use np.random.choice()\n",
    "\n",
    "\n",
    "# sums of all tests\n",
    "\n",
    "\n",
    "# proportion of tests that produced exactly one head\n"
   ]
  },
  {
   "cell_type": "markdown",
   "metadata": {},
   "source": [
    "# Problem 4:Random Variables Statistical Tools\n",
    "Simulate Rolling a fair die $1000$ times. Then calculate the following:\n",
    "\n",
    "- Sample mean\n",
    "- Sample variance\n",
    "- Sample standard deviation\n",
    "\n",
    "Compare the results with the theoretical probability."
   ]
  },
  {
   "cell_type": "code",
   "execution_count": 73,
   "metadata": {},
   "outputs": [
    {
     "name": "stdout",
     "output_type": "stream",
     "text": [
      "Sample mean: 3.41\n",
      "Sample variance: 2.9819000000000004\n",
      "Sample standard deviation: 1.7268178826963776\n",
      "3.5\n",
      "2.9166666666666665\n",
      "1.707825127659933\n"
     ]
    }
   ],
   "source": [
    "size = 1000\n",
    "exp = np.random.randint(1,7 ,size)\n",
    "mean = exp.mean()\n",
    "print(f\"Sample mean: {mean}\")\n",
    "variance = np.var(exp)\n",
    "print(f\"Sample variance: {variance}\")\n",
    "standard_deviation = np.sqrt(variance)\n",
    "print(f\"Sample standard deviation: {standard_deviation}\")\n",
    "# theoritical Probability\n",
    "mean1 = 21 / 6\n",
    "variance1 = 35 /12 \n",
    "standard_deviation1 = np.sqrt(variance1)\n",
    "print(f'{mean1}\\n{variance1}\\n{standard_deviation1}')"
   ]
  },
  {
   "cell_type": "code",
   "execution_count": 10,
   "metadata": {},
   "outputs": [
    {
     "name": "stdout",
     "output_type": "stream",
     "text": [
      "Sample mean: 3.463\n",
      "Sample variance: 3.005636636636637\n",
      "Sample standard deviation: 1.7336772008181445\n",
      "3.463\n",
      "3.005636636636637\n",
      "1.7336772008181445\n"
     ]
    }
   ],
   "source": [
    "#type your code here:\n"
   ]
  },
  {
   "cell_type": "markdown",
   "metadata": {},
   "source": [
    "# Problem 5: Correlation and Covariance\n",
    "\n",
    "The CSV file includes a hourly/daily summary for Szeged, Hungary area, between 2006 and 2016. After inspecting the data:\n",
    "\n",
    "- Calculate the covariance and correlation coeffecient between temperature and apparent temperature\n",
    "- Calculate the covariance and correlation coeffecient between temperature and humidity"
   ]
  },
  {
   "cell_type": "code",
   "execution_count": 74,
   "metadata": {},
   "outputs": [],
   "source": [
    "df = pd.read_csv(r'E:\\ITI AI&ML\\11.Probability & Statistics\\Labs\\Day 01\\weatherHistory.csv')\n",
    "temperature = df['Temperature (C)'].to_numpy().reshape(-1, 1)\n",
    "apparant_temp = df['Apparent Temperature (C)'].to_numpy().reshape(-1, 1)\n",
    "humidity = df['Humidity'].to_numpy().reshape(-1, 1)"
   ]
  },
  {
   "cell_type": "code",
   "execution_count": 75,
   "metadata": {},
   "outputs": [
    {
     "data": {
      "text/plain": [
       "Text(0, 0.5, 'Apparent Temperature (C)')"
      ]
     },
     "execution_count": 75,
     "metadata": {},
     "output_type": "execute_result"
    },
    {
     "data": {
      "image/png": "[encoded data removed]",
      "text/plain": [
       "<Figure size 432x288 with 1 Axes>"
      ]
     },
     "metadata": {
      "needs_background": "light"
     },
     "output_type": "display_data"
    }
   ],
   "source": [
    "plt.scatter(temperature, apparant_temp)\n",
    "plt.grid()\n",
    "plt.xlabel('Temperature (C)')\n",
    "plt.ylabel('Apparent Temperature (C)')"
   ]
  },
  {
   "cell_type": "code",
   "execution_count": 12,
   "metadata": {},
   "outputs": [
    {
     "data": {
      "text/plain": [
       "Text(0, 0.5, 'Apparent Temperature (C)')"
      ]
     },
     "execution_count": 12,
     "metadata": {},
     "output_type": "execute_result"
    },
    {
     "data": {
      "image/png": "[encoded data removed]",
      "text/plain": [
       "<Figure size 432x288 with 1 Axes>"
      ]
     },
     "metadata": {
      "needs_background": "light"
     },
     "output_type": "display_data"
    }
   ],
   "source": [
    "plt.scatter(temperature, apparant_temp)\n",
    "plt.grid()\n",
    "plt.xlabel('Temperature (C)')\n",
    "plt.ylabel('Apparent Temperature (C)')"
   ]
  },
  {
   "cell_type": "code",
   "execution_count": 76,
   "metadata": {},
   "outputs": [
    {
     "data": {
      "text/plain": [
       "Text(0, 0.5, 'Temperature (C)')"
      ]
     },
     "execution_count": 76,
     "metadata": {},
     "output_type": "execute_result"
    },
    {
     "data": {
      "image/png": "[encoded data removed]",
      "text/plain": [
       "<Figure size 432x288 with 1 Axes>"
      ]
     },
     "metadata": {
      "needs_background": "light"
     },
     "output_type": "display_data"
    }
   ],
   "source": [
    "plt.scatter(humidity, temperature)\n",
    "plt.grid()\n",
    "plt.xlabel('Humidity')\n",
    "plt.ylabel('Temperature (C)')"
   ]
  },
  {
   "cell_type": "code",
   "execution_count": 13,
   "metadata": {},
   "outputs": [
    {
     "data": {
      "text/plain": [
       "Text(0, 0.5, 'Temperature (C)')"
      ]
     },
     "execution_count": 13,
     "metadata": {},
     "output_type": "execute_result"
    },
    {
     "data": {
      "image/png": "[encoded data removed]",
      "text/plain": [
       "<Figure size 432x288 with 1 Axes>"
      ]
     },
     "metadata": {
      "needs_background": "light"
     },
     "output_type": "display_data"
    }
   ],
   "source": [
    "plt.scatter(humidity, temperature)\n",
    "plt.grid()\n",
    "plt.xlabel('Humidity')\n",
    "plt.ylabel('Temperature (C)')"
   ]
  },
  {
   "cell_type": "markdown",
   "metadata": {},
   "source": [
    "## Temperature and Apparent Temperature"
   ]
  },
  {
   "cell_type": "code",
   "execution_count": 77,
   "metadata": {},
   "outputs": [
    {
     "data": {
      "text/plain": [
       "Index(['Temperature (C)', 'Apparent Temperature (C)', 'Humidity'], dtype='object')"
      ]
     },
     "execution_count": 77,
     "metadata": {},
     "output_type": "execute_result"
    }
   ],
   "source": [
    "df.columns "
   ]
  },
  {
   "cell_type": "code",
   "execution_count": 85,
   "metadata": {},
   "outputs": [
    {
     "name": "stdout",
     "output_type": "stream",
     "text": [
      "np.cov():\n",
      " [[ 91.23203712 101.41828319]\n",
      " [101.41828319 114.42254413]]\n",
      "---------------------------------------------------\n",
      "covarience: 101.41828318854094\n",
      "---------------------------------------------------\n",
      "np.cov():\n",
      " [[1.         0.99262856]\n",
      " [0.99262856 1.        ]]\n",
      "---------------------------------------------------\n",
      "Correlation Cof: 0.9926285641920811\n"
     ]
    }
   ],
   "source": [
    "cov = np.cov(df['Temperature (C)'],df['Apparent Temperature (C)'])\n",
    "print(\"np.cov():\\n\",cov)\n",
    "print(\"---------------------------------------------------\")\n",
    "covariance_value = cov[0, 1]\n",
    "print(\"covarience:\",covariance_value)\n",
    "print(\"---------------------------------------------------\")\n",
    "corr = np.corrcoef(df['Temperature (C)'],df['Apparent Temperature (C)'])\n",
    "print(\"np.cov():\\n\",corr)\n",
    "print(\"---------------------------------------------------\")\n",
    "correlation_coefficient = corr[0, 1]\n",
    "print(\"Correlation Cof:\",correlation_coefficient)"
   ]
  },
  {
   "cell_type": "code",
   "execution_count": 14,
   "metadata": {},
   "outputs": [
    {
     "name": "stdout",
     "output_type": "stream",
     "text": [
      "Covariance:  [[101.41828319]]\n",
      "---------------------------------------------------\n",
      "np.cov(): \n",
      " [[ 91.23203712 101.41828319]\n",
      " [101.41828319 114.42254413]]\n",
      "---------------------------------------------------\n",
      "Correlation Cof:  [[0.99262856]]\n",
      "---------------------------------------------------\n",
      "np.corrcoef(): \n",
      " [[1.         0.99262856]\n",
      " [0.99262856 1.        ]]\n"
     ]
    }
   ],
   "source": [
    "#type your code here:\n",
    "\n"
   ]
  },
  {
   "cell_type": "markdown",
   "metadata": {},
   "source": [
    "## Temperature and Humidity"
   ]
  },
  {
   "cell_type": "code",
   "execution_count": 86,
   "metadata": {},
   "outputs": [
    {
     "data": {
      "text/plain": [
       "Index(['Temperature (C)', 'Apparent Temperature (C)', 'Humidity'], dtype='object')"
      ]
     },
     "execution_count": 86,
     "metadata": {},
     "output_type": "execute_result"
    }
   ],
   "source": [
    "df.columns"
   ]
  },
  {
   "cell_type": "code",
   "execution_count": 87,
   "metadata": {},
   "outputs": [
    {
     "name": "stdout",
     "output_type": "stream",
     "text": [
      "np.cov():\n",
      " [[ 9.12320371e+01 -1.18046179e+00]\n",
      " [-1.18046179e+00  3.82095917e-02]]\n",
      "---------------------------------------------------\n",
      "covarience: -1.1804617897851366\n",
      "---------------------------------------------------\n",
      "np.cov():\n",
      " [[ 1.         -0.63225468]\n",
      " [-0.63225468  1.        ]]\n",
      "---------------------------------------------------\n",
      "Correlation Cof: -0.6322546750264326\n"
     ]
    }
   ],
   "source": [
    "cov = np.cov(df['Temperature (C)'],df['Humidity'])\n",
    "print(\"np.cov():\\n\",cov)\n",
    "print(\"---------------------------------------------------\")\n",
    "covariance_value = cov[0, 1]\n",
    "print(\"covarience:\",covariance_value)\n",
    "print(\"---------------------------------------------------\")\n",
    "corr = np.corrcoef(df['Temperature (C)'],df['Humidity'])\n",
    "print(\"np.cov():\\n\",corr)\n",
    "print(\"---------------------------------------------------\")\n",
    "correlation_coefficient = corr[0, 1]\n",
    "print(\"Correlation Cof:\",correlation_coefficient)"
   ]
  },
  {
   "cell_type": "code",
   "execution_count": 15,
   "metadata": {},
   "outputs": [
    {
     "name": "stdout",
     "output_type": "stream",
     "text": [
      "Covariance:  [[-1.18046179]]\n",
      "---------------------------------------------------\n",
      "np.cov(): \n",
      " [[ 9.12320371e+01 -1.18046179e+00]\n",
      " [-1.18046179e+00  3.82095917e-02]]\n",
      "---------------------------------------------------\n",
      "Correlation Cof:  [[-0.63225468]]\n",
      "---------------------------------------------------\n",
      "np.corrcoef(): \n",
      " [[ 1.         -0.63225468]\n",
      " [-0.63225468  1.        ]]\n"
     ]
    }
   ],
   "source": [
    "#type your code here:\n"
   ]
  }
 ],
 "metadata": {
  "kernelspec": {
   "display_name": "Python 3 (ipykernel)",
   "language": "python",
   "name": "python3"
  },
  "language_info": {
   "codemirror_mode": {
    "name": "ipython",
    "version": 3
   },
   "file_extension": ".py",
   "mimetype": "text/x-python",
   "name": "python",
   "nbconvert_exporter": "python",
   "pygments_lexer": "ipython3",
   "version": "3.9.7"
  }
 },
 "nbformat": 4,
 "nbformat_minor": 4
}
