{
  "nbformat": 4,
  "nbformat_minor": 0,
  "metadata": {
    "colab": {
      "provenance": []
    },
    "kernelspec": {
      "name": "python3",
      "display_name": "Python 3"
    },
    "language_info": {
      "name": "python"
    }
  },
  "cells": [
    {
      "cell_type": "markdown",
      "source": [
        "$$ ITI \\space AI-Pro: \\space Intake \\space 44 $$\n",
        "$$ Machine \\space Learning \\space 1 $$\n",
        "$$ Lab \\space no. \\space 2 $$"
      ],
      "metadata": {
        "id": "Sc7qmOFr6i2Z"
      }
    },
    {
      "cell_type": "markdown",
      "source": [
        "# `01` Import Necessary Libraries"
      ],
      "metadata": {
        "id": "2tiys70369Bd"
      }
    },
    {
      "cell_type": "markdown",
      "source": [
        "## `i` Default Libraries"
      ],
      "metadata": {
        "id": "UwHbrH6l9Y3A"
      }
    },
    {
      "cell_type": "code",
      "execution_count": 2,
      "metadata": {
        "id": "1tSITKud4F0n"
      },
      "outputs": [],
      "source": [
        "from pathlib import Path\n",
        "import pandas as pd\n",
        "import tarfile\n",
        "import urllib.request"
      ]
    },
    {
      "cell_type": "markdown",
      "source": [
        "## `ii` Additional Libraries\n",
        "Add imports for additional libraries you used throughout the notebook"
      ],
      "metadata": {
        "id": "4St58qO89bae"
      }
    },
    {
      "cell_type": "code",
      "source": [],
      "metadata": {
        "id": "zipMCQxV9oic"
      },
      "execution_count": null,
      "outputs": []
    },
    {
      "cell_type": "markdown",
      "source": [
        "----------------------------\n",
        "\n",
        "# `02` Load Data"
      ],
      "metadata": {
        "id": "6Rp9SKDF7AsT"
      }
    },
    {
      "cell_type": "code",
      "source": [
        "def load_housing_data():\n",
        "    tarball_path = Path(\"datasets/housing.tgz\")\n",
        "    if not tarball_path.is_file():\n",
        "        Path(\"datasets\").mkdir(parents=True, exist_ok=True)\n",
        "        url = \"https://github.com/ageron/data/raw/main/housing.tgz\"\n",
        "        urllib.request.urlretrieve(url, tarball_path)\n",
        "        with tarfile.open(tarball_path) as housing_tarball:\n",
        "            housing_tarball.extractall(path=\"datasets\")\n",
        "    return pd.read_csv(Path(\"datasets/housing/housing.csv\"))\n",
        "\n",
        "housing = load_housing_data()"
      ],
      "metadata": {
        "id": "tqe9Lt1l7CX2"
      },
      "execution_count": null,
      "outputs": []
    },
    {
      "cell_type": "markdown",
      "source": [
        "## `#` Create Test Set\n",
        "\n",
        "Before exploring the data, let's split the data into training and test sets. You shouldn't touch the test set from this point furthur except for final model evaluation.\n",
        "\n",
        "Use:\n",
        "- `random_state` $= 1234$\n",
        "- `test_size` $= 0.2$\n",
        "\n",
        "Hint: You can use `sklearn.model_selection.train_test_split` function"
      ],
      "metadata": {
        "id": "Egwuc-Bb_aoL"
      }
    },
    {
      "cell_type": "code",
      "source": [],
      "metadata": {
        "id": "MkbKnE4zAOGX"
      },
      "execution_count": null,
      "outputs": []
    },
    {
      "cell_type": "markdown",
      "source": [
        "----------------\n",
        "\n",
        "# `03` Exploratory Data Analysis (EDA)"
      ],
      "metadata": {
        "id": "tKlBv0YR90G3"
      }
    },
    {
      "cell_type": "markdown",
      "source": [
        "## `i` Simple Analysis\n",
        "\n",
        "Preview data, perform statistical data analysis and explore as much as needed to better understand the data set we're dealing with.\n",
        "\n",
        "`Note:` Feel free to look up EDA approaches online for inspiration (however you **must understand** everything and not copy paste)."
      ],
      "metadata": {
        "id": "8k61ceWr_BL5"
      }
    },
    {
      "cell_type": "code",
      "source": [],
      "metadata": {
        "id": "pM3JCzjH53sz"
      },
      "execution_count": null,
      "outputs": []
    },
    {
      "cell_type": "markdown",
      "source": [
        "## `ii` Visual Analysis\n",
        "\n",
        "Plot graphs and relations in order to gain more insights about the data set, identify patterns, and make assumptions.\n",
        "\n",
        "`Note:` Feel free to look up visual EDA approaches online for inspiration (however you **must understand** everything and not copy paste)."
      ],
      "metadata": {
        "id": "skTWjM-OA0Ta"
      }
    },
    {
      "cell_type": "code",
      "source": [],
      "metadata": {
        "id": "e5MOmFnCB0vK"
      },
      "execution_count": null,
      "outputs": []
    },
    {
      "cell_type": "markdown",
      "source": [
        "----------------\n",
        "\n",
        "# `04` Data Preparation"
      ],
      "metadata": {
        "id": "4G4h2cqgB2oS"
      }
    },
    {
      "cell_type": "markdown",
      "source": [
        "Perform data cleaning, feature engineering, scaling, etc. as needed to make sure it's ready for the model.\n",
        "\n",
        "Hint: It could be helpful to check `sklearn.preprocessing` module."
      ],
      "metadata": {
        "id": "vzQUN2cIB84-"
      }
    },
    {
      "cell_type": "code",
      "source": [],
      "metadata": {
        "id": "FnjvO7T8B8fk"
      },
      "execution_count": null,
      "outputs": []
    },
    {
      "cell_type": "markdown",
      "source": [
        "## `#` Prepare Test Set\n",
        "\n",
        "Apply the data transformations you used on the training set to the test set.\n",
        "\n",
        "**Important Note:** DO NOT use `fit` on the test set."
      ],
      "metadata": {
        "id": "H_wtV6UsDb86"
      }
    },
    {
      "cell_type": "code",
      "source": [],
      "metadata": {
        "id": "IuozIU1jEBy5"
      },
      "execution_count": null,
      "outputs": []
    },
    {
      "cell_type": "markdown",
      "source": [
        "----------------------------\n",
        "\n",
        "# `05` Normal Equation\n",
        "\n",
        "Using `sklearn` implementation of the linear regression closed-form solution, i.e. normal equation, to model the data.\n",
        "\n",
        "Hint: Look for `sklearn.linear_model.LinearRegression` class."
      ],
      "metadata": {
        "id": "VOiwWZVTECzY"
      }
    },
    {
      "cell_type": "markdown",
      "source": [
        "## `i` Model Training\n",
        "\n",
        "Initializing the model, fitting it to the training data, and get a fitted model."
      ],
      "metadata": {
        "id": "J0q1-lPPFRkl"
      }
    },
    {
      "cell_type": "code",
      "source": [],
      "metadata": {
        "id": "DehQhIs5F1SA"
      },
      "execution_count": null,
      "outputs": []
    },
    {
      "cell_type": "markdown",
      "source": [
        "## `ii` Model Evaluation\n",
        "\n",
        "Evaluate model performance using several metrics, e.g. **RMSE**, **MAE**, $R^2$. etc."
      ],
      "metadata": {
        "id": "q6-TcS6DF2PG"
      }
    },
    {
      "cell_type": "code",
      "source": [],
      "metadata": {
        "id": "ZcrrEBqNGXHX"
      },
      "execution_count": null,
      "outputs": []
    },
    {
      "cell_type": "markdown",
      "source": [
        "----------------------\n",
        "\n",
        "# `06` Linear Regression with Gradient Descent\n",
        "\n",
        "Using `sklearn` implementation of linear regression to model the data.\n",
        "\n",
        "Hint: Look for `sklearn.linear_model.SGDRegressor` class."
      ],
      "metadata": {
        "id": "byE8HWEnGX9T"
      }
    },
    {
      "cell_type": "markdown",
      "source": [
        "## `i` Baseline Model Training\n",
        "\n",
        "Initializing the model with initial parameters, fitting it to the training data, and get a baseline model.\n",
        "\n",
        "Use:\n",
        "- Non-regularized model.\n",
        "- Constant `learning_rate`"
      ],
      "metadata": {
        "id": "1731lOYIHPNw"
      }
    },
    {
      "cell_type": "code",
      "source": [],
      "metadata": {
        "id": "5HaoLxdUHKUm"
      },
      "execution_count": null,
      "outputs": []
    },
    {
      "cell_type": "markdown",
      "source": [
        "## `ii` Model Evaluation\n",
        "\n",
        "Evaluate the baseline model performance using several metrics, e.g. **RMSE**, **MAE**, $R^2$. etc."
      ],
      "metadata": {
        "id": "p8iTFl8UHK1T"
      }
    },
    {
      "cell_type": "code",
      "source": [],
      "metadata": {
        "id": "nQOtqp-iIHUY"
      },
      "execution_count": null,
      "outputs": []
    },
    {
      "cell_type": "markdown",
      "source": [
        "## `iii` Tune `learning_rate`\n",
        "\n",
        "Try different `learning_rate` values and evaluate. What is the optimal learning rate?\n",
        "\n",
        "Hint: You might want to use `sklearn.model_selection.RandomizedSearchCV` or `sklearn.model_selection.GridSearchCV` classes."
      ],
      "metadata": {
        "id": "zFJUaZuDIH1j"
      }
    },
    {
      "cell_type": "code",
      "source": [],
      "metadata": {
        "id": "a4n9kftlIIV4"
      },
      "execution_count": null,
      "outputs": []
    },
    {
      "cell_type": "markdown",
      "source": [
        "## `iv` Regularization Mode: On\n",
        "\n",
        "Let's try $l_1$ and $l_2$ regularization. Use default parameters for simplicity. Does regularization made the model generalize better?\n",
        "\n",
        "Which of the two regularizations performs better?"
      ],
      "metadata": {
        "id": "SruId9hzJbXH"
      }
    },
    {
      "cell_type": "code",
      "source": [],
      "metadata": {
        "id": "_WyaGi3vKvBy"
      },
      "execution_count": null,
      "outputs": []
    },
    {
      "cell_type": "markdown",
      "source": [
        "------------------\n",
        "\n",
        "# `07` Generalization Error\n",
        "\n",
        "Now that we have tuned our solution, to an *extent*, we need to test for a final time on the held out test set."
      ],
      "metadata": {
        "id": "YqLALFTzKx6T"
      }
    },
    {
      "cell_type": "code",
      "source": [],
      "metadata": {
        "id": "ZxU2WqBtLJa0"
      },
      "execution_count": null,
      "outputs": []
    },
    {
      "cell_type": "markdown",
      "source": [
        "-----------------------------\n",
        "\n",
        "# `Bonus` Better Flow\n",
        "\n",
        "For the model to be production-ready, we need to integrate it into a pipeline along with the data preparation flow.\n",
        "\n",
        "Hint: Look up `sklearn.pipeline.Pipeline` class."
      ],
      "metadata": {
        "id": "sgLHjma5LJ6_"
      }
    },
    {
      "cell_type": "code",
      "source": [],
      "metadata": {
        "id": "jjy-xdz4MgwE"
      },
      "execution_count": null,
      "outputs": []
    },
    {
      "cell_type": "markdown",
      "source": [
        "----------------------------------------------\n",
        "\n",
        "$$ Wish \\space you \\space all \\space the \\space best \\space ♡ $$\n",
        "$$ Abdelrahman \\space Eid $$"
      ],
      "metadata": {
        "id": "3y_4u6qu6u6D"
      }
    }
  ]
}