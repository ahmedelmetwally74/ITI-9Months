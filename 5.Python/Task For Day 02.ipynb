{
 "cells": [
  {
   "cell_type": "markdown",
   "id": "c81308cd",
   "metadata": {},
   "source": [
    "# (1) Write a function that accepts two arguments (length, start) to generate an array of a specific length filled with integer numbers increased by one from start."
   ]
  },
  {
   "cell_type": "code",
   "execution_count": 23,
   "id": "f9d2ef0e",
   "metadata": {},
   "outputs": [],
   "source": [
    "def generateArr(start_arr, len_arr):\n",
    "    arr = list(range(start_arr, start_arr + len_arr))\n",
    "    print(arr)"
   ]
  },
  {
   "cell_type": "code",
   "execution_count": 24,
   "id": "4d5bfcc4",
   "metadata": {},
   "outputs": [
    {
     "name": "stdout",
     "output_type": "stream",
     "text": [
      "plz enter array start 4\n",
      "plz enter array length 5\n",
      "[4, 5, 6, 7, 8]\n"
     ]
    }
   ],
   "source": [
    "if __name__ == \"__main__\":\n",
    "    start_arr, len_arr = input(\"plz enter array start \"), input(\"plz enter array length \")\n",
    "    arr = []\n",
    "    if (start_arr.isdigit() and len_arr.isdigit()):\n",
    "        start_arr = int(start_arr)\n",
    "        len_arr = int(len_arr)\n",
    "        generateArr(start_arr, len_arr);"
   ]
  },
  {
   "cell_type": "markdown",
   "id": "6b59156b",
   "metadata": {},
   "source": [
    "# (2) write a function that takes a number as an argument and if the number divisible by 3 return \"Fizz\" and if it is divisible by 5 return \"buzz\" and if is is divisible by both return \" FizzBuzz"
   ]
  },
  {
   "cell_type": "code",
   "execution_count": 25,
   "id": "0475c0a5",
   "metadata": {},
   "outputs": [],
   "source": [
    "def checknum(num):\n",
    "    if num % 3 == 0:\n",
    "        return \"fizz\"\n",
    "    elif num % 5 == 0:\n",
    "        return \"buzz\"\n",
    "    elif num % 3 == 0 and num % 5 == 0:\n",
    "        return \"fizzbuzz\"\n",
    "    else:\n",
    "        return \"not a fizzbuzz \""
   ]
  },
  {
   "cell_type": "code",
   "execution_count": 26,
   "id": "4d38d488",
   "metadata": {},
   "outputs": [
    {
     "name": "stdout",
     "output_type": "stream",
     "text": [
      "enter a number 3\n",
      " word : fizz\n"
     ]
    }
   ],
   "source": [
    "if __name__ == \"__main__\":\n",
    "    num = input(\"enter a number \")\n",
    "    if (num.isdigit()):\n",
    "        num = int(num)\n",
    "        print(f\" word : {checknum(num)}\");"
   ]
  },
  {
   "cell_type": "markdown",
   "id": "6454eea0",
   "metadata": {},
   "source": [
    "# (3) Write a function which has an input of a string from user then it will return the same string reversed."
   ]
  },
  {
   "cell_type": "code",
   "execution_count": 18,
   "id": "707c1073",
   "metadata": {},
   "outputs": [],
   "source": [
    "def rev_str(word):\n",
    "    return word[::-1]"
   ]
  },
  {
   "cell_type": "code",
   "execution_count": 19,
   "id": "51e8fa3d",
   "metadata": {},
   "outputs": [
    {
     "name": "stdout",
     "output_type": "stream",
     "text": [
      "enter a word ahmed\n",
      "reversed word : demha\n"
     ]
    }
   ],
   "source": [
    "if __name__ == \"__main__\":\n",
    "    word = input(\"enter a word \")\n",
    "    if (word.isalpha()):\n",
    "        print(f\"reversed word : {rev_str(word)}\")"
   ]
  },
  {
   "cell_type": "markdown",
   "id": "5920f409",
   "metadata": {},
   "source": [
    "# (4) Ask the user for his name then confirm that he has entered his name(not an empty string/integers). then proceed to ask him for his email and print all this data (Bonus) check if it is a valid email or not"
   ]
  },
  {
   "cell_type": "code",
   "execution_count": 27,
   "id": "db7bbbc3",
   "metadata": {},
   "outputs": [],
   "source": [
    "def checkEmail():\n",
    "    pass"
   ]
  },
  {
   "cell_type": "code",
   "execution_count": 28,
   "id": "16d34f3f",
   "metadata": {},
   "outputs": [
    {
     "name": "stdout",
     "output_type": "stream",
     "text": [
      "plz enter your name ahmed\n",
      "enter your email ahmed\n",
      "name : ahmed email : ahmed\n"
     ]
    }
   ],
   "source": [
    "if __name__ == \"__main__\":\n",
    "    name = input(\"plz enter your name \")\n",
    "    email = input(\"enter your email \")\n",
    "    if (name.isalpha()):\n",
    "        print(f\"name : {name} email : {email}\")\n",
    "    else:\n",
    "        print(\"invalid\")"
   ]
  },
  {
   "cell_type": "markdown",
   "id": "12ca3ca9",
   "metadata": {},
   "source": [
    "# (5) Write a function that takes a string and prints the longest alphabetical ordered substring occurred For example, if the string is ' abdulrahman ' then the output Longest substring in alphabetical order is: abdu"
   ]
  },
  {
   "cell_type": "code",
   "execution_count": 35,
   "id": "378fa9d7",
   "metadata": {},
   "outputs": [
    {
     "name": "stdout",
     "output_type": "stream",
     "text": [
      "abdu\n"
     ]
    }
   ],
   "source": [
    "def longest_substring(s):\n",
    "    longest = ''\n",
    "    current = ''\n",
    "    for c in s:\n",
    "            if current == '' or c >= current[-1]:\n",
    "                current += c\n",
    "            else:\n",
    "                current = c\n",
    "            longest = max(current, longest, key=len)\n",
    "    return longest\n",
    "print(longest_substring(\"abdualrahman\"))"
   ]
  },
  {
   "cell_type": "code",
   "execution_count": null,
   "id": "2750260f",
   "metadata": {},
   "outputs": [],
   "source": []
  },
  {
   "cell_type": "markdown",
   "id": "b6330c59",
   "metadata": {},
   "source": [
    "# (6) Write a program which repeatedly reads numbers until the user enters “done”.                                                                          ○ Once “done” is entered, print out the total, count, and average of the numbers.                                                                                ○ If the user enters anything other than a number, detect their mistake, print an error message and skip to the next number."
   ]
  },
  {
   "cell_type": "code",
   "execution_count": 10,
   "id": "1b75e408",
   "metadata": {},
   "outputs": [
    {
     "name": "stdout",
     "output_type": "stream",
     "text": [
      "enter numbers \n",
      "if you want to stop write done\n",
      "12345\n",
      "5663\n",
      "48562\n",
      "done\n",
      "total : 66570 count:3 avarage:22190.0\n"
     ]
    }
   ],
   "source": [
    "if __name__ == \"__main__\":\n",
    "    list_num=[]\n",
    "    total=0\n",
    "    print(\"enter numbers \\nif you want to stop write done\")\n",
    "    while True:\n",
    "        user_input=input()\n",
    "        if user_input==\"done\":\n",
    "            break;\n",
    "\n",
    "        if(user_input.isdigit()):\n",
    "            user_input=int(user_input)\n",
    "            list_num.append(user_input)\n",
    "            total+=user_input\n",
    "            num_count=len(list_num)\n",
    "            num_avarg=total/num_count\n",
    "        else:\n",
    "            print(f\"invalid input that u entered {user_input}\\nplz enter number again\")\n",
    "    print(f\"total : {total} count:{num_count} avarage:{num_avarg}\")\n"
   ]
  },
  {
   "cell_type": "markdown",
   "id": "f082eb79",
   "metadata": {},
   "source": [
    "# (7) Word guessing game (hangman)\n",
    "○ A list of words will be hardcoded in your program, out of which the interpreter will\n",
    "○ choose 1 random word.\n",
    "○ The user first must input their names\n",
    "○ Ask the user to guess any alphabet. If the random word contains that alphabet, it\n",
    "○ will be shown as the output(with correct placement)\n",
    "○ Else the program will ask you to guess another alphabet.\n",
    "○ Give 7 turns maximum to guess the complete word."
   ]
  },
  {
   "cell_type": "code",
   "execution_count": 1,
   "id": "a197846b",
   "metadata": {},
   "outputs": [
    {
     "name": "stdout",
     "output_type": "stream",
     "text": [
      "Enter your name: Ahmed\n",
      "Guess a letter: h\n",
      "Guess a letter: m\n",
      "Guess a letter: d\n",
      "Guess a letter: c\n",
      "Guess a letter: a\n",
      "Guess a letter: e\n",
      "Guess a letter: x\n",
      "Sorry, Ahmed! You could not guess the word: network\n"
     ]
    }
   ],
   "source": [
    "words = [\"network\", \"love\", \"iti\", \"developer\", \"coder\", \"python\", \"numpy\"]\n",
    "\n",
    "random_word_index = 0\n",
    "random_word = words[random_word_index]\n",
    "player_name = input(\"Enter your name: \")\n",
    "revealed_word = '-' * len(random_word)\n",
    "num_guesses = 0\n",
    "\n",
    "for i in range(7):\n",
    "    user_guess = input(\"Guess a letter: \")\n",
    "    for j in range(len(random_word)):\n",
    "        if random_word[j] == user_guess:\n",
    "            # Step 9: If the guessed letter is in the random word, reveal it\n",
    "            revealed_word = revealed_word[:j] + user_guess + revealed_word[j+1:]\n",
    "    num_guesses += 1\n",
    "    if revealed_word == random_word:\n",
    "        print(\"Congratulations, \" + player_name + \"! You guessed the word: \" + random_word)\n",
    "        break\n",
    "if revealed_word != random_word:\n",
    "    print(\"Sorry, \" + player_name + \"! You could not guess the word: \" + random_word)"
   ]
  },
  {
   "cell_type": "code",
   "execution_count": null,
   "id": "76cda143",
   "metadata": {},
   "outputs": [],
   "source": []
  }
 ],
 "metadata": {
  "kernelspec": {
   "display_name": "Python 3 (ipykernel)",
   "language": "python",
   "name": "python3"
  },
  "language_info": {
   "codemirror_mode": {
    "name": "ipython",
    "version": 3
   },
   "file_extension": ".py",
   "mimetype": "text/x-python",
   "name": "python",
   "nbconvert_exporter": "python",
   "pygments_lexer": "ipython3",
   "version": "3.9.7"
  }
 },
 "nbformat": 4,
 "nbformat_minor": 5
}
