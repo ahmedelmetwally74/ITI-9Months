{
 "cells": [
  {
   "cell_type": "code",
   "execution_count": 2,
   "id": "17afde4b",
   "metadata": {},
   "outputs": [
    {
     "name": "stdout",
     "output_type": "stream",
     "text": [
      "Your guess is High\n"
     ]
    }
   ],
   "source": [
    "answer = 5 \n",
    "guess = 6\n",
    "\n",
    "if guess < answer:\n",
    "    result =\" Your guess is low\"\n",
    "elif guess > answer:\n",
    "    result =\"Your guess is High\"\n",
    "else:\n",
    "    result =\"Your guess matched the Answer\"\n",
    "print(result)"
   ]
  },
  {
   "cell_type": "code",
   "execution_count": 4,
   "id": "ac94b955",
   "metadata": {},
   "outputs": [
    {
     "name": "stdout",
     "output_type": "stream",
     "text": [
      "Mansoura\n",
      "Done !\n",
      "Cairo\n",
      "Done !\n",
      "Alex\n",
      "Done !\n"
     ]
    }
   ],
   "source": [
    "Cities = ['Mansoura' , 'Cairo' , 'Alex']\n",
    "for city in Cities:\n",
    "    print(city)\n",
    "    print(\"Done !\")"
   ]
  },
  {
   "cell_type": "code",
   "execution_count": 5,
   "id": "4c8554fd",
   "metadata": {},
   "outputs": [
    {
     "name": "stdout",
     "output_type": "stream",
     "text": [
      "['Joey Tribbiani', 'Monica Geller', 'Chandler Bing', 'Phoebe Buffay']\n"
     ]
    }
   ],
   "source": [
    "names = [\"Joey Tribbiani\", \"Monica Geller\", \"Chandler Bing\", \"Phoebe Buffay\"]\n",
    "\n",
    "for name in names:\n",
    "    name = name.lower().replace(\" \", \"_\")\n",
    "\n",
    "print(names)"
   ]
  },
  {
   "cell_type": "code",
   "execution_count": 7,
   "id": "5b3b2371",
   "metadata": {},
   "outputs": [
    {
     "name": "stdout",
     "output_type": "stream",
     "text": [
      "['joey_tribbiani', 'monica_geller', 'chandler_bing', 'phoebe_buffay']\n"
     ]
    }
   ],
   "source": [
    "names = [\"Joey Tribbiani\", \"Monica Geller\", \"Chandler Bing\", \"Phoebe Buffay\"]\n",
    "usernames = []\n",
    "\n",
    "for name in names:\n",
    "    usernames.append(name.lower().replace(\" \",\"_\"))\n",
    "print(usernames)"
   ]
  },
  {
   "cell_type": "code",
   "execution_count": 9,
   "id": "7a302ba8",
   "metadata": {},
   "outputs": [
    {
     "name": "stdout",
     "output_type": "stream",
     "text": [
      "[10, 8]\n"
     ]
    }
   ],
   "source": [
    "card_deck = [4, 11, 8, 5, 13, 2, 8, 10]\n",
    "hand = []\n",
    "\n",
    "# adds the last element of the card_deck list to the hand list\n",
    "# until the values in hand add up to 17 or more\n",
    "while sum(hand)  < 17:\n",
    "    hand.append(card_deck.pop())\n",
    "print(hand)"
   ]
  },
  {
   "cell_type": "code",
   "execution_count": 10,
   "id": "196c0de6",
   "metadata": {},
   "outputs": [
    {
     "name": "stdout",
     "output_type": "stream",
     "text": [
      "a\n",
      "b\n",
      "c\n",
      "d\n",
      "e\n",
      "f\n"
     ]
    }
   ],
   "source": [
    "myF = ['a','b','c','d','e','f']\n",
    "\n",
    "a = 0\n",
    "while a < len(myF):\n",
    "    print(myF[a])\n",
    "    a+=1 "
   ]
  },
  {
   "cell_type": "code",
   "execution_count": 12,
   "id": "ef72f100",
   "metadata": {},
   "outputs": [
    {
     "name": "stdout",
     "output_type": "stream",
     "text": [
      "#1 a\n",
      "#2 b\n",
      "#3 c\n",
      "#4 d\n",
      "#5 e\n",
      "#6 f\n"
     ]
    }
   ],
   "source": [
    "myF = ['a','b','c','d','e','f']\n",
    "\n",
    "a = 0\n",
    "while a < len(myF):\n",
    "    print(f\"#{a+1} {myF[a]}\")\n",
    "    a+=1 "
   ]
  },
  {
   "cell_type": "code",
   "execution_count": 15,
   "id": "dddd0c13",
   "metadata": {},
   "outputs": [
    {
     "name": "stdout",
     "output_type": "stream",
     "text": [
      "120\n"
     ]
    }
   ],
   "source": [
    "# number we'll find the factorial of\n",
    "number = 5\n",
    "# start with our product equal to one\n",
    "product = 1\n",
    "\n",
    "# calculate factorial of number with a for loop\n",
    "for num in range(2, number + 1):\n",
    "    product *= num\n",
    "\n",
    "# print the factorial of number\n",
    "print(product)"
   ]
  },
  {
   "cell_type": "code",
   "execution_count": 16,
   "id": "ef5548af",
   "metadata": {},
   "outputs": [
    {
     "name": "stdout",
     "output_type": "stream",
     "text": [
      "[0, 1, 4, 9, 16, 25, 36, 49, 64]\n"
     ]
    }
   ],
   "source": [
    "squares = [x**2 for x in range(9)]\n",
    "print(squares)"
   ]
  },
  {
   "cell_type": "code",
   "execution_count": null,
   "id": "0d39c257",
   "metadata": {},
   "outputs": [],
   "source": []
  }
 ],
 "metadata": {
  "kernelspec": {
   "display_name": "Python 3 (ipykernel)",
   "language": "python",
   "name": "python3"
  },
  "language_info": {
   "codemirror_mode": {
    "name": "ipython",
    "version": 3
   },
   "file_extension": ".py",
   "mimetype": "text/x-python",
   "name": "python",
   "nbconvert_exporter": "python",
   "pygments_lexer": "ipython3",
   "version": "3.9.7"
  }
 },
 "nbformat": 4,
 "nbformat_minor": 5
}
