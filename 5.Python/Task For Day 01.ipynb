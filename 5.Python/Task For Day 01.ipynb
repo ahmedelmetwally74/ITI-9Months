{
 "cells": [
  {
   "cell_type": "markdown",
   "id": "ad835b26",
   "metadata": {},
   "source": [
    "# (1) Write a program that counts up the number of vowels         [a, e, i , o, u] contained in the string."
   ]
  },
  {
   "cell_type": "code",
   "execution_count": 36,
   "id": "40f1742a",
   "metadata": {},
   "outputs": [
    {
     "name": "stdout",
     "output_type": "stream",
     "text": [
      "The Number of a is: 4\n",
      "The Number of b is: 3\n",
      "The Number of c is: 3\n",
      "The Number of d is: 2\n",
      "The Number of f is: 2\n"
     ]
    }
   ],
   "source": [
    "line = \"My name is Ahmed, I am from Mansoua, I studied in ITI\"\n",
    "#list=[[a, e, i , o, u]\n",
    "\n",
    "print(\"The Number of a is:\",line.count('a')) \n",
    "print(\"The Number of b is:\",line.count('e')) \n",
    "print(\"The Number of c is:\",line.count('i')) \n",
    "print(\"The Number of d is:\",line.count('o')) \n",
    "print(\"The Number of f is:\",line.count('u')) \n"
   ]
  },
  {
   "cell_type": "markdown",
   "id": "dd202acf",
   "metadata": {},
   "source": [
    "# (1) Another way (the Required way)"
   ]
  },
  {
   "cell_type": "code",
   "execution_count": 1,
   "id": "68118e89",
   "metadata": {},
   "outputs": [],
   "source": [
    "string = \"hi! my name is Ahmed  \"\n",
    "vowels = \"aeiouAEIOU\"\n",
    "count_vowel=0"
   ]
  },
  {
   "cell_type": "code",
   "execution_count": 2,
   "id": "57b18c41",
   "metadata": {},
   "outputs": [
    {
     "name": "stdout",
     "output_type": "stream",
     "text": [
      "6\n"
     ]
    }
   ],
   "source": [
    "for char in vowels:\n",
    "    count_vowel+=string.count(char)\n",
    "\n",
    "print(count_vowel)"
   ]
  },
  {
   "cell_type": "markdown",
   "id": "9713ef71",
   "metadata": {},
   "source": [
    "# (2) Fill an array of 5 elements from the user, Sort it in descending and ascending orders then display the output.\n"
   ]
  },
  {
   "cell_type": "code",
   "execution_count": 16,
   "id": "69d7c462",
   "metadata": {},
   "outputs": [
    {
     "name": "stdout",
     "output_type": "stream",
     "text": [
      "Enter the List size: 5\n",
      "Enter the elements: 3\n",
      "Enter the elements: 6\n",
      "Enter the elements: 2\n",
      "Enter the elements: 1\n",
      "Enter the elements: 0\n",
      "None\n"
     ]
    }
   ],
   "source": [
    "\n",
    "#create an empty list \n",
    "elments =[]\n",
    "#Take the size of the list from the user\n",
    "n= int (input(\"Enter the List size: \"))\n",
    "\n",
    "for i in range (0,n):\n",
    "    nums=int(input(\"Enter the elements: \"))\n",
    "    elments.append(nums)\n",
    "# res = \n",
    "print(elments.sort())\n",
    "\n",
    "# elments"
   ]
  },
  {
   "cell_type": "markdown",
   "id": "03dbb222",
   "metadata": {},
   "source": [
    "# (3) Write a program that prints the number of times the string     ' iti ' occurs in anystring "
   ]
  },
  {
   "cell_type": "code",
   "execution_count": 4,
   "id": "08f6e2da",
   "metadata": {},
   "outputs": [],
   "source": [
    "anystring = \"My name is Ahmed, I am from Mansoua, I studied in iti, I am in the iti building rignt now\""
   ]
  },
  {
   "cell_type": "code",
   "execution_count": 5,
   "id": "f8862393",
   "metadata": {},
   "outputs": [
    {
     "data": {
      "text/plain": [
       "2"
      ]
     },
     "execution_count": 5,
     "metadata": {},
     "output_type": "execute_result"
    }
   ],
   "source": [
    "anystring.count(\"iti\")"
   ]
  },
  {
   "cell_type": "markdown",
   "id": "5c873d02",
   "metadata": {},
   "source": [
    "# (4) Write a program that remove all vowels from the input word and generate a brief version of it."
   ]
  },
  {
   "cell_type": "code",
   "execution_count": 1,
   "id": "0dd0bfd0",
   "metadata": {},
   "outputs": [
    {
     "name": "stdout",
     "output_type": "stream",
     "text": [
      "please enter your string ahmed\n"
     ]
    }
   ],
   "source": [
    "string =input ( \"please enter your string \")\n",
    "\n",
    "\n",
    "vowels = ['a', 'e', 'i', 'o', 'u', 'A', 'E', 'I', 'O', 'U']\n",
    "result = \"\""
   ]
  },
  {
   "cell_type": "code",
   "execution_count": 2,
   "id": "eb20023b",
   "metadata": {},
   "outputs": [
    {
     "name": "stdout",
     "output_type": "stream",
     "text": [
      "\n",
      "After removing Vowels:  hmd\n"
     ]
    }
   ],
   "source": [
    "for i in range(len(string)):\n",
    "    if string[i] not in vowels:\n",
    "        result = result + string[i]\n",
    "\n",
    "print(\"\\nAfter removing Vowels: \", result)"
   ]
  },
  {
   "cell_type": "markdown",
   "id": "26b1d80b",
   "metadata": {},
   "source": [
    "# (5) Write a program that prints the locations of \" i\" character in any string you added."
   ]
  },
  {
   "cell_type": "code",
   "execution_count": 5,
   "id": "d8f1798d",
   "metadata": {},
   "outputs": [
    {
     "name": "stdout",
     "output_type": "stream",
     "text": [
      " enter your stringali\n"
     ]
    }
   ],
   "source": [
    "str= input (\" enter your string\")\n",
    "arr=[]"
   ]
  },
  {
   "cell_type": "code",
   "execution_count": 6,
   "id": "7c97f9a8",
   "metadata": {},
   "outputs": [
    {
     "name": "stdout",
     "output_type": "stream",
     "text": [
      "The character 'i' is at   [2]\n"
     ]
    }
   ],
   "source": [
    "for i in range(len (str)):\n",
    "    if str[i]==\"i\":\n",
    "        arr.append((i))\n",
    "print(\"The character 'i' is at  \" ,arr)"
   ]
  },
  {
   "cell_type": "markdown",
   "id": "630e4ee7",
   "metadata": {},
   "source": [
    "# (6) Write a program that generate a multiplication table from 1 to the number passed."
   ]
  },
  {
   "cell_type": "code",
   "execution_count": 18,
   "id": "1687ae6e",
   "metadata": {},
   "outputs": [],
   "source": [
    "number = 3\n",
    "result = []"
   ]
  },
  {
   "cell_type": "code",
   "execution_count": 19,
   "id": "d1b13704",
   "metadata": {},
   "outputs": [
    {
     "name": "stdout",
     "output_type": "stream",
     "text": [
      "[[1], [2, 4], [3, 6, 9]]\n"
     ]
    }
   ],
   "source": [
    "for i in range(1, number + 1):\n",
    "    temp = []\n",
    "    for j in range(1, i + 1):\n",
    "        temp.append(j * i)\n",
    "    result.append(temp)\n",
    "\n",
    "print(result)"
   ]
  },
  {
   "cell_type": "markdown",
   "id": "81f9f5b1",
   "metadata": {},
   "source": [
    "# (7) Write a program that build a Mario pyramid "
   ]
  },
  {
   "cell_type": "code",
   "execution_count": 20,
   "id": "ef825a30",
   "metadata": {},
   "outputs": [
    {
     "name": "stdout",
     "output_type": "stream",
     "text": [
      "Please enter the num: 5\n",
      "     \n",
      "    *\n",
      "   **\n",
      "  ***\n",
      " ****\n",
      "*****\n"
     ]
    }
   ],
   "source": [
    "num = int(input(\"Please enter the num: \"))\n",
    "for i in range(0,num+1):\n",
    "        print(\" \" * (num-i) + \"*\" * i)\n"
   ]
  },
  {
   "cell_type": "code",
   "execution_count": null,
   "id": "7b3892f0",
   "metadata": {},
   "outputs": [],
   "source": []
  }
 ],
 "metadata": {
  "kernelspec": {
   "display_name": "Python 3 (ipykernel)",
   "language": "python",
   "name": "python3"
  },
  "language_info": {
   "codemirror_mode": {
    "name": "ipython",
    "version": 3
   },
   "file_extension": ".py",
   "mimetype": "text/x-python",
   "name": "python",
   "nbconvert_exporter": "python",
   "pygments_lexer": "ipython3",
   "version": "3.9.7"
  }
 },
 "nbformat": 4,
 "nbformat_minor": 5
}
