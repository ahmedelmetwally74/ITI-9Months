{
 "cells": [
  {
   "cell_type": "markdown",
   "metadata": {},
   "source": [
    "# LAB 2: Linear Equations and Matrix Algebra\n",
    "\n",
    "In this lab you will use python to study the following topics:\n",
    "\n",
    "- Solving a system of linear equations by using the reduced row echelon form of the augmented matrix of the system.\n",
    "\n",
    "- Forming linear combinations of a set of vectors and the fundamental concepts of linear independence.\n",
    "\n",
    "- Matrix multiplication and its properties."
   ]
  },
  {
   "cell_type": "markdown",
   "metadata": {},
   "source": [
    "# First: you should run this cell"
   ]
  },
  {
   "cell_type": "code",
   "execution_count": 1,
   "metadata": {},
   "outputs": [],
   "source": [
    "# Make all numpy available via shorter 'np' prefix\n",
    "import numpy as np\n",
    "# Make all sympy available via shorter 'sym' prefix\n",
    "import sympy as sym\n",
    "\n",
    "\n",
    "# matplotlib library\n",
    "import matplotlib.pyplot as plt\n",
    "from matplotlib import cm\n",
    "from matplotlib.ticker import LinearLocator\n",
    "\n",
    "\n",
    "def rvect(m):\n",
    "    return np.fix((10 * (np.random.rand(m, 1))))\n",
    "\n",
    "\n",
    "def rmat(m, n):\n",
    "    return np.fix((10 * (np.random.rand(m, n))))\n",
    "\n",
    "\n",
    "def rref(A):\n",
    "    return np.array(sym.Matrix(A).rref(iszerofunc=lambda x:sym.comp(x,0,1e-13))[0], np.float64)\n",
    "\n",
    "\n",
    "def nulbasis(A):\n",
    "    A = sym.Matrix(A)\n",
    "    tmp =  A.nullspace()\n",
    "    n = len(tmp)\n",
    "    m = len(tmp[0])\n",
    "    N = np.zeros((m,n))\n",
    "    for i in range(m):\n",
    "        for j in range(n):\n",
    "                N[i,j] = tmp[j][i] \n",
    "    return N"
   ]
  },
  {
   "cell_type": "markdown",
   "metadata": {},
   "source": [
    "# Question 1. Solving Ax = b"
   ]
  },
  {
   "cell_type": "markdown",
   "metadata": {},
   "source": [
    "In this question you will find the general solution $x \\in R^3$ to a linear system $Ax = b$ of 3 equations in 5\n",
    "variables $x_1, x_2, x_3, x_4, x_5$. Here $A$ is the $3 \\times 5$ coeffient matrix system $b \\in R^3$ is the given right-hand side of the system"
   ]
  },
  {
   "cell_type": "markdown",
   "metadata": {},
   "source": [
    "<h4> \n",
    "    (a) Use rmat function that was defined in the first cell to generate a random $3 \\times5$ integer matrix $A$ and to check that columns 1, 2, 3 of $A$ are the pivot columns.\n",
    "</h4>\n",
    "\n",
    "- `A = rmat(3, 5)`\n",
    "- `np.linalg.matrix_rank(A[:, 0:3])`\n"
   ]
  },
  {
   "cell_type": "code",
   "execution_count": 2,
   "metadata": {},
   "outputs": [
    {
     "name": "stdout",
     "output_type": "stream",
     "text": [
      "----------A-----------\n",
      "[[9. 9. 2. 1. 7.]\n",
      " [7. 9. 6. 9. 3.]\n",
      " [1. 9. 0. 0. 4.]]\n",
      "---------------------\n",
      "----------rank(A)-----\n",
      "3\n",
      "---------------------\n"
     ]
    }
   ],
   "source": [
    "#type your code here:\n"
   ]
  },
  {
   "cell_type": "markdown",
   "metadata": {},
   "source": [
    "Note the use of the colon operator to select columns 1, 2, 3 of $A$. If the rank is less than 3, generate a new A\n",
    "(this is unlikely, but it can happen). Include all the matrices that you generate this way in your lab report.\n",
    "<h4>\n",
    "When you have an $A$ for which the rank of the first three columns is 3:\n",
    "</h4>\n",
    "\n",
    "- Generate a random vector $b \\in R^3$\n",
    "\n",
    "- The reduced row echelon form R of the augmented matrix $\\begin{bmatrix} A & b   \\end{bmatrix}$:\n"
   ]
  },
  {
   "cell_type": "code",
   "execution_count": 3,
   "metadata": {},
   "outputs": [
    {
     "name": "stdout",
     "output_type": "stream",
     "text": [
      "-------b--------\n",
      "[[5.]\n",
      " [8.]\n",
      " [2.]]\n",
      "----------------\n",
      "-------augmented_matrix---------\n",
      "[[9. 9. 2. 1. 7. 5.]\n",
      " [7. 9. 6. 9. 3. 8.]\n",
      " [1. 9. 0. 0. 4. 2.]]\n",
      "----------------\n",
      "-------R------------------------------------------\n",
      "[[ 1.          0.          0.         -0.33333333  0.55555556  0.16666667]\n",
      " [ 0.          1.          0.          0.03703704  0.38271605  0.2037037 ]\n",
      " [ 0.          0.          1.          1.83333333 -0.72222222  0.83333333]]\n",
      "--------------------------------------------------\n"
     ]
    }
   ],
   "source": [
    "#type your code here:\n"
   ]
  },
  {
   "cell_type": "markdown",
   "metadata": {},
   "source": [
    "<h4>\n",
    "     To get the reduced row echelon form S = rref(A) just remove the last column from R:\n",
    "</h4>\n",
    "\n",
    "- `S = R[:, :-1] or R[:, 0:5]`\n"
   ]
  },
  {
   "cell_type": "code",
   "execution_count": 4,
   "metadata": {},
   "outputs": [
    {
     "name": "stdout",
     "output_type": "stream",
     "text": [
      "--------S------------\n",
      "[[ 1.          0.          0.         -0.33333333  0.55555556]\n",
      " [ 0.          1.          0.          0.03703704  0.38271605]\n",
      " [ 0.          0.          1.          1.83333333 -0.72222222]]\n",
      "---------------------\n"
     ]
    }
   ],
   "source": [
    "#type your code here:\n",
    "\n"
   ]
  },
  {
   "cell_type": "markdown",
   "metadata": {},
   "source": [
    "(Note the use of the colon operator to select columns 1 to 5 of R).\n",
    "<h4>Check by python that S = rref(A)</h4>"
   ]
  },
  {
   "cell_type": "code",
   "execution_count": 5,
   "metadata": {},
   "outputs": [
    {
     "name": "stdout",
     "output_type": "stream",
     "text": [
      "--------rref(A)------------\n",
      "[[ 1.          0.          0.         -0.33333333  0.55555556]\n",
      " [ 0.          1.          0.          0.03703704  0.38271605]\n",
      " [ 0.          0.          1.          1.83333333 -0.72222222]]\n",
      "---------------------\n"
     ]
    }
   ],
   "source": [
    "#type your code here:\n"
   ]
  },
  {
   "cell_type": "markdown",
   "metadata": {},
   "source": [
    "1. Which columns of $S$ are the pivot columns?\n",
    "2. What is the rank of $R$ and the rank of $A$?\n",
    "3. What is the nullity of $A$ and which variables $x_i$ are be the free variables?\n",
    "4. Why does the equation $Ax = b$ have a solution?\n",
    "\n"
   ]
  },
  {
   "cell_type": "markdown",
   "metadata": {},
   "source": [
    "#### Print the rank of A, R, and S matrices"
   ]
  },
  {
   "cell_type": "code",
   "execution_count": 6,
   "metadata": {},
   "outputs": [
    {
     "name": "stdout",
     "output_type": "stream",
     "text": [
      "3\n",
      "---------------------\n",
      "3\n",
      "---------------------\n",
      "3\n",
      "---------------------\n"
     ]
    }
   ],
   "source": [
    "#type your code here:\n"
   ]
  },
  {
   "cell_type": "markdown",
   "metadata": {},
   "source": [
    "#### (b) Use python to obtain (the last column of $R$), `c = R[:, [-1]]`. set `x = np.block([[c], [0], [0]])`. $x \\in R^5$ and the last two components of $x$ are zeros. then:\n",
    "\n",
    "\n",
    "- Calculate by python that $Ax - b = 0$ and $Sx - c = 0$.\n",
    "\n",
    "\n"
   ]
  },
  {
   "cell_type": "code",
   "execution_count": 7,
   "metadata": {},
   "outputs": [
    {
     "name": "stdout",
     "output_type": "stream",
     "text": [
      "-----------c--------------\n",
      "[[0.16666667]\n",
      " [0.2037037 ]\n",
      " [0.83333333]]\n",
      "-------------------------\n",
      "-----------x--------------\n",
      "[[0.16666667]\n",
      " [0.2037037 ]\n",
      " [0.83333333]\n",
      " [0.        ]\n",
      " [0.        ]]\n",
      "-------------------------\n",
      "--------A @ x - b--------------\n",
      "[[0.]\n",
      " [0.]\n",
      " [0.]]\n",
      "-------------------------\n",
      "--------A @ x - c--------------\n",
      "[[0.]\n",
      " [0.]\n",
      " [0.]]\n",
      "-------------------------\n"
     ]
    }
   ],
   "source": [
    "#type your code here:\n"
   ]
  },
  {
   "cell_type": "markdown",
   "metadata": {},
   "source": [
    "#### (c) Use python to calculate\n",
    "\n",
    "- `u = np.block([[-S[:, [3]]], [1], [0]])`\n",
    "- `v = np.block([[-S[:, [4]]], [0], [1]])`\n",
    "\n",
    "\n",
    "1. Give a handwritten explanation, using symbols and linear algebra, rather than numbers, to show why u and v are the vectors that appear in the vector form of the general solution to Ax = 0.\n",
    "    - Confirm by calculating `S @ u`, `A @ u`, `S @ v`, `A @ v`. You should get vectors that are (approximately) zero.\n",
    "    - Now generate a random linear combination of u and v by the commands `s = np.random.rand(1)`, `t = np.random.rand(1)`, and `y = s * u + t * v` (Note that each occurrence of np.random.rand(1) generates a different random coefficient).\n",
    "\n",
    "2. What properties of matrix and vector algebra ensure that Ay = 0?\n",
    "    - Confirm by a python calculation that `A @ y` is approximately zero. \n",
    "\n",
    "\n",
    "\n",
    "\n",
    "\n"
   ]
  },
  {
   "cell_type": "code",
   "execution_count": 8,
   "metadata": {},
   "outputs": [
    {
     "name": "stdout",
     "output_type": "stream",
     "text": [
      "-----------u-----------\n",
      "[[ 0.33333333]\n",
      " [-0.03703704]\n",
      " [-1.83333333]\n",
      " [ 1.        ]\n",
      " [ 0.        ]]\n",
      "----------------------\n",
      "-----------v-----------\n",
      "[[-0.55555556]\n",
      " [-0.38271605]\n",
      " [ 0.72222222]\n",
      " [ 0.        ]\n",
      " [ 1.        ]]\n",
      "----------------------\n",
      "-----------S @ u-----------\n",
      "[[0.]\n",
      " [0.]\n",
      " [0.]]\n",
      "----------------------\n",
      "----------A @ u------------\n",
      "[[ 0.00000000e+00]\n",
      " [-2.22044605e-16]\n",
      " [ 0.00000000e+00]]\n",
      "----------------------\n",
      "----------S @ v------------\n",
      "[[0.]\n",
      " [0.]\n",
      " [0.]]\n",
      "----------------------\n",
      "----------A @ v------------\n",
      "[[ 2.22044605e-16]\n",
      " [-8.88178420e-16]\n",
      " [ 4.44089210e-16]]\n",
      "----------------------\n",
      "---------A @ y-------------\n",
      "[[1.11022302e-16]\n",
      " [5.55111512e-16]\n",
      " [2.22044605e-16]]\n",
      "----------------------\n"
     ]
    }
   ],
   "source": [
    "#type your code here:\n"
   ]
  },
  {
   "cell_type": "markdown",
   "metadata": {},
   "source": [
    "#### (d) Use python to calculate `z = x + y` .\n",
    "- What properties of matrix and vector algebra imply that $Az = b$?\n",
    "- Confirm by a python calculation that `A @ z - b` is approximately zero."
   ]
  },
  {
   "cell_type": "code",
   "execution_count": 9,
   "metadata": {},
   "outputs": [
    {
     "name": "stdout",
     "output_type": "stream",
     "text": [
      "-----------A @ z - b--------------\n",
      "[[0.]\n",
      " [0.]\n",
      " [0.]]\n",
      "----------------------------------\n"
     ]
    }
   ],
   "source": [
    "#type your code here:\n",
    "\n"
   ]
  },
  {
   "cell_type": "markdown",
   "metadata": {},
   "source": [
    "# Question 2. Spanning Sets and Linear Independence"
   ]
  },
  {
   "cell_type": "markdown",
   "metadata": {},
   "source": [
    "#### Generate four random vectors in R3 by the command\n",
    "- `u1 = rvect(3)`\n",
    "- `u2 = rvect(3)`\n",
    "- `u3 = rvect(3)`\n",
    "- `u4 = rvect(3)`\n",
    "\n",
    "\n",
    "\n",
    "\n",
    "#### (a) Consider the set of vectors S = {u1, u2, u3}. To determine whether S is linearly independent, form the matrix A with the vectors from S as columns and calculate its reduced row echelon form\n",
    "- `A = np.block([u1, u2, u3])`\n",
    "- `rref(A)`\n",
    "\n",
    "#### Use these calculations to answer the following questions:\n",
    "\n",
    "1. How many free variables does the equation Ax = 0 have?\n",
    "\n",
    "2. Is the set S linearly independent or linearly dependent? Why?"
   ]
  },
  {
   "cell_type": "code",
   "execution_count": 10,
   "metadata": {},
   "outputs": [
    {
     "name": "stdout",
     "output_type": "stream",
     "text": [
      "------A---------\n",
      "[[0. 3. 3.]\n",
      " [2. 7. 2.]\n",
      " [8. 0. 0.]]\n",
      "----------------\n",
      "------rref(A)---------\n",
      "[[1. 0. 0.]\n",
      " [0. 1. 0.]\n",
      " [0. 0. 1.]]\n",
      "----------------\n"
     ]
    }
   ],
   "source": [
    "####type your code here:\n",
    "\n"
   ]
  },
  {
   "cell_type": "markdown",
   "metadata": {},
   "source": [
    "#### (b) Consider the set of vectors T = {u1, u2, u3, u4}. To determine whether T is linearly independent, form the matrix B with the vectors from T as columns and calculate its reduced row echelon form:\n",
    "\n",
    "- `B = [u1 u2 u3 u4]`\n",
    "- `rref(B)`\n",
    "\n",
    "#### Use these calculations to answer the following questions:\n",
    "\n",
    "1. How many free variables does the equation $Bx = 0$ have?\n",
    "\n",
    "2. Is the set T linearly independent or linearly dependent?"
   ]
  },
  {
   "cell_type": "code",
   "execution_count": 11,
   "metadata": {},
   "outputs": [
    {
     "name": "stdout",
     "output_type": "stream",
     "text": [
      "------B---------\n",
      "[[0. 3. 3. 1.]\n",
      " [2. 7. 2. 4.]\n",
      " [8. 0. 0. 2.]]\n",
      "----------------\n",
      "------rref(B)---------\n",
      "[[ 1.          0.          0.          0.25      ]\n",
      " [ 0.          1.          0.          0.56666667]\n",
      " [ 0.          0.          1.         -0.23333333]]\n",
      "----------------\n"
     ]
    }
   ],
   "source": [
    "#type your code here:\n"
   ]
  },
  {
   "cell_type": "markdown",
   "metadata": {},
   "source": [
    "#### (c) Let v be a random linear combination of u1 and u2:\n",
    "\n",
    "- `v = np.random.rand(1) * u1 + np.random.rand(1) * u2`\n",
    "\n",
    "#### Thus v is of the form c1u1 + c2u2 for some scalars c1, c2. Consider the set of vectors U = {u1, u2, v}.\n",
    "\n",
    "1. Is the set U linearly independent or linearly dependent?\n",
    "2. Answer first without calculation using the definition of linear independent sets.\n",
    "\n"
   ]
  },
  {
   "cell_type": "markdown",
   "metadata": {},
   "source": [
    "#### Check your answer by python using the method of part (a)."
   ]
  },
  {
   "cell_type": "code",
   "execution_count": 12,
   "metadata": {},
   "outputs": [
    {
     "name": "stdout",
     "output_type": "stream",
     "text": [
      "------U---------\n",
      "[[0.         3.         0.84174763]\n",
      " [2.         7.         2.81036291]\n",
      " [8.         0.         3.3851404 ]]\n",
      "----------------\n",
      "------rref(U)---------\n",
      "[[1.         0.         0.42314255]\n",
      " [0.         1.         0.28058254]\n",
      " [0.         0.         0.        ]]\n",
      "----------------\n"
     ]
    }
   ],
   "source": [
    "#type your code here:\n"
   ]
  },
  {
   "cell_type": "markdown",
   "metadata": {},
   "source": [
    "# Question 3 :Visualizing the Column Space"
   ]
  },
  {
   "cell_type": "markdown",
   "metadata": {},
   "source": [
    "In this question you will determine visually whether given vectors lie in the column space of a matrix.\n",
    "Random Seed: Initialize the random number generator by typing\n",
    "rand(’seed’, abcd)\n",
    "where abcd are the last four digits of your student ID number. This will ensure that you generate your own\n",
    "particular random vectors and matrices.\n",
    "\n",
    "#### Now generate a random $3 \\times 2$ integer matrix $A$ by the python and calculate rank(A). Since $A$ is a random matrix, the rank is very likely to be 2. If the rank is not 2, generate another A. Repeat the test until you get a matrix with rank 2.\n",
    "\n",
    "- `A = rmat(3, 2)`\n",
    "- `np.linalg.matrix_rank(A)`\n"
   ]
  },
  {
   "cell_type": "code",
   "execution_count": 13,
   "metadata": {},
   "outputs": [
    {
     "name": "stdout",
     "output_type": "stream",
     "text": [
      "------------A-------------\n",
      "[[7. 8.]\n",
      " [5. 6.]\n",
      " [3. 8.]]\n",
      "--------------------------\n",
      "------------rank(A)-------------\n",
      "2\n",
      "--------------------------\n"
     ]
    }
   ],
   "source": [
    "#type your code here:\n"
   ]
  },
  {
   "cell_type": "markdown",
   "metadata": {},
   "source": [
    "#### Use this matrix in the rest of the question. If you need to generate more than one matrix, include all the matrices you generate in your lab report.\n",
    "\n",
    "#### (a) Define `u = A[:,[0]]`, `v = A[:,[1]]` to be the column vectors for A. To graph the column space Col(A) of A, enter the python commands:\n",
    "- `s, t = np.meshgrid(np.arange(-1, 1, 0.1), np.arange(-1, 1, 0.1))`\n",
    "- `X = s * u[0] + t * v[0]`\n",
    "- `Y = s * u[1] + t * v[1]`\n",
    "- `Z = s * u[2] + t * v[2]`\n",
    "- Use matplotlib to graph the cloumn space using `plot_surface` as in this [example](https://matplotlib.org/gallery/mplot3d/surface3d.html#sphx-glr-gallery-mplot3d-surface3d-py)\n",
    "- Set graph axis limit -10, 10.\n",
    "- Set the color map of the graph to `cm.hot`."
   ]
  },
  {
   "cell_type": "code",
   "execution_count": 14,
   "metadata": {},
   "outputs": [
    {
     "name": "stdout",
     "output_type": "stream",
     "text": [
      "------------u-------------\n",
      "[[7.]\n",
      " [5.]\n",
      " [3.]]\n",
      "--------------------------\n",
      "------------v-------------\n",
      "[[8.]\n",
      " [6.]\n",
      " [8.]]\n",
      "--------------------------\n"
     ]
    },
    {
     "name": "stderr",
     "output_type": "stream",
     "text": [
      "C:\\Users\\OMARME~1\\AppData\\Local\\Temp/ipykernel_23816/3205482725.py:15: MatplotlibDeprecationWarning: Calling gca() with keyword arguments was deprecated in Matplotlib 3.4. Starting two minor releases later, gca() will take no keyword arguments. The gca() function should only be used to get the current axes, or if no axes exist, create new axes with default keyword arguments. To create a new axes with non-default arguments, use plt.axes() or plt.subplot().\n",
      "  ax = fig.gca(projection='3d')\n"
     ]
    },
    {
     "data": {
      "image/png": "[encoded data removed]",
      "text/plain": [
       "<Figure size 432x288 with 2 Axes>"
      ]
     },
     "metadata": {
      "needs_background": "light"
     },
     "output_type": "display_data"
    }
   ],
   "source": [
    "#type your code here\n"
   ]
  },
  {
   "cell_type": "markdown",
   "metadata": {},
   "source": [
    "#### (b) Generate a random vector in R3 using the `rvect` function\n",
    "- b = rvect(3)"
   ]
  },
  {
   "cell_type": "code",
   "execution_count": 15,
   "metadata": {},
   "outputs": [
    {
     "name": "stdout",
     "output_type": "stream",
     "text": [
      "------------b-------------\n",
      "[[2.]\n",
      " [2.]\n",
      " [9.]]\n",
      "--------------------------\n"
     ]
    }
   ],
   "source": [
    "#type your code here:\n"
   ]
  },
  {
   "cell_type": "markdown",
   "metadata": {},
   "source": [
    "#### To graph the line Span(b) in the same figure as Col(A):\n",
    "- Copy the previous code that was used to graph Col(A)\n",
    "- Generate array r. `r = np.arange(-1, 1, 0.05)`\n",
    "- Plot the span(b). `ax.plot(r * b[0], r * b[1], r * b[2], 'b+', markersize=20)`\n",
    "- Note that the previous step should be before plt.show() to plot on the same figure.\n",
    "- Use `ax.view_init(45, 45)` change the values 45, 45 to rotate the figure to different view."
   ]
  },
  {
   "cell_type": "code",
   "execution_count": 16,
   "metadata": {},
   "outputs": [
    {
     "name": "stderr",
     "output_type": "stream",
     "text": [
      "C:\\Users\\OMARME~1\\AppData\\Local\\Temp/ipykernel_23816/2380683397.py:3: MatplotlibDeprecationWarning: Calling gca() with keyword arguments was deprecated in Matplotlib 3.4. Starting two minor releases later, gca() will take no keyword arguments. The gca() function should only be used to get the current axes, or if no axes exist, create new axes with default keyword arguments. To create a new axes with non-default arguments, use plt.axes() or plt.subplot().\n",
      "  ax = fig.gca(projection='3d')\n"
     ]
    },
    {
     "data": {
      "image/png": "[encoded data removed]",
      "text/plain": [
       "<Figure size 432x288 with 2 Axes>"
      ]
     },
     "metadata": {
      "needs_background": "light"
     },
     "output_type": "display_data"
    }
   ],
   "source": [
    "#type your code here:\n"
   ]
  },
  {
   "cell_type": "markdown",
   "metadata": {},
   "source": [
    "#### (c) Can you find a vector $x \\in R^2$ such that $Ax = b$, where $A$ is the matrix and $b$ is the vector that you have generated? Explain why or why not using the graph from part (b).\n"
   ]
  },
  {
   "cell_type": "markdown",
   "metadata": {},
   "source": [
    "### -------------------------------------Type your answer here------------------------------------------------------------ ###\n",
    "\n",
    "\n",
    "\n",
    "### ---------------------------------------------------------------------------------------------------------------------------------- ###"
   ]
  },
  {
   "cell_type": "markdown",
   "metadata": {},
   "source": [
    "#### (d) Generate a random vector lying in Col(A) where:\n",
    "\n",
    "- `z = np.random.rand(2, 1)`\n",
    "- `c = A @ z`"
   ]
  },
  {
   "cell_type": "code",
   "execution_count": 17,
   "metadata": {},
   "outputs": [
    {
     "name": "stdout",
     "output_type": "stream",
     "text": [
      "---------c-------------\n",
      "[[7.06252724]\n",
      " [5.23346768]\n",
      " [6.04768326]]\n",
      "-----------------------\n"
     ]
    }
   ],
   "source": [
    "#type your code here:\n"
   ]
  },
  {
   "cell_type": "markdown",
   "metadata": {},
   "source": [
    "#### Plot a new graph of Span(c) and Col(A)"
   ]
  },
  {
   "cell_type": "code",
   "execution_count": 18,
   "metadata": {},
   "outputs": [
    {
     "name": "stderr",
     "output_type": "stream",
     "text": [
      "C:\\Users\\OMARME~1\\AppData\\Local\\Temp/ipykernel_23816/3222810454.py:3: MatplotlibDeprecationWarning: Calling gca() with keyword arguments was deprecated in Matplotlib 3.4. Starting two minor releases later, gca() will take no keyword arguments. The gca() function should only be used to get the current axes, or if no axes exist, create new axes with default keyword arguments. To create a new axes with non-default arguments, use plt.axes() or plt.subplot().\n",
      "  ax = fig.gca(projection='3d')\n"
     ]
    },
    {
     "data": {
      "image/png": "[encoded data removed]",
      "text/plain": [
       "<Figure size 432x288 with 2 Axes>"
      ]
     },
     "metadata": {
      "needs_background": "light"
     },
     "output_type": "display_data"
    }
   ],
   "source": [
    "#type your code here\n"
   ]
  },
  {
   "cell_type": "markdown",
   "metadata": {},
   "source": [
    "# Question 4: Reduced Row Echelon Form and Null Space"
   ]
  },
  {
   "cell_type": "markdown",
   "metadata": {},
   "source": [
    "#### First generate a random $3 \\times 3$ integer matrix $B$ and check its rank:\n",
    "- `B = rmat(3, 3)`\n",
    "- `np.linalg.matrix_rank(B)`"
   ]
  },
  {
   "cell_type": "code",
   "execution_count": 19,
   "metadata": {},
   "outputs": [
    {
     "name": "stdout",
     "output_type": "stream",
     "text": [
      "-----------B---------------\n",
      "[[1. 8. 7.]\n",
      " [8. 8. 8.]\n",
      " [8. 0. 1.]]\n",
      "--------------------------\n",
      "----------rank(B)------------\n",
      "3\n",
      "--------------------------\n"
     ]
    }
   ],
   "source": [
    "#type your code here:\n"
   ]
  },
  {
   "cell_type": "markdown",
   "metadata": {},
   "source": [
    "#### Since $B$ is random, it is very likely to have rank $3$. If not, generate another $B$ until this is true. Now use $B$ to define a $3 \\times 5$ matrix $A$ and its reduced row echelon form $R$ by\n",
    "\n",
    "- `A = np.block([B[:, [0]], B[:, [1]], 2 * B[:, [0]] + 3 * B[:, [1]], 4 * B[:, [0]] - 5 * B[:, [1]], B[:, [2]]])`\n",
    "- `R = rref(A)`\n",
    "\n",
    "#### (a) Use the definition of $A$ in terms of $B$ and the Column Correspondence Property to answer the following.\n",
    "\n",
    "- Explain why columns #1, #2, and #5 are the pivot columns of A and R."
   ]
  },
  {
   "cell_type": "code",
   "execution_count": 20,
   "metadata": {},
   "outputs": [
    {
     "name": "stdout",
     "output_type": "stream",
     "text": [
      "-----------A---------------\n",
      "[[  1.   8.  26. -36.   7.]\n",
      " [  8.   8.  40.  -8.   8.]\n",
      " [  8.   0.  16.  32.   1.]]\n",
      "--------------------------\n",
      "----------R------------\n",
      "[[ 1.  0.  2.  4.  0.]\n",
      " [ 0.  1.  3. -5.  0.]\n",
      " [ 0.  0.  0.  0.  1.]]\n",
      "--------------------------\n"
     ]
    }
   ],
   "source": [
    "#type your code here:\n"
   ]
  },
  {
   "cell_type": "markdown",
   "metadata": {},
   "source": [
    "#### (b) Let $V$ be the set of solutions to the homogeneous system of equations $Ax = 0$ (the null space of $A$). In the equation $Ax = 0$ (where $x \\in R^5$), \n",
    "\n",
    "- what are the free variables and what is dim V ?"
   ]
  },
  {
   "cell_type": "markdown",
   "metadata": {},
   "source": [
    "#### (c) Use the python function that was defined in the first cell `nulbasis` to calculate the special solutions to the system of equations $Ax = 0$:\n",
    "\n",
    "- `N = nulbasis(A)`\n",
    "\n",
    "#### The columns of $N$ are the solutions to $Ax = 0$ obtained by setting one free variable to 1 and all the other free variables to 0. Define:\n",
    "- `v1 = N[:,[0]]`\n",
    "- `v2 = N[:,[1]]`\n",
    "\n",
    "(Notice that `v1` and `v2` are 5-component vectors, not scalars.)\n",
    "\n",
    "1. Which component of v1 is 1 and which components of v1 are zero?\n",
    "\n",
    "2. Which component of v2 is 1 and which components of v2 are zero?\n",
    "\n",
    "3. Check by python that v1 and v2 are in null space of A."
   ]
  },
  {
   "cell_type": "code",
   "execution_count": 21,
   "metadata": {},
   "outputs": [
    {
     "name": "stdout",
     "output_type": "stream",
     "text": [
      "-------------N--------------\n",
      "[[-2. -4.]\n",
      " [-3.  5.]\n",
      " [ 1.  0.]\n",
      " [ 0.  1.]\n",
      " [ 0.  0.]]\n",
      "----------------------------\n",
      "-------------v1--------------\n",
      "[[-2.]\n",
      " [-3.]\n",
      " [ 1.]\n",
      " [ 0.]\n",
      " [ 0.]]\n",
      "----------------------------\n",
      "-------------v2--------------\n",
      "[[-4.]\n",
      " [ 5.]\n",
      " [ 0.]\n",
      " [ 1.]\n",
      " [ 0.]]\n",
      "----------------------------\n",
      "-------------A @ v1--------------\n",
      "[[0.]\n",
      " [0.]\n",
      " [0.]]\n",
      "----------------------------\n",
      "-------------A @ v2--------------\n",
      "[[0.]\n",
      " [0.]\n",
      " [0.]]\n",
      "----------------------------\n"
     ]
    }
   ],
   "source": [
    "#type your code here:\n"
   ]
  },
  {
   "cell_type": "markdown",
   "metadata": {},
   "source": [
    "#### (d) Now generate a random linear combination `x` of the vectors `v1` and `v2`:\n",
    "- `s = np.random.rand(1)` \n",
    "- `t = np.random.rand(1)` \n",
    "- `x = s * v1 + t * v2`\n",
    "\n",
    "(Note that each occurrence of rand(1) generates a different random coefficient).\n",
    "\n",
    "- Confirm by python that $x$ satisfies $Ax = 0$ and $Rx = 0$."
   ]
  },
  {
   "cell_type": "code",
   "execution_count": 22,
   "metadata": {},
   "outputs": [
    {
     "name": "stdout",
     "output_type": "stream",
     "text": [
      "-------------A @ x--------------\n",
      "[[ 1.77635684e-15]\n",
      " [-7.10542736e-15]\n",
      " [ 0.00000000e+00]]\n",
      "--------------------------------\n",
      "-------------R @ x--------------\n",
      "[[0.]\n",
      " [0.]\n",
      " [0.]]\n",
      "--------------------------------\n"
     ]
    }
   ],
   "source": [
    "#type your code here:\n"
   ]
  }
 ],
 "metadata": {
  "kernelspec": {
   "display_name": "Python 3 (ipykernel)",
   "language": "python",
   "name": "python3"
  },
  "language_info": {
   "codemirror_mode": {
    "name": "ipython",
    "version": 3
   },
   "file_extension": ".py",
   "mimetype": "text/x-python",
   "name": "python",
   "nbconvert_exporter": "python",
   "pygments_lexer": "ipython3",
   "version": "3.8.5"
  }
 },
 "nbformat": 4,
 "nbformat_minor": 4
}
