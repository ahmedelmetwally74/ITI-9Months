{
 "cells": [
  {
   "cell_type": "markdown",
   "metadata": {},
   "source": [
    "# Notebook 8 - Visualization with Seaborn\n",
    "\n",
    "<img src=\"https://seaborn.pydata.org/_images/logo-wide-lightbg.svg\" width = \"300\">\n"
   ]
  },
  {
   "cell_type": "code",
   "execution_count": null,
   "metadata": {},
   "outputs": [],
   "source": [
    "%matplotlib inline\n",
    "import matplotlib.pyplot as plt\n",
    "import seaborn as sns\n",
    "import numpy as np\n",
    "import pandas as pd\n",
    "\n",
    "sns.set()  # seaborn's method to set its chart style"
   ]
  },
  {
   "cell_type": "markdown",
   "metadata": {},
   "source": [
    "## Bar plot "
   ]
  },
  {
   "cell_type": "code",
   "execution_count": null,
   "metadata": {},
   "outputs": [],
   "source": [
    "# reading the dataset  \n",
    "df = sns.load_dataset('tips')  \n",
    "df"
   ]
  },
  {
   "cell_type": "code",
   "execution_count": null,
   "metadata": {
    "scrolled": false
   },
   "outputs": [],
   "source": [
    "# Plotting bar plot\n",
    "sns.barplot(x ='sex', y ='total_bill', data = df, estimator='mean');"
   ]
  },
  {
   "cell_type": "markdown",
   "metadata": {},
   "source": [
    "### Color palletes\n",
    "\n",
    "<img src=\"https://jlcoto.github.io/img/brewer_sequential.png\" width = \"800\">"
   ]
  },
  {
   "cell_type": "code",
   "execution_count": null,
   "metadata": {
    "scrolled": false
   },
   "outputs": [],
   "source": [
    "# Plotting bar plot\n",
    "sns.barplot(x ='sex', y ='total_bill', data = df,\n",
    "            palette ='plasma', estimator='mean')"
   ]
  },
  {
   "cell_type": "markdown",
   "metadata": {},
   "source": [
    "### Change orientation"
   ]
  },
  {
   "cell_type": "code",
   "execution_count": null,
   "metadata": {},
   "outputs": [],
   "source": [
    "# Plotting bar plot\n",
    "sns.barplot(y ='sex', x ='total_bill', data = df,   \n",
    "            palette ='Oranges', estimator='median', orient=\"h\")"
   ]
  },
  {
   "cell_type": "markdown",
   "metadata": {},
   "source": [
    "### Stacked bar plot"
   ]
  },
  {
   "cell_type": "code",
   "execution_count": null,
   "metadata": {},
   "outputs": [],
   "source": [
    "# create DataFrame\n",
    "df = pd.DataFrame({'High Temp': [28, 30, 34, 38, 45, 42,\n",
    "                                 38, 35, 32, 28, 25, 21],\n",
    "                   'Low Temp': [22, 26, 30, 32, 41, 38,\n",
    "                                32, 31, 28, 22, 15, 15],\n",
    "                   'Avg Temp': [25, 28, 32, 35, 43, 40, \n",
    "                                35, 33, 30, 25, 20, 18]},\n",
    "                  index=['Jan', 'Feb', 'Mar', 'Apr', 'May',\n",
    "                         'Jun', 'Jul', 'Aug', 'Sep', 'Oct',\n",
    "                         'Nov', 'Dec'])\n",
    " \n",
    "df"
   ]
  },
  {
   "cell_type": "code",
   "execution_count": null,
   "metadata": {},
   "outputs": [],
   "source": [
    "# create stacked bar chart for monthly temperatures\n",
    "df.plot(kind='bar', stacked=True, color=['red', 'skyblue', 'green'])\n",
    " \n",
    "# labels for x & y axis\n",
    "plt.xlabel('Months')\n",
    "plt.ylabel('Temp ranges in Degree Celsius')\n",
    " \n",
    "# title of plot\n",
    "plt.title('Monthly Temperatures in a year')"
   ]
  },
  {
   "cell_type": "markdown",
   "metadata": {},
   "source": [
    "### Grouped bar chart"
   ]
  },
  {
   "cell_type": "code",
   "execution_count": null,
   "metadata": {},
   "outputs": [],
   "source": [
    "penguins = sns.load_dataset(\"penguins\")\n",
    "\n",
    "# Draw a nested barplot by species and sex\n",
    "g = sns.catplot(\n",
    "    data=penguins, kind=\"bar\",\n",
    "    x=\"species\", y=\"body_mass_g\", hue=\"sex\",\n",
    "    errorbar=\"sd\", alpha=.6, height=6\n",
    ")\n",
    "g.set_axis_labels(\"\", \"Body mass (g)\")\n",
    "g.legend.set_title(\"\")"
   ]
  },
  {
   "cell_type": "markdown",
   "metadata": {},
   "source": [
    "## Count plot"
   ]
  },
  {
   "cell_type": "code",
   "execution_count": null,
   "metadata": {},
   "outputs": [],
   "source": [
    "sns.countplot(x ='sex', data = df);"
   ]
  },
  {
   "cell_type": "markdown",
   "metadata": {},
   "source": [
    "### Box plot"
   ]
  },
  {
   "cell_type": "code",
   "execution_count": null,
   "metadata": {},
   "outputs": [],
   "source": [
    "sns.boxplot(y='total_bill', data=df);"
   ]
  },
  {
   "cell_type": "markdown",
   "metadata": {},
   "source": [
    "### Use x axis"
   ]
  },
  {
   "cell_type": "code",
   "execution_count": null,
   "metadata": {
    "scrolled": false
   },
   "outputs": [],
   "source": [
    "sns.boxplot(x='day', y='total_bill', data=df);"
   ]
  },
  {
   "cell_type": "markdown",
   "metadata": {},
   "source": [
    "### Use hue"
   ]
  },
  {
   "cell_type": "markdown",
   "metadata": {},
   "source": [
    "'hue' is used to visualize the data of different categories in one plot."
   ]
  },
  {
   "cell_type": "code",
   "execution_count": null,
   "metadata": {
    "scrolled": false
   },
   "outputs": [],
   "source": [
    "\n",
    "sns.boxplot(x='day', y='total_bill', data=df, hue='smoker') ;"
   ]
  },
  {
   "cell_type": "markdown",
   "metadata": {},
   "source": [
    "## Violinplot"
   ]
  },
  {
   "cell_type": "code",
   "execution_count": null,
   "metadata": {},
   "outputs": [],
   "source": [
    "sns.violinplot(y='total_bill', data=df);"
   ]
  },
  {
   "cell_type": "code",
   "execution_count": null,
   "metadata": {},
   "outputs": [],
   "source": [
    "sns.violinplot(x='day', y='total_bill', data=df, \n",
    "               hue='sex', split=True) "
   ]
  },
  {
   "cell_type": "markdown",
   "metadata": {},
   "source": [
    "## Stripplot"
   ]
  },
  {
   "cell_type": "markdown",
   "metadata": {},
   "source": [
    "It basically creates a scatter plot based on the category.\n",
    "\n"
   ]
  },
  {
   "cell_type": "code",
   "execution_count": null,
   "metadata": {},
   "outputs": [],
   "source": [
    "sns.stripplot(x='day', y='total_bill', data=df, \n",
    "              jitter=True);"
   ]
  },
  {
   "cell_type": "markdown",
   "metadata": {},
   "source": [
    "### Use hue"
   ]
  },
  {
   "cell_type": "code",
   "execution_count": null,
   "metadata": {
    "scrolled": false
   },
   "outputs": [],
   "source": [
    "sns.stripplot(x='day', y='total_bill', data=df, \n",
    "              hue='smoker') "
   ]
  },
  {
   "cell_type": "markdown",
   "metadata": {},
   "source": [
    "### Use dodge"
   ]
  },
  {
   "cell_type": "code",
   "execution_count": null,
   "metadata": {},
   "outputs": [],
   "source": [
    "sns.stripplot(x='day', y='total_bill', data=df, \n",
    "              jitter=False, hue='smoker', dodge=True) "
   ]
  },
  {
   "cell_type": "markdown",
   "metadata": {},
   "source": [
    "### Use jitter"
   ]
  },
  {
   "cell_type": "code",
   "execution_count": null,
   "metadata": {},
   "outputs": [],
   "source": [
    "sns.stripplot(x='day', y='total_bill', data=df, \n",
    "              jitter=True, hue='smoker', dodge=True) "
   ]
  },
  {
   "cell_type": "markdown",
   "metadata": {},
   "source": [
    "## Histogram"
   ]
  },
  {
   "cell_type": "code",
   "execution_count": null,
   "metadata": {},
   "outputs": [],
   "source": [
    "# Generate a random univariate dataset\n",
    "rs = np.random.RandomState(10)\n",
    "d = rs.normal(size=100)\n",
    " \n",
    "# Plot a simple histogram\n",
    "sns.histplot(d, kde=False, color=\"m\")"
   ]
  },
  {
   "cell_type": "markdown",
   "metadata": {},
   "source": [
    "### Use KDE"
   ]
  },
  {
   "cell_type": "markdown",
   "metadata": {},
   "source": [
    "In statistics, kernel density estimation (KDE) is the application of kernel smoothing for probability density estimation, i.e., a non-parametric method to estimate the probability density function of a random variable based on kernels as weights."
   ]
  },
  {
   "cell_type": "code",
   "execution_count": null,
   "metadata": {
    "scrolled": false
   },
   "outputs": [],
   "source": [
    "# Plot a simple histogram and kde\n",
    "sns.histplot(d, kde=True, color=\"m\")"
   ]
  },
  {
   "cell_type": "code",
   "execution_count": null,
   "metadata": {},
   "outputs": [],
   "source": [
    "# data x and y axis for seaborn\n",
    "x= np.random.randn(200)\n",
    "y = np.random.randn(200)\n",
    " \n",
    "# Kde for x var\n",
    "sns.kdeplot(x)"
   ]
  },
  {
   "cell_type": "code",
   "execution_count": null,
   "metadata": {},
   "outputs": [],
   "source": [
    "sns.kdeplot(x, fill = True)"
   ]
  },
  {
   "cell_type": "code",
   "execution_count": null,
   "metadata": {},
   "outputs": [],
   "source": [
    "sns.kdeplot(x=x,y=y)"
   ]
  },
  {
   "cell_type": "code",
   "execution_count": null,
   "metadata": {},
   "outputs": [],
   "source": [
    "sns.kdeplot(x=x,y=y,fill = True, cbar=True)"
   ]
  },
  {
   "cell_type": "markdown",
   "metadata": {},
   "source": [
    "## Line plot"
   ]
  },
  {
   "cell_type": "code",
   "execution_count": null,
   "metadata": {},
   "outputs": [],
   "source": [
    "fmri = sns.load_dataset(\"fmri\")\n",
    "fmri"
   ]
  },
  {
   "cell_type": "code",
   "execution_count": null,
   "metadata": {},
   "outputs": [],
   "source": [
    "# Plot the responses for different\\\n",
    "# events and regions\n",
    "sns.lineplot(x=\"timepoint\",\n",
    "             y=\"signal\",\n",
    "             hue=\"region\",\n",
    "             style=\"event\",\n",
    "             data=fmri);"
   ]
  },
  {
   "cell_type": "markdown",
   "metadata": {},
   "source": [
    "## Area chart"
   ]
  },
  {
   "cell_type": "code",
   "execution_count": null,
   "metadata": {},
   "outputs": [],
   "source": [
    "#set seaborn style\n",
    "sns.set_theme()\n",
    " \n",
    "#define DataFrame\n",
    "df = pd.DataFrame({'period': [1, 2, 3, 4, 5, 6, 7, 8],\n",
    "                   'team_A': [20, 12, 15, 14, 19, 23, 25, 29],\n",
    "                   'team_B': [5, 7, 7, 9, 12, 9, 9, 4],\n",
    "                   'team_C': [11, 8, 10, 6, 6, 5, 9, 12]})\n",
    "df"
   ]
  },
  {
   "cell_type": "code",
   "execution_count": null,
   "metadata": {},
   "outputs": [],
   "source": [
    "#create area chart\n",
    "plt.stackplot(df.period, df.team_A, df.team_B, df.team_C);"
   ]
  },
  {
   "cell_type": "code",
   "execution_count": null,
   "metadata": {},
   "outputs": [],
   "source": [
    "#define colors to use in chart\n",
    "color_map = ['red', 'steelblue', 'pink']\n",
    "    \n",
    "#create area chart\n",
    "plt.stackplot(df.period, df.team_A, df.team_B, df.team_C,\n",
    "              labels=['Team A', 'Team B', 'Team C'],\n",
    "              colors=color_map)\n",
    "\n",
    "#add legend\n",
    "plt.legend(loc='upper left')\n",
    "\n",
    "#add axis labels\n",
    "plt.xlabel('Period')\n",
    "plt.ylabel('Points Scored')\n",
    "\n",
    "#display area chart\n",
    "plt.show()"
   ]
  },
  {
   "cell_type": "markdown",
   "metadata": {},
   "source": [
    "## Multivariate views on complex datasets"
   ]
  },
  {
   "cell_type": "markdown",
   "metadata": {},
   "source": [
    "### jointplot"
   ]
  },
  {
   "cell_type": "markdown",
   "metadata": {},
   "source": [
    "Some seaborn functions combine multiple kinds of plots to quickly give informative summaries of a dataset. One, jointplot(), focuses on a single relationship. It plots the joint distribution between two variables along with each variable’s marginal distribution:"
   ]
  },
  {
   "cell_type": "code",
   "execution_count": null,
   "metadata": {},
   "outputs": [],
   "source": [
    "penguins = sns.load_dataset(\"penguins\")\n",
    "sns.jointplot(data=penguins, x=\"flipper_length_mm\", y=\"bill_length_mm\", hue=\"species\");"
   ]
  },
  {
   "cell_type": "markdown",
   "metadata": {},
   "source": [
    "### pairplot"
   ]
  },
  {
   "cell_type": "markdown",
   "metadata": {},
   "source": [
    "The other, pairplot(), takes a broader view: it shows joint and marginal distributions for all pairwise relationships and for each variable, respectively:"
   ]
  },
  {
   "cell_type": "code",
   "execution_count": null,
   "metadata": {
    "scrolled": false
   },
   "outputs": [],
   "source": [
    "sns.pairplot(data=penguins, hue=\"species\");"
   ]
  },
  {
   "cell_type": "markdown",
   "metadata": {},
   "source": [
    "### Multiple plots"
   ]
  },
  {
   "cell_type": "code",
   "execution_count": null,
   "metadata": {},
   "outputs": [],
   "source": [
    "# loading of a dataframe from seaborn \n",
    "df = sns.load_dataset('tips') \n",
    "  \n",
    "############# Main Section         ############# \n",
    "# Form a facetgrid using columns with a hue \n",
    "graph = sns.FacetGrid(df, col =\"sex\",  hue =\"day\") \n",
    "\n",
    "# map the above form facetgrid with some attributes \n",
    "graph.map(plt.scatter, \"total_bill\", \"tip\", edgecolor =\"w\").add_legend() \n",
    "\n",
    "# show the object \n",
    "plt.show() "
   ]
  },
  {
   "cell_type": "code",
   "execution_count": null,
   "metadata": {},
   "outputs": [],
   "source": [
    "# Form a facetgrid using columns with a hue \n",
    "graph = sns.FacetGrid(df, row ='smoker', col ='time') \n",
    "# map the above form facetgrid with some attributes \n",
    "graph.map(plt.hist, 'total_bill', bins = 15, color ='orange') \n",
    "# show the object \n",
    "plt.show()"
   ]
  },
  {
   "cell_type": "code",
   "execution_count": null,
   "metadata": {},
   "outputs": [],
   "source": [
    "#create DataFrame\n",
    "df = pd.DataFrame({'team': ['A', 'A', 'A', 'A', 'B', 'B', 'B', 'B'],\n",
    "                   'points': [19, 12, 15, 14, 19, 23, 25, 29],\n",
    "                   'assists': [13, 15, 11, 8, 6, 8, 11, 14],\n",
    "                   'rebounds': [11, 7, 8, 12, 13, 7, 6, 8],\n",
    "                   'blocks': [1, 2, 2, 3, 5, 4, 3, 3]})\n",
    "\n",
    "#view DataFrame\n",
    "df"
   ]
  },
  {
   "cell_type": "code",
   "execution_count": null,
   "metadata": {},
   "outputs": [],
   "source": [
    "#set seaborn plotting aesthetics as default\n",
    "sns.set()\n",
    "\n",
    "#define plotting region (2 rows, 2 columns)\n",
    "fig, axes = plt.subplots(2, 2)\n",
    "\n",
    "#create boxplot in each subplot\n",
    "sns.boxplot(data=df, x='team', y='points', ax=axes[0,0])\n",
    "sns.boxplot(data=df, x='team', y='assists', ax=axes[0,1])\n",
    "sns.boxplot(data=df, x='team', y='rebounds', ax=axes[1,0])\n",
    "sns.boxplot(data=df, x='team', y='blocks', ax=axes[1,1])"
   ]
  },
  {
   "cell_type": "code",
   "execution_count": null,
   "metadata": {},
   "outputs": [],
   "source": [
    "#set seaborn plotting aesthetics as default\n",
    "sns.set()\n",
    "\n",
    "#define plotting region (1 row, 2 columns)\n",
    "fig, axes = plt.subplots(1, 2)\n",
    "\n",
    "#create boxplot in each subplot\n",
    "sns.violinplot(data=df, x='team', y='points', ax=axes[0])\n",
    "sns.violinplot(data=df, x='team', y='assists', ax=axes[1])"
   ]
  },
  {
   "cell_type": "markdown",
   "metadata": {},
   "source": [
    "## Heat Map"
   ]
  },
  {
   "cell_type": "code",
   "execution_count": null,
   "metadata": {},
   "outputs": [],
   "source": [
    "# generating 2-D 10x10 matrix of random numbers \n",
    "# from 1 to 100 \n",
    "data = np.random.randint(low=1, \n",
    "                         high=100, \n",
    "                         size=(10, 10)) \n",
    "data"
   ]
  },
  {
   "cell_type": "code",
   "execution_count": null,
   "metadata": {},
   "outputs": [],
   "source": [
    "# setting the parameter values \n",
    "vmin = 1\n",
    "vmax = 100\n",
    "\n",
    "# plotting the heatmap \n",
    "hm = sns.heatmap(data=data,\n",
    "                vmin=vmin, \n",
    "                vmax=vmax) \n",
    "  \n",
    "# displaying the plotted heatmap \n",
    "plt.show() "
   ]
  },
  {
   "cell_type": "code",
   "execution_count": null,
   "metadata": {},
   "outputs": [],
   "source": [
    "# setting the parameter values \n",
    "annot = True\n",
    "  \n",
    "# plotting the heatmap \n",
    "hm = sns.heatmap(data=data, \n",
    "                annot=annot) \n",
    "  \n",
    "# displaying the plotted heatmap \n",
    "plt.show() "
   ]
  }
 ],
 "metadata": {
  "anaconda-cloud": {},
  "jupytext": {
   "formats": "ipynb,md"
  },
  "kernelspec": {
   "display_name": "Python 3 (ipykernel)",
   "language": "python",
   "name": "python3"
  },
  "language_info": {
   "codemirror_mode": {
    "name": "ipython",
    "version": 3
   },
   "file_extension": ".py",
   "mimetype": "text/x-python",
   "name": "python",
   "nbconvert_exporter": "python",
   "pygments_lexer": "ipython3",
   "version": "3.11.4"
  }
 },
 "nbformat": 4,
 "nbformat_minor": 4
}
